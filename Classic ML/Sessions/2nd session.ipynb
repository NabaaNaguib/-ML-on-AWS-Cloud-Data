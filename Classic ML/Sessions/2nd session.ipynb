{
 "cells": [
  {
   "cell_type": "code",
   "execution_count": 1,
   "metadata": {},
   "outputs": [],
   "source": [
    "import numpy as np"
   ]
  },
  {
   "cell_type": "code",
   "execution_count": 2,
   "metadata": {},
   "outputs": [
    {
     "data": {
      "text/plain": [
       "array([90, 40,  9, 30, 80, 67, 39, 15, 33, 79], dtype=int64)"
      ]
     },
     "execution_count": 2,
     "metadata": {},
     "output_type": "execute_result"
    }
   ],
   "source": [
    "rng = np.random.default_rng(seed =1701)\n",
    "x = rng.integers(100,size=10)\n",
    "x"
   ]
  },
  {
   "cell_type": "code",
   "execution_count": 6,
   "metadata": {},
   "outputs": [
    {
     "name": "stdout",
     "output_type": "stream",
     "text": [
      "[30, 15, 9]\n"
     ]
    },
    {
     "data": {
      "text/plain": [
       "array([30, 15,  9], dtype=int64)"
      ]
     },
     "execution_count": 6,
     "metadata": {},
     "output_type": "execute_result"
    }
   ],
   "source": [
    "print([x[3],x[7],x[2]])    #list of indices of the 3 most important features.\n",
    "ind = [3,7,2]\n",
    "x[ind]                     #fancy indexing: indexing numpy array by a list of indices."
   ]
  },
  {
   "cell_type": "code",
   "execution_count": 7,
   "metadata": {},
   "outputs": [
    {
     "data": {
      "text/plain": [
       "array([[30, 15],\n",
       "       [80, 67]], dtype=int64)"
      ]
     },
     "execution_count": 7,
     "metadata": {},
     "output_type": "execute_result"
    }
   ],
   "source": [
    "ind = np.array([[3,7],[4,5]])\n",
    "x[ind]\n"
   ]
  },
  {
   "cell_type": "code",
   "execution_count": 12,
   "metadata": {},
   "outputs": [
    {
     "name": "stdout",
     "output_type": "stream",
     "text": [
      "[[ 0  1  2  3]\n",
      " [ 4  5  6  7]\n",
      " [ 8  9 10 11]]\n"
     ]
    }
   ],
   "source": [
    "X = np.arange(12).reshape((3,4))\n",
    "print(X)\n"
   ]
  },
  {
   "cell_type": "code",
   "execution_count": 14,
   "metadata": {},
   "outputs": [
    {
     "data": {
      "text/plain": [
       "array([ 2,  5, 11])"
      ]
     },
     "execution_count": 14,
     "metadata": {},
     "output_type": "execute_result"
    }
   ],
   "source": [
    "row = np.array([0,1,2])\n",
    "col = np.array([2,1,3])\n",
    "X[row,col] "
   ]
  },
  {
   "cell_type": "code",
   "execution_count": 16,
   "metadata": {},
   "outputs": [
    {
     "data": {
      "text/plain": [
       "array([[ 2,  1,  3],\n",
       "       [ 6,  5,  7],\n",
       "       [10,  9, 11]])"
      ]
     },
     "execution_count": 16,
     "metadata": {},
     "output_type": "execute_result"
    }
   ],
   "source": [
    "X[row[:,np.newaxis],col]"
   ]
  },
  {
   "cell_type": "code",
   "execution_count": 17,
   "metadata": {},
   "outputs": [],
   "source": [
    "################when we say arrya of ( x[]) the arguments inside are as follows: [depth,rows,coulmns] for 3D. [rows,coulmns] for 2D. [rows] for 1D.#############"
   ]
  },
  {
   "cell_type": "code",
   "execution_count": 18,
   "metadata": {},
   "outputs": [
    {
     "data": {
      "text/plain": [
       "array([10,  8,  9])"
      ]
     },
     "execution_count": 18,
     "metadata": {},
     "output_type": "execute_result"
    }
   ],
   "source": [
    "X[2,[2,0,1]]"
   ]
  },
  {
   "cell_type": "code",
   "execution_count": 19,
   "metadata": {},
   "outputs": [
    {
     "data": {
      "text/plain": [
       "array([[ 6,  4,  5],\n",
       "       [10,  8,  9]])"
      ]
     },
     "execution_count": 19,
     "metadata": {},
     "output_type": "execute_result"
    }
   ],
   "source": [
    "X[1: , [2,0,1]]"
   ]
  },
  {
   "cell_type": "code",
   "execution_count": 26,
   "metadata": {},
   "outputs": [
    {
     "data": {
      "text/plain": [
       "array([[ 0,  2],\n",
       "       [ 4,  6],\n",
       "       [ 8, 10]])"
      ]
     },
     "execution_count": 26,
     "metadata": {},
     "output_type": "execute_result"
    }
   ],
   "source": [
    "mask = np.array([True,False,True,False])\n",
    "X[row[:,np.newaxis],mask]              #(3,1)  (1,4)   >>>>> the mask is indicating that we will take the 0th and 2nd column of the rows and skip the 1st and 3rd column.\n",
    "                                       #which means that the shape is (3,2). 3 from the np.newaxis and 2 that were indicated from the mask."
   ]
  },
  {
   "cell_type": "code",
   "execution_count": 25,
   "metadata": {},
   "outputs": [
    {
     "data": {
      "text/plain": [
       "array([[1, 0, 1, 0],\n",
       "       [5, 4, 5, 4],\n",
       "       [9, 8, 9, 8]])"
      ]
     },
     "execution_count": 25,
     "metadata": {},
     "output_type": "execute_result"
    }
   ],
   "source": [
    "mask = np.array([1,0,1,0])\n",
    "X[row[:,np.newaxis],mask]              #this one is different from the previous one, this one the mask is an array of integers but the previous one was an array of booleans which means it indicates condition that\n",
    "                                       #the row should satisfy"
   ]
  },
  {
   "cell_type": "code",
   "execution_count": 27,
   "metadata": {},
   "outputs": [
    {
     "data": {
      "text/plain": [
       "array([[ 0,  2],\n",
       "       [ 4,  6],\n",
       "       [ 8, 10]])"
      ]
     },
     "execution_count": 27,
     "metadata": {},
     "output_type": "execute_result"
    }
   ],
   "source": [
    "mask = np.array([True,False,True,False])\n",
    "X[:,mask]                                        #this gave the same result as the 1st one because the X is from the rows (X[row[:,np.newaxis],col]) \n",
    "                                                 #and that is the same condition we used for the rows at the 1st example.\n",
    "#keep in mind that in all of these, the mask has to have the same number of values as the number of columns of the original array.\n",
    "#and the output of the mask if conditional have to have the same number of values as the number of rows of the original array."
   ]
  },
  {
   "cell_type": "code",
   "execution_count": 54,
   "metadata": {},
   "outputs": [],
   "source": [
    "mean = [0,0]\n",
    "cov = [[1,2] , [2,5]]\n",
    "X = rng.multivariate_normal(mean, cov, 100)"
   ]
  },
  {
   "cell_type": "code",
   "execution_count": 55,
   "metadata": {},
   "outputs": [
    {
     "data": {
      "text/plain": [
       "(100, 2)"
      ]
     },
     "execution_count": 55,
     "metadata": {},
     "output_type": "execute_result"
    }
   ],
   "source": [
    "X.shape"
   ]
  },
  {
   "cell_type": "code",
   "execution_count": 56,
   "metadata": {},
   "outputs": [
    {
     "data": {
      "image/png": "[encoded data removed]",
      "text/plain": [
       "<Figure size 640x480 with 1 Axes>"
      ]
     },
     "metadata": {},
     "output_type": "display_data"
    }
   ],
   "source": [
    "import matplotlib.pyplot as plt\n",
    "plt.scatter(X[:,0] , X[:,1])\n",
    "plt.show()"
   ]
  },
  {
   "cell_type": "code",
   "execution_count": 57,
   "metadata": {},
   "outputs": [
    {
     "name": "stdout",
     "output_type": "stream",
     "text": [
      "[41 25 90 46 67 64 28 92 68 77 10 55 43 63 33 11 26  5 27 80]\n",
      "(20, 2)\n"
     ]
    }
   ],
   "source": [
    "indices = np.random.choice(X.shape[0] , 20 , replace=False)              #replace=False means that the same index will not be chosen again (no repetition).\n",
    "val = X[indices]\n",
    "print(indices)\n",
    "print(val.shape)"
   ]
  },
  {
   "cell_type": "code",
   "execution_count": 58,
   "metadata": {},
   "outputs": [
    {
     "data": {
      "image/png": "[encoded data removed]",
      "text/plain": [
       "<Figure size 640x480 with 1 Axes>"
      ]
     },
     "metadata": {},
     "output_type": "display_data"
    }
   ],
   "source": [
    "plt.scatter(X[:,0] , X[:,1])\n",
    "plt.scatter(val[:,0], val[:,1]  , edgecolor='black' , s=200 , c='r' , facecolor='none')\n",
    "plt.show()\n",
    "\n",
    "#this is an example of fancy indexing on how to split dataset into train and validation set (for example)."
   ]
  },
  {
   "cell_type": "code",
   "execution_count": 61,
   "metadata": {},
   "outputs": [
    {
     "data": {
      "text/plain": [
       "array([ 0, 89, 89,  3, 89,  5,  6,  7, 89,  9])"
      ]
     },
     "execution_count": 61,
     "metadata": {},
     "output_type": "execute_result"
    }
   ],
   "source": [
    "x = np.arange(10)\n",
    "i = np.array([2,1,8,4])\n",
    "x[i] = 99\n",
    "x\n",
    "x[i] -= 10\n",
    "x"
   ]
  },
  {
   "cell_type": "code",
   "execution_count": 73,
   "metadata": {},
   "outputs": [
    {
     "data": {
      "text/plain": [
       "array([6., 0., 0., 0., 0., 0., 0., 0., 0., 0.])"
      ]
     },
     "execution_count": 73,
     "metadata": {},
     "output_type": "execute_result"
    }
   ],
   "source": [
    "x = np.zeros(10)        # Create an array of 10 zeros\n",
    "x[[0,0]] = [4,6]        # Set element 0 and 0 to 4 then 6 respectively\n",
    "x"
   ]
  },
  {
   "cell_type": "code",
   "execution_count": 69,
   "metadata": {},
   "outputs": [
    {
     "data": {
      "text/plain": [
       "array([6., 0., 1., 1., 1., 0., 0., 0., 0., 0.])"
      ]
     },
     "execution_count": 69,
     "metadata": {},
     "output_type": "execute_result"
    }
   ],
   "source": [
    "i = [2,3,3,4,4,4]\n",
    "x[i] += 1\n",
    "x\n",
    "#why didn't it output [6,0,1,2,3,0,0,0,0,0]?\n",
    "#because assigning an index to +=1 twice doesn't mean it will sum the 2 ones or 3 ones in the case of the 4th index. it will not update in other words.\n",
    "#it will just add 1 to the value of the index, regardless of how many times it was assigned.\n",
    "\n"
   ]
  },
  {
   "cell_type": "code",
   "execution_count": 74,
   "metadata": {},
   "outputs": [
    {
     "data": {
      "text/plain": [
       "array([6., 0., 1., 2., 3., 0., 0., 0., 0., 0.])"
      ]
     },
     "execution_count": 74,
     "metadata": {},
     "output_type": "execute_result"
    }
   ],
   "source": [
    "#to solve this we do this:\n",
    "np.add.at(x,i,1)\n",
    "x\n",
    "#this means that we add 1 to the index i of x. as simple as that. if the index is called again, it will add 1 again."
   ]
  },
  {
   "cell_type": "code",
   "execution_count": 99,
   "metadata": {},
   "outputs": [],
   "source": [
    "x = rng.normal(size=100)"
   ]
  },
  {
   "cell_type": "code",
   "execution_count": 100,
   "metadata": {},
   "outputs": [
    {
     "data": {
      "image/png": "[encoded data removed]",
      "text/plain": [
       "<Figure size 640x480 with 1 Axes>"
      ]
     },
     "metadata": {},
     "output_type": "display_data"
    }
   ],
   "source": [
    "#to plot a histogram of x:\n",
    "plt.hist(x , range=(-3,3) , bins = 20)\n",
    "plt.show()"
   ]
  },
  {
   "cell_type": "code",
   "execution_count": 108,
   "metadata": {},
   "outputs": [
    {
     "name": "stdout",
     "output_type": "stream",
     "text": [
      "(-5, 5) (-4, 4) (-3, 3)\n",
      "50 50 50\n"
     ]
    },
    {
     "data": {
      "image/png": "[encoded data removed]",
      "text/plain": [
       "<Figure size 1000x500 with 3 Axes>"
      ]
     },
     "metadata": {},
     "output_type": "display_data"
    }
   ],
   "source": [
    "#now to count how many values we got in each range (-5,5) , (-4,4) , (-3,3):\n",
    "range1 = (-5,5)\n",
    "range2 = (-4,4)\n",
    "range3 = (-3,3)\n",
    "print(range1,range2,range3)\n",
    "\n",
    "\n",
    "filtered_x = x[x > 0]\n",
    "count_range1 = np.sum((filtered_x >= range1[0]) & (filtered_x < range1[1]))\n",
    "count_range2 = np.sum((filtered_x >= range2[0]) & (filtered_x < range2[1]))\n",
    "count_range3 = np.sum((filtered_x >= range3[0]) & (filtered_x < range3[1]))\n",
    "print(count_range1,count_range2,count_range3)\n",
    "\n",
    "\n",
    "plt.figure(figsize=(10,5))\n",
    "plt.subplot(131)\n",
    "plt.hist(filtered_x, bins=20, range=range1, alpha=0.7, edgecolor='black')        \n",
    "plt.title('range1')\n",
    "\n",
    "plt.subplot(132)\n",
    "plt.hist(filtered_x, bins=20, range=range2, alpha=0.7, edgecolor='black')\n",
    "plt.title('range2')\n",
    "\n",
    "plt.subplot(133)\n",
    "plt.hist(filtered_x, bins=20, range=range3, alpha=0.7, edgecolor='black')\n",
    "plt.title('range3')\n",
    "\n",
    "plt.tight_layout()\n",
    "plt.show()\n",
    "\n",
    "#this only means that we created a hist of the values above 0 but for the whole x. we wanted to count the above zero values for each range.\n",
    "#not the whole x in those ranges."
   ]
  },
  {
   "cell_type": "code",
   "execution_count": 115,
   "metadata": {},
   "outputs": [
    {
     "name": "stdout",
     "output_type": "stream",
     "text": [
      "[10 12 10  8  9  9 11 10  7  7 11  9  8  8  4  9 10 11 11  9 12 13 10 11\n",
      "  8 11 11  8  9 10 10  9  7  8 13  9 15  8 11 10  9  9  9  9 10 11 11 12\n",
      "  7 11 11 10 11 10  9  7  8 11 12 10  8 12 13 10  8 10  9 10  9 14 10 12\n",
      " 10  9 10 14 11 10  9 12 10 11 14  6  9 12  9 12 10 10 11 13  7  5  4 14\n",
      " 14  9 11 11]\n",
      "[ 0.  0.  0.  0.  2.  1.  1.  6. 10. 20. 22. 19.  9.  4.  5.  1.  0.  0.\n",
      "  0.  0.]\n"
     ]
    }
   ],
   "source": [
    "#we use np.searchsorted to find the index of the first value in x that is greater than or equal to each of the values in bins.\n",
    "ranges =np.linspace(-5,5,20)\n",
    "freq = np.zeros(20)\n",
    "i = np.searchsorted(ranges , x)      #the searchsorted function returns the index of the bin that each value in x belongs to. (where is x in ranges?)\n",
    "np.add.at(freq, i, 1)                #add 1 to the corresponding bin. (add 1 to freq[i]). why? because we want to count the number of values in each bin.\n",
    "print(i)\n",
    "print(freq)\n"
   ]
  },
  {
   "cell_type": "code",
   "execution_count": 114,
   "metadata": {},
   "outputs": [
    {
     "data": {
      "image/png": "[encoded data removed]",
      "text/plain": [
       "<Figure size 640x480 with 1 Axes>"
      ]
     },
     "metadata": {},
     "output_type": "display_data"
    }
   ],
   "source": [
    "plt.plot(ranges , freq , drawstyle = 'steps')\n",
    "plt.show()"
   ]
  },
  {
   "cell_type": "code",
   "execution_count": 119,
   "metadata": {},
   "outputs": [
    {
     "name": "stdout",
     "output_type": "stream",
     "text": [
      "[0 2 4 6 8]\n",
      "[1 3 5 7 9]\n",
      "[0 0 1 2 3 4 5 6 7 8 9]\n",
      "[0 1 2 3 4 5 6 7 8 9 9]\n"
     ]
    }
   ],
   "source": [
    "###examples on the np.searchsorted() function:\n",
    "a = np.array([1,2,3,4,5,6,7,8,9])\n",
    "b = np.array([1,3,5,7,9])\n",
    "print(np.searchsorted(a,b))               #where would the elements of b be inserted in a to maintain order?\n",
    "print(np.searchsorted(a,b,side='right'))  #are these values indices or the actual values? it is the indices of a or b? of a.\n",
    "#if side='left'  the output is (a[i-1] < v <= a[i])  and if side='right'  the output is (a[i-1] <= v < a[i])\n",
    "#another example:\n",
    "a = np.array([1,2,3,4,5,6,7,8,9])\n",
    "b = np.array([0,1,2,3,4,5,6,7,8,9,10])\n",
    "print(np.searchsorted(a,b))               #where would the elements of b be inserted in a to maintain order?\n",
    "print(np.searchsorted(a,b,side='right'))  #are these values indices or the actual values? it is the indices of a or b? of a."
   ]
  },
  {
   "cell_type": "code",
   "execution_count": 120,
   "metadata": {},
   "outputs": [
    {
     "name": "stdout",
     "output_type": "stream",
     "text": [
      "Indices (Left): [2 2]\n",
      "Indices (Right): [2 4]\n"
     ]
    }
   ],
   "source": [
    "import numpy as np\n",
    "\n",
    "arr = np.array([2, 4, 6, 6, 10])\n",
    "values = np.array([5, 6])\n",
    "\n",
    "indices_left = np.searchsorted(arr, values, side='left')\n",
    "indices_right = np.searchsorted(arr, values, side='right')\n",
    "\n",
    "print(\"Indices (Left):\", indices_left)\n",
    "print(\"Indices (Right):\", indices_right)\n"
   ]
  },
  {
   "cell_type": "code",
   "execution_count": 121,
   "metadata": {},
   "outputs": [
    {
     "data": {
      "text/plain": [
       "array([[3, 0, 6, 4, 7, 2],\n",
       "       [5, 0, 4, 3, 7, 4],\n",
       "       [1, 9, 7, 2, 0, 3],\n",
       "       [3, 3, 5, 2, 3, 2]], dtype=int64)"
      ]
     },
     "execution_count": 121,
     "metadata": {},
     "output_type": "execute_result"
    }
   ],
   "source": [
    "x =rng.integers(0,10,(4,6))\n",
    "x"
   ]
  },
  {
   "cell_type": "code",
   "execution_count": 126,
   "metadata": {},
   "outputs": [
    {
     "name": "stdout",
     "output_type": "stream",
     "text": [
      "[[1 0 4 2 0 2]\n",
      " [3 0 5 2 3 2]\n",
      " [3 3 6 3 7 3]\n",
      " [5 9 7 4 7 4]]\n",
      "__________________________________________________\n",
      "[[0 2 3 4 6 7]\n",
      " [0 3 4 4 5 7]\n",
      " [0 1 2 3 7 9]\n",
      " [2 2 3 3 3 5]]\n"
     ]
    }
   ],
   "source": [
    "print(np.sort(x,axis=0))        #sort by column\n",
    "print(\"_\"*50)\n",
    "print(np.sort(x,axis=1))        #sort by row\n",
    "#but this ruined the relationship ebtween the data.\n"
   ]
  },
  {
   "cell_type": "code",
   "execution_count": 128,
   "metadata": {},
   "outputs": [
    {
     "data": {
      "text/plain": [
       "array([2, 1, 3, 4, 6, 5, 7])"
      ]
     },
     "execution_count": 128,
     "metadata": {},
     "output_type": "execute_result"
    }
   ],
   "source": [
    "x = np.array([7,2,3,1,6,5,4])\n",
    "np.partition(x, 3)                  #the 1st 3 elements are the smallest 3 elements in the array"
   ]
  },
  {
   "cell_type": "code",
   "execution_count": 131,
   "metadata": {},
   "outputs": [
    {
     "name": "stdout",
     "output_type": "stream",
     "text": [
      "[[5 4 5 6 8 1]\n",
      " [9 0 9 8 7 9]\n",
      " [7 1 3 4 4 2]\n",
      " [2 9 0 8 6 5]]\n",
      "__________________________________________________\n",
      "[[1 4 5 6 8 5]\n",
      " [0 7 8 9 9 9]\n",
      " [1 2 3 4 4 7]\n",
      " [0 2 5 8 6 9]]\n"
     ]
    }
   ],
   "source": [
    "x = rng.integers(0,10,(4,6))\n",
    "print(x)\n",
    "print(\"_\"*50)\n",
    "print(np.partition(x,2,axis=1))            # 2nd smallest element in each row"
   ]
  },
  {
   "cell_type": "code",
   "execution_count": 195,
   "metadata": {},
   "outputs": [
    {
     "data": {
      "text/plain": [
       "<matplotlib.collections.PathCollection at 0x148c951c8e0>"
      ]
     },
     "execution_count": 195,
     "metadata": {},
     "output_type": "execute_result"
    },
    {
     "data": {
      "image/png": "[encoded data removed]",
      "text/plain": [
       "<Figure size 640x480 with 1 Axes>"
      ]
     },
     "metadata": {},
     "output_type": "display_data"
    }
   ],
   "source": [
    "x = rng.random((10,2))\n",
    "plt.scatter(x[:,0], x[:,1], s=100)"
   ]
  },
  {
   "cell_type": "code",
   "execution_count": 140,
   "metadata": {},
   "outputs": [
    {
     "ename": "AttributeError",
     "evalue": "module 'networkx' has no attribute 'from_scipy_sparse_matrix'",
     "output_type": "error",
     "traceback": [
      "\u001b[1;31m---------------------------------------------------------------------------\u001b[0m",
      "\u001b[1;31mAttributeError\u001b[0m                            Traceback (most recent call last)",
      "Cell \u001b[1;32mIn[140], line 9\u001b[0m\n\u001b[0;32m      7\u001b[0m \u001b[39m#2nd step: draw a line point each point and 2 of its closest neighbours:\u001b[39;00m\n\u001b[0;32m      8\u001b[0m \u001b[39mimport\u001b[39;00m \u001b[39mnetworkx\u001b[39;00m \u001b[39mas\u001b[39;00m \u001b[39mnx\u001b[39;00m\n\u001b[1;32m----> 9\u001b[0m G \u001b[39m=\u001b[39m nx\u001b[39m.\u001b[39;49mfrom_scipy_sparse_matrix(A)                     \u001b[39m#this function needs to be replaced by a function that draws a line between each point and 2 of its closest neighbours\u001b[39;00m\n\u001b[0;32m     10\u001b[0m nx\u001b[39m.\u001b[39mdraw(G, with_labels\u001b[39m=\u001b[39m\u001b[39mTrue\u001b[39;00m, font_weight\u001b[39m=\u001b[39m\u001b[39m'\u001b[39m\u001b[39mbold\u001b[39m\u001b[39m'\u001b[39m)      \n\u001b[0;32m     11\u001b[0m plt\u001b[39m.\u001b[39mshow()\n",
      "\u001b[1;31mAttributeError\u001b[0m: module 'networkx' has no attribute 'from_scipy_sparse_matrix'"
     ]
    }
   ],
   "source": [
    "#calculate the distance between each point and all its neighbours, then draw a line point each point and 2 of its closest neighbours.\n",
    "#To do this, we need to use the function \"kneighbors_graph\" from sklearn.neighbors.\n",
    "#1st step: calculate the distance between each point and all its neighbours:\n",
    "from sklearn.neighbors import kneighbors_graph\n",
    "A = kneighbors_graph(X, 2, mode='distance', include_self=True)\n",
    "\n",
    "#2nd step: draw a line point each point and 2 of its closest neighbours:\n",
    "import networkx as nx\n",
    "G = nx.from_scipy_sparse_matrix(A)                     #this function needs to be replaced by a function that draws a line between each point and 2 of its closest neighbours\n",
    "nx.draw(G, with_labels=True, font_weight='bold')      \n",
    "plt.show()"
   ]
  },
  {
   "cell_type": "code",
   "execution_count": 148,
   "metadata": {},
   "outputs": [
    {
     "name": "stdout",
     "output_type": "stream",
     "text": [
      "[0.4190358202714949, 0.458197273732428, 0.7084912797226107, 0.36372177124874194, 0.301536178506275, 0.6817934183615635, 0.7818786525390347, 0.722455110942786, 0.5677872991975054, 0.22268357246919557, 0.06158143615578715, 0.10074288961672029, 0.351036895606903, 0.006267387133034208, 0.055918205609432725, 0.32433903424585575, 0.4244242684233269, 0.3650007268270783, 0.21033291508179763, 0.13477081164651217, 0.3808115548135229, 0.41997300827445605, 0.6702670142646387, 0.32549750579076997, 0.26331191304830304, 0.6435691529035915, 0.7436543870810627, 0.684230845484814, 0.5295630337395334, 0.1844593070112236, 0.3272695447974855, 0.3664309982584186, 0.6167250042486013, 0.27195549577473255, 0.20976990303226561, 0.5900271428875541, 0.6901123770650253, 0.6306888354687766, 0.476021023723496, 0.13091729699518617, 0.2729094062542471, 0.3120708597151802, 0.5623648657053629, 0.21759535723149415, 0.1554097644890272, 0.5356670043443157, 0.6357522385217869, 0.5763286969255382, 0.42166088518025757, 0.07655715845194777, 0.1928932458955679, 0.15373179243463475, 0.09656221355554795, 0.24820729491832083, 0.31039288766078776, 0.06986435219450071, 0.16994958637197188, 0.11052604477572325, 0.044141766969557406, 0.3892454936978672, 0.2730045221338069, 0.31216597559474, 0.5624599815849227, 0.21769047311105394, 0.155504880368587, 0.5357621202238755, 0.6358473544013467, 0.576423812805098, 0.42175600105981736, 0.07665227433150756, 0.10710340841820298, 0.14626486187913612, 0.3965588678693188, 0.05178935939545004, 0.010396233347016892, 0.3698610065082716, 0.46994624068574276, 0.4105226990894941, 0.25585488734421347, 0.08924883938409633, 0.060524647668568465, 0.021363194207635328, 0.22893081178254737, 0.11583869669132141, 0.17802428943378834, 0.20223295042150014, 0.3023181845989713, 0.24289464300272268, 0.08822683125744202, 0.2568768954708678, 0.1547525834735316, 0.19391403693446474, 0.44420804292464744, 0.09943853445077866, 0.037252941708311726, 0.4175101815636002, 0.5175954157410714, 0.45817187414482274, 0.3035040623995421, 0.041599664328767716]\n"
     ]
    }
   ],
   "source": [
    "#we need to do this via numpy and matplotlib only\n",
    "import numpy as np\n",
    "import matplotlib.pyplot as plt\n",
    "#1st step: calculate the distance between each point and all its neighbors:\n",
    "#we need to do this via numpy and matplotlib only\n",
    "def distance(x1,x2):\n",
    "    j = np.sqrt((x1-x2)**2)\n",
    "    return j\n",
    "\n",
    "#now we apply that function to all the points in the dataset\n",
    "#distance(x[:,0], x[:,1])?? no, i need to do this for all the points in the dataset, using a loop isn't permitted. so i need to use a vectorized approach\n",
    "list_of_rows = x[:,0]\n",
    "list_of_columns = x[:,1]\n",
    "list_of_distances = []\n",
    "for i in range(len(list_of_rows)):\n",
    "    for j in range(len(list_of_columns)):\n",
    "        list_of_distances.append(distance(list_of_rows[i], list_of_columns[j]))\n",
    "        \n",
    "print(list_of_distances)\n",
    "\n"
   ]
  },
  {
   "cell_type": "code",
   "execution_count": 197,
   "metadata": {},
   "outputs": [
    {
     "data": {
      "image/png": "[encoded data removed]",
      "text/plain": [
       "<Figure size 800x800 with 1 Axes>"
      ]
     },
     "metadata": {},
     "output_type": "display_data"
    }
   ],
   "source": [
    "import numpy as np\n",
    "import matplotlib.pyplot as plt\n",
    "\n",
    "distances = np.sqrt(np.sum((x[:, np.newaxis] - x) ** 2, axis=2))          #Broadcasting (x[:, np.newaxis] - x) to (100, 1, 2) and (1, 100, 2). Then, summing over the last axis (axis=2) and taking the square root of the result. This gives us the distance between each point and every other point in the dataset.\n",
    "nearest_indices = np.argsort(distances, axis=1)[:, 1:3]                   #find indices of two closest neighbors\n",
    "\n",
    "plt.figure(figsize=(8, 8))\n",
    "plt.scatter(x[:, 0], x[:, 1], c='blue', marker='o', label='Points')          #markeer ='o' indicates circle\n",
    "\n",
    "#advanced indexing:\n",
    "plt.plot(\n",
    "    [x[:, 0], x[nearest_indices[:, 0], 0]],\n",
    "    [x[:, 1], x[nearest_indices[:, 0], 1]],\n",
    "    color='gray', linestyle='-', linewidth=0.5\n",
    ")\n",
    "\n",
    "plt.plot(\n",
    "    [x[:, 0], x[nearest_indices[:, 1], 0]],\n",
    "    [x[:, 1], x[nearest_indices[:, 1], 1]],\n",
    "    color='red', linestyle='-', linewidth=0.5\n",
    ")\n",
    "\n",
    "#the grey lines are the lines to the first closest neighbor, the red lines are the lines to the second closest neighbor\n",
    "plt.xlabel('X')\n",
    "plt.ylabel('Y')\n",
    "plt.title('Points and Lines to Two Closest Neighbors')\n",
    "plt.legend()\n",
    "plt.grid(True)\n",
    "plt.show()"
   ]
  },
  {
   "cell_type": "code",
   "execution_count": 161,
   "metadata": {},
   "outputs": [
    {
     "name": "stdout",
     "output_type": "stream",
     "text": [
      "[[[0.86198447 0.72204003]\n",
      "  [0.9527991  0.95173073]]\n",
      "\n",
      " [[0.86198447 0.72204003]\n",
      "  [0.68881586 0.90767145]]\n",
      "\n",
      " [[0.28796426 0.52474168]\n",
      "  [0.42122185 0.15765226]]\n",
      "\n",
      " [[0.46130879 0.3900098 ]\n",
      "  [0.12860652 0.26756159]]\n",
      "\n",
      " [[0.28796426 0.52474168]\n",
      "  [0.64373767 0.79960333]]\n",
      "\n",
      " [[0.64373767 0.79960333]\n",
      "  [0.86198447 0.72204003]]\n",
      "\n",
      " [[0.46130879 0.3900098 ]\n",
      "  [0.12860652 0.26756159]]\n",
      "\n",
      " [[0.68881586 0.90767145]\n",
      "  [0.86198447 0.72204003]]\n",
      "\n",
      " [[0.28796426 0.52474168]\n",
      "  [0.42122185 0.15765226]]\n",
      "\n",
      " [[0.98123422 0.58669812]\n",
      "  [0.64373767 0.79960333]]]\n"
     ]
    }
   ],
   "source": [
    "print(x[nearest_indices])"
   ]
  },
  {
   "cell_type": "code",
   "execution_count": null,
   "metadata": {},
   "outputs": [],
   "source": [
    "\n",
    "#advanced indexing: \n",
    "plt.plot(x[:, 0][:, np.newaxis], x[:, 1][:, np.newaxis], color='black', linestyle='-', linewidth=0.5)\n",
    "plt.plot(x[nearest_indices][:, :, 0], x[nearest_indices][:, :, 1], color='red', linestyle='-', linewidth=0.5)         #x[nearest_indices] returns a 3D array\n",
    "plt.xlabel('X')\n",
    "plt.ylabel('Y')\n",
    "plt.title('Points and Lines to Two Closest Neighbors')\n",
    "plt.legend()\n",
    "plt.grid(True)\n",
    "plt.show()"
   ]
  }
 ],
 "metadata": {
  "kernelspec": {
   "display_name": "Python 3",
   "language": "python",
   "name": "python3"
  },
  "language_info": {
   "codemirror_mode": {
    "name": "ipython",
    "version": 3
   },
   "file_extension": ".py",
   "mimetype": "text/x-python",
   "name": "python",
   "nbconvert_exporter": "python",
   "pygments_lexer": "ipython3",
   "version": "3.9.9"
  },
  "orig_nbformat": 4
 },
 "nbformat": 4,
 "nbformat_minor": 2
}
