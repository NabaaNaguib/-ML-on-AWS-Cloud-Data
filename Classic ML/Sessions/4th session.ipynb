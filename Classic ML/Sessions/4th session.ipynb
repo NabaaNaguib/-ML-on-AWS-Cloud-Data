{
 "cells": [
  {
   "cell_type": "code",
   "execution_count": 1,
   "metadata": {},
   "outputs": [],
   "source": [
    "#main difference between ML and DL is that ML has feeatures already (i extract them) but DL has to extract features from the data itself(the model extract them).\n",
    "#for example, in the previous ML project we worked on we had to clean the data first, drop column, add column, remove NaNs, etc. but in DL we don't have to do that.\n",
    "#ML is useful for small data relevantly simple tasks, but DL is useful for large data and complex tasks.\n",
    "#if you have the chance to use ML, use it, because it is faster and easier to use.\n",
    "#in DL, we have to use GPU, because it is faster than CPU. but, ofcourse it is more expensive.\n",
    "\n"
   ]
  },
  {
   "cell_type": "code",
   "execution_count": 2,
   "metadata": {},
   "outputs": [],
   "source": [
    "#Weights = [w1,w2,w3...]\n",
    "#the linear function would be: w1*x1 + w2*x2 + w3*x3 + ... + b\n",
    "#or in matrix form: (W.T)*X + b\n",
    "#_________________________________________________________________\n",
    "#perceptron: TLU (Threshold Logic Unit) or LTU (Linear Threshold Unit) (The neuron).\n",
    "#the neurons are connectrd to the previous layer (input layer) and the next layer (output layer). but not to the other neurons in the same layer.\n",
    "#they need to see the whole neurons of the previous layer.\n",
    "#__________________________________________________________________\n",
    "#x: input matrix.\n",
    "#W: weight matrix.\n",
    "#b: bias vector.\n",
    "#y: output vector (target).\n"
   ]
  },
  {
   "cell_type": "code",
   "execution_count": 3,
   "metadata": {},
   "outputs": [],
   "source": [
    "#CS231n Convolutional Neural Networks for Visual Recognition. (cs231n.stanford.edu) http://cs231n.stanford.edu/\n",
    "#Andrej Karpathy @youtube (https://www.youtube.com/watch?v=6SlgtELqOWc)\n",
    "#stanford university school of engineering (https://www.youtube.com/watch?v=V8J1bJZLtxM)\n",
    "#worth checking out in case you want to get deeper in Computer Vision."
   ]
  },
  {
   "cell_type": "code",
   "execution_count": 5,
   "metadata": {},
   "outputs": [],
   "source": [
    "#the way backward propagation is intercepted in TensorFlow is by using (Reverse-mode) auto-differentiation.\n"
   ]
  },
  {
   "cell_type": "code",
   "execution_count": 6,
   "metadata": {},
   "outputs": [],
   "source": [
    "#the hyperparameters that we set ourselves:\n",
    "#learning rate\n",
    "#number of epochs\n",
    "#batch size\n",
    "#optimizer type\n",
    "#loss function\n",
    "#activation function\n",
    "#number of neurons in the hidden layer\n",
    "#number of hidden layers\n"
   ]
  },
  {
   "cell_type": "code",
   "execution_count": 7,
   "metadata": {},
   "outputs": [],
   "source": [
    "#to avoid overfitting, we can use many methods, such as:\n",
    "#1. early stopping\n",
    "#2. dropout\n",
    "#3. regularization\n",
    "#4. data augmentation\n",
    "#5. batch normalization\n",
    "#6. ensemble\n",
    "#7. transfer learning"
   ]
  },
  {
   "cell_type": "code",
   "execution_count": 8,
   "metadata": {},
   "outputs": [],
   "source": [
    "#the learning rate shouldn't be too high or too low. \n",
    "#If the learning rate is too high, the cost may not decrease on every iteration of the gradient descent algorithm.\n",
    "#However, if the learning rate is too low, it will take too long to converge."
   ]
  },
  {
   "cell_type": "code",
   "execution_count": 9,
   "metadata": {},
   "outputs": [],
   "source": [
    "#differences between tarin, test, val accuracies differences:\n",
    "#if train accuracy is high and test/val accuracy is low, then overfitting.\n",
    "#if train accuracy is low and test/val accuracy is high, then underfitting.\n",
    "#if train accuracy is high and test/val accuracy is high, then good fit.\n",
    "# if train accuracy is low and test/val accuracy is low, then bad fit.\n",
    "#if val is low then overfitting.\n"
   ]
  },
  {
   "cell_type": "code",
   "execution_count": 1,
   "metadata": {},
   "outputs": [],
   "source": []
  },
  {
   "cell_type": "code",
   "execution_count": null,
   "metadata": {},
   "outputs": [],
   "source": []
  }
 ],
 "metadata": {
  "kernelspec": {
   "display_name": "Python 3",
   "language": "python",
   "name": "python3"
  },
  "language_info": {
   "codemirror_mode": {
    "name": "ipython",
    "version": 3
   },
   "file_extension": ".py",
   "mimetype": "text/x-python",
   "name": "python",
   "nbconvert_exporter": "python",
   "pygments_lexer": "ipython3",
   "version": "3.9.9"
  },
  "orig_nbformat": 4
 },
 "nbformat": 4,
 "nbformat_minor": 2
}
