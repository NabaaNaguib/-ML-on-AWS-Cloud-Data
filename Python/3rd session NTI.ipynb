{
 "cells": [
  {
   "cell_type": "code",
   "execution_count": 4,
   "metadata": {},
   "outputs": [
    {
     "name": "stdout",
     "output_type": "stream",
     "text": [
      "['I', 'am', 'a', 'string']\n",
      "<class 'list'>\n",
      "['I', 'am', 'a', 'string']\n",
      "['I ', 'm ', ' string']\n"
     ]
    }
   ],
   "source": [
    "# the .split() method converts a string into a list of words\n",
    "a = \"I am a string\"\n",
    "print(a.split())\n",
    "print(type(a.split()))\n",
    "print(a.split(\" \"))      # split on spaces\n",
    "print(a.split(\"a\"))      # split on letter a"
   ]
  },
  {
   "cell_type": "code",
   "execution_count": 7,
   "metadata": {},
   "outputs": [
    {
     "name": "stdout",
     "output_type": "stream",
     "text": [
      "['1', '2', '3', '4', '5', '6', '7', '8', '9', '10']\n",
      "['1', ' ', '2', ' ', '3', ' ', '4', ' ', '5', ' ', '6', ' ', '7', ' ', '8', ' ', '9', ' ', '1', '0']\n",
      "[1, 2, 3, 4, 5, 6, 7, 8, 9, 10]\n"
     ]
    }
   ],
   "source": [
    "#but to split a sequence of number into a list of numbers, we use the split() function\n",
    "a = \"1 2 3 4 5 6 7 8 9 10\"\n",
    "print(a.split())\n",
    "\n",
    "#to make a list of numbers, we use the list() function\n",
    "a = \"1 2 3 4 5 6 7 8 9 10\"\n",
    "print(list(a))\n",
    "#notice how the 10 is split into 1 and 0\n",
    "\n",
    "#we add the function map() to make the list of numbers\n",
    "print(list(map(int, a.split())))"
   ]
  },
  {
   "cell_type": "code",
   "execution_count": 8,
   "metadata": {},
   "outputs": [
    {
     "name": "stdout",
     "output_type": "stream",
     "text": [
      "Help on class map in module builtins:\n",
      "\n",
      "class map(object)\n",
      " |  map(func, *iterables) --> map object\n",
      " |  \n",
      " |  Make an iterator that computes the function using arguments from\n",
      " |  each of the iterables.  Stops when the shortest iterable is exhausted.\n",
      " |  \n",
      " |  Methods defined here:\n",
      " |  \n",
      " |  __getattribute__(self, name, /)\n",
      " |      Return getattr(self, name).\n",
      " |  \n",
      " |  __iter__(self, /)\n",
      " |      Implement iter(self).\n",
      " |  \n",
      " |  __next__(self, /)\n",
      " |      Implement next(self).\n",
      " |  \n",
      " |  __reduce__(...)\n",
      " |      Return state information for pickling.\n",
      " |  \n",
      " |  ----------------------------------------------------------------------\n",
      " |  Static methods defined here:\n",
      " |  \n",
      " |  __new__(*args, **kwargs) from builtins.type\n",
      " |      Create and return a new object.  See help(type) for accurate signature.\n",
      "\n"
     ]
    }
   ],
   "source": [
    "#generally if a function is cofusing to you and want to know what it does and its arguments, you can use the help function\n",
    "help(map)"
   ]
  },
  {
   "cell_type": "code",
   "execution_count": 1,
   "metadata": {},
   "outputs": [
    {
     "ename": "ModuleNotFoundError",
     "evalue": "No module named 'pyttsx3'",
     "output_type": "error",
     "traceback": [
      "\u001b[1;31m---------------------------------------------------------------------------\u001b[0m",
      "\u001b[1;31mModuleNotFoundError\u001b[0m                       Traceback (most recent call last)",
      "Cell \u001b[1;32mIn[1], line 4\u001b[0m\n\u001b[0;32m      1\u001b[0m \u001b[39m#how to convert text numbers into actual int numbers and make a command that read them outloud\u001b[39;00m\n\u001b[0;32m      2\u001b[0m \u001b[39m#how to make a command that read outloud the text in the cell\u001b[39;00m\n\u001b[1;32m----> 4\u001b[0m \u001b[39mimport\u001b[39;00m \u001b[39mpyttsx3\u001b[39;00m\n\u001b[0;32m      5\u001b[0m engine\u001b[39m.\u001b[39msay(\u001b[39m\"\u001b[39m\u001b[39mI will speak this text\u001b[39m\u001b[39m\"\u001b[39m)\n\u001b[0;32m      6\u001b[0m engine\u001b[39m.\u001b[39mrunAndWait()\n",
      "\u001b[1;31mModuleNotFoundError\u001b[0m: No module named 'pyttsx3'"
     ]
    }
   ],
   "source": [
    "#how to convert text numbers into actual int numbers and make a command that read them outloud\n",
    "#how to make a command that read outloud the text in the cell\n",
    "\n",
    "import pyttsx3\n",
    "engine.say(\"I will speak this text\")\n",
    "engine.runAndWait()\n"
   ]
  },
  {
   "cell_type": "code",
   "execution_count": 14,
   "metadata": {},
   "outputs": [
    {
     "name": "stdout",
     "output_type": "stream",
     "text": [
      "10\n",
      "[2, 4]\n",
      "[2, 4, 6, 8]\n"
     ]
    }
   ],
   "source": [
    "from functools import reduce\n",
    "sum = reduce((lambda x, y: x + y), [1, 2, 3, 4])\n",
    "print(sum)\n",
    "#the reduce() function is used to apply a particular function passed in its argument to all of the list elements mentioned in the sequence passed along.\n",
    "\n",
    "#similarly, we can use lambda function with filter() function to filter out the list based on some condition.\n",
    "even = list(filter(lambda x: (x%2 == 0), [1, 2, 3, 4]))\n",
    "print(even)    #the filter() function in Python takes in a function and a list as arguments.\n",
    "\n",
    "\n",
    "#the map() function in Python takes in a function and a list as argument.\n",
    "double = list(map(lambda x: x * 2 , [1, 2, 3, 4]))\n",
    "print(double)\n",
    "\n",
    "\n",
    "\n",
    "#now let's sum up how the functools module works:\n",
    "\n",
    "#it has a function reduce() which takes in a function and a list as argument, then performs computation on the list using the function passed in its argument and returns a single value.\n",
    "#in other words it reduces the list to a single value.\n",
    "\n",
    "#the filter() function takes in a function and a list as argument, then it filters out the list based on the condition given in the function passed in its argument.\n",
    "#in other words it filters out the list based on the condition given in the function passed in its argument.\n",
    "\n",
    "#the map() function takes in a function and a list as argument, then it applies the function passed in its argument to every element in the list and returns a new list with the elements changed by the function.\n",
    "#in other words it maps the function to all the elements in the list.\n"
   ]
  },
  {
   "cell_type": "code",
   "execution_count": 16,
   "metadata": {},
   "outputs": [
    {
     "name": "stdout",
     "output_type": "stream",
     "text": [
      "['Ahmed Khalid', 'Ali Samir', 'Mohamed Hassan']\n",
      "[('Ahmed', 'Khalid'), ('Ali', 'Samir'), ('Mohamed', 'Hassan')]\n",
      "<zip object at 0x000002243225C400>\n",
      "Ahmed Khalid\n",
      "Ali Samir\n",
      "Mohamed Hassan\n",
      "Ahmed Khalid\n",
      "Ali Samir\n",
      "Mohamed Hassan\n",
      "[('Ahmed', 'Khalid'), ('Ali', 'Samir'), ('Mohamed', 'Hassan')]\n",
      "[('Mohamed', 'Hassan'), ('Ali', 'Samir'), ('Ahmed', 'Khalid')]\n",
      "['Ahmed Khalid', 'Ali Samir', 'Mohamed Hassan']\n",
      "['Ahmed Khalid', 'Ali Samir', 'Mohamed Hassan']\n"
     ]
    }
   ],
   "source": [
    "#how to write full names of people that their names are separated in 2 lists\n",
    "first_name = ['Ahmed', 'Ali', 'Mohamed']\n",
    "last_name = ['Khalid', 'Samir', 'Hassan']\n",
    "full_name = []\n",
    "\n",
    "#now we use the map() function to apply the function to each element of the list\n",
    "full_name = list(map(lambda x,y: x + ' ' + y, first_name, last_name))\n",
    "print(full_name)\n",
    "#if yopu're woundering what is the ' ' for? it is to add a space between the first and last name.\n",
    "\n",
    "#now to use the zip() function\n",
    "full_name2 = list(zip(first_name, last_name))\n",
    "print(full_name2)\n",
    "#is it necessary to use the list() function? no, but it is better to use it to make sure that the output is a list.\n",
    "full_name3 = zip(first_name, last_name)\n",
    "print(full_name3)\n",
    "#the output of the zip() function is a zip object, so if you want to print it you have to use the list() function.\n",
    "\n",
    "\n",
    "#now to use the for loop\n",
    "for i,j in zip(first_name, last_name):\n",
    "    print(i,j)\n",
    "#the output is the same as the output of the map() function.\n",
    "\n",
    "#now to use the for loop with the range() function\n",
    "for i in range(len(first_name)):\n",
    "    print(first_name[i], last_name[i])\n",
    "#but loops are not the best way to do this, because it is not efficient and take a lot of time.\n",
    "\n",
    "\n",
    "#what about the sorted() function?\n",
    "full_name4 = sorted(zip(first_name, last_name))\n",
    "print(full_name4)\n",
    "#the output is a list of tuples sorted.\n",
    "full_name5 = sorted(zip(first_name, last_name), reverse=True)\n",
    "print(full_name5)  #the output is a list of tuples sorted in reverse order.\n",
    "#is the zip() function necessary? no, you can use the sorted() function with the list of tuples directly.\n",
    "full_name6 = sorted(full_name)\n",
    "print(full_name6)\n",
    "#now to use its arguments\n",
    "full_name7 = sorted(full_name, key=lambda x: x[0])\n",
    "print(full_name7)\n",
    "#what didi the arguments do? it sorted the list of tuples according to the first element of each tuple.\n"
   ]
  },
  {
   "cell_type": "code",
   "execution_count": 18,
   "metadata": {},
   "outputs": [
    {
     "name": "stdout",
     "output_type": "stream",
     "text": [
      "You can't divide by zero\n"
     ]
    }
   ],
   "source": [
    "#now for a new topic\n",
    "#the try and except block\n",
    "a = 10\n",
    "b = 0\n",
    "try:\n",
    "    print(a/b)\n",
    "except:\n",
    "    print(\"You can't divide by zero\")\n",
    "    \n",
    "#the try and except block is used to handle errors, if an error occurs in the try block, the except block will be executed.\n",
    "#it is a means to be utilized in case you are doubting that you code could result in an error.\n",
    "    "
   ]
  },
  {
   "cell_type": "code",
   "execution_count": 22,
   "metadata": {},
   "outputs": [
    {
     "name": "stdout",
     "output_type": "stream",
     "text": [
      "You can't divide by zero division by zero\n",
      "<class 'ZeroDivisionError'>\n"
     ]
    }
   ],
   "source": [
    "#now try but with the except as method\n",
    "a = 10\n",
    "b = 0\n",
    "try:\n",
    "    print(a/b)\n",
    "except ZeroDivisionError as e:\n",
    "    print(\"You can't divide by zero\" , e)\n",
    "    print(type(e))\n",
    "\n",
    "#what does the e do? it gives the error message.\n",
    "#in other words it gives the error message in a variable.\n",
    "#is it necessary to write the e? no, it's not necessary.\n"
   ]
  },
  {
   "cell_type": "code",
   "execution_count": 24,
   "metadata": {},
   "outputs": [
    {
     "name": "stdout",
     "output_type": "stream",
     "text": [
      "resource open\n",
      "Hey, you cannot divide a number by zero division by zero\n"
     ]
    }
   ],
   "source": [
    "#what if the try error is the one to be executed?\n",
    "a = 10\n",
    "b = 0\n",
    "try:\n",
    "    print(\"resource open\")\n",
    "    print(a/b)\n",
    "    print(\"resource closed\")\n",
    "except Exception as e:\n",
    "    print(\"Hey, you cannot divide a number by zero\", e)\n",
    "    \n",
    "    \n",
    "#try once with b=0 and once with b=5\n",
    "\n",
    "#in case b=o the 1st print is executed and then the error message is printed.\n",
    "#that is becasue the resource got opened then the division couldn't be executed so it moved to the except block and executed what is in it.\n"
   ]
  },
  {
   "cell_type": "code",
   "execution_count": 26,
   "metadata": {},
   "outputs": [
    {
     "name": "stdout",
     "output_type": "stream",
     "text": [
      "2.0\n",
      "No error\n",
      "Finally\n"
     ]
    }
   ],
   "source": [
    "#what about finally?\n",
    "#what about else?\n",
    "a = 10\n",
    "b = 5\n",
    "try:\n",
    "    print(a/b)\n",
    "except:\n",
    "    print(\"Error\")\n",
    "else:\n",
    "    print(\"No error\")\n",
    "finally:\n",
    "    print(\"Finally\")\n",
    "    \n",
    "#if try block is executed, else block will be executed and finally will be executed.\n",
    "#if try block is not executed it will move to except block and then finally block.\n",
    "#finally block will be executed in both cases.\n",
    "#else block only executed if try block is executed.\n",
    "\n",
    "#try once with b=0 and once with b=5.\n",
    "\n"
   ]
  },
  {
   "cell_type": "code",
   "execution_count": 52,
   "metadata": {},
   "outputs": [
    {
     "name": "stdout",
     "output_type": "stream",
     "text": [
      "a is not equal to b\n",
      "x is equal to y\n",
      "this is the finally block\n",
      "w is not equal to m\n"
     ]
    },
    {
     "ename": "AssertionError",
     "evalue": "w is not equal to m and this is an error",
     "output_type": "error",
     "traceback": [
      "\u001b[1;31m---------------------------------------------------------------------------\u001b[0m",
      "\u001b[1;31mAssertionError\u001b[0m                            Traceback (most recent call last)",
      "Cell \u001b[1;32mIn[52], line 28\u001b[0m\n\u001b[0;32m     27\u001b[0m     \u001b[39massert\u001b[39;00m w \u001b[39m==\u001b[39m m\n\u001b[1;32m---> 28\u001b[0m     \u001b[39mraise\u001b[39;00m \u001b[39mAssertionError\u001b[39;00m(\u001b[39m\"\u001b[39m\u001b[39mw is equal to m and this is an error\u001b[39m\u001b[39m\"\u001b[39m)\n\u001b[0;32m     29\u001b[0m \u001b[39mexcept\u001b[39;00m \u001b[39mAssertionError\u001b[39;00m:\n",
      "\u001b[1;31mAssertionError\u001b[0m: w is equal to m and this is an error",
      "\nDuring handling of the above exception, another exception occurred:\n",
      "\u001b[1;31mAssertionError\u001b[0m                            Traceback (most recent call last)",
      "Cell \u001b[1;32mIn[52], line 31\u001b[0m\n\u001b[0;32m     29\u001b[0m \u001b[39mexcept\u001b[39;00m \u001b[39mAssertionError\u001b[39;00m:\n\u001b[0;32m     30\u001b[0m     \u001b[39mprint\u001b[39m(\u001b[39m'\u001b[39m\u001b[39mw is not equal to m\u001b[39m\u001b[39m'\u001b[39m)\n\u001b[1;32m---> 31\u001b[0m     \u001b[39mraise\u001b[39;00m \u001b[39mAssertionError\u001b[39;00m(\u001b[39m\"\u001b[39m\u001b[39mw is not equal to m and this is an error\u001b[39m\u001b[39m\"\u001b[39m)\n",
      "\u001b[1;31mAssertionError\u001b[0m: w is not equal to m and this is an error"
     ]
    }
   ],
   "source": [
    "#what about raise and assert?\n",
    "a = 1\n",
    "b = 2\n",
    "try:\n",
    "    assert a == b\n",
    "    print('a is equal to b')\n",
    "except AssertionError:\n",
    "    print('a is not equal to b')\n",
    "    \n",
    "#now to make the assert work\n",
    "x = 10\n",
    "y = 10\n",
    "try:\n",
    "    assert x == y\n",
    "    print('x is equal to y')\n",
    "except AssertionError:\n",
    "    print('x is not equal to y')\n",
    "finally:\n",
    "    print('this is the finally block')   #remeber that the finally block always runs\n",
    "    \n",
    "    \n",
    "#now the raise\n",
    "w = 10\n",
    "m = 10\n",
    "\n",
    "try:\n",
    "    assert w == m\n",
    "    raise AssertionError(\"w is equal to m and this is an error\")\n",
    "except AssertionError:\n",
    "    print('w is not equal to m')\n",
    "    raise AssertionError(\"w is not equal to m and this is an error\")\n",
    "    \n",
    "#notice that the print statement in the except block is printed before the raise statement"
   ]
  },
  {
   "cell_type": "code",
   "execution_count": 71,
   "metadata": {},
   "outputs": [
    {
     "name": "stdout",
     "output_type": "stream",
     "text": [
      "hello to the demo script which is used for the python 3rd session\n",
      "this is made by me and only me and i', just trying to fill in some line\n",
      "so that it is not an empty text file\n"
     ]
    }
   ],
   "source": [
    "#how to open a text and image tiles using the open(), read(), and close() methods\n",
    "#first let's download a text file from the internet\n",
    "#x = open(\"https://www.gutenberg.org/files/1342/1342-0.txt\", \"r\")\n",
    "y = open (\"C:\\Python for NTI\\gutenberg.org_files_1342_1342-0.txt\",'r')\n",
    "print(y.read())\n",
    "y.close()\n",
    "#after the file is closed, we can't read it anymore or do anything with it\n"
   ]
  },
  {
   "cell_type": "code",
   "execution_count": 73,
   "metadata": {},
   "outputs": [
    {
     "name": "stdout",
     "output_type": "stream",
     "text": [
      "['hello to the demo script which is used for the python 3rd session\\n', \"this is made by me and only me and i', just trying to fill in some line\\n\", 'so that it is not an empty text file']\n"
     ]
    }
   ],
   "source": [
    "y = open (\"C:\\Python for NTI\\gutenberg.org_files_1342_1342-0.txt\",'r')\n",
    "#we can also read a file line by line using the readline() method\n",
    "print(y.readlines())\n"
   ]
  },
  {
   "cell_type": "code",
   "execution_count": 75,
   "metadata": {},
   "outputs": [
    {
     "name": "stdout",
     "output_type": "stream",
     "text": [
      "hello to the demo script which is used for the python 3rd session\n",
      "\n",
      "this is made by me and only me and i', just trying to fill in some line\n",
      "\n",
      "so that it is not an empty text file\n"
     ]
    }
   ],
   "source": [
    "#now to read using loop\n",
    "y = open (\"C:\\Python for NTI\\gutenberg.org_files_1342_1342-0.txt\",'r')\n",
    "for line in y:\n",
    "    print(line)\n",
    "    "
   ]
  },
  {
   "cell_type": "code",
   "execution_count": 78,
   "metadata": {},
   "outputs": [
    {
     "name": "stdout",
     "output_type": "stream",
     "text": [
      "hello to the demo script which is used for the python 3rd session\n",
      "\n",
      "h\n",
      "hello\n",
      "this is made by me and only me and i'm just trying to fill in some line\n",
      "\n",
      "t\n",
      "this \n",
      "so that it is not an empty text file\n",
      "s\n",
      "so th\n"
     ]
    }
   ],
   "source": [
    "y = open (\"C:\\Python for NTI\\gutenberg.org_files_1342_1342-0.txt\",'r')\n",
    "#can i print with letters? yes\n",
    "for x in y.readlines():\n",
    "    print(x)\n",
    "    print(x[0])\n",
    "    print(x[0:5])\n",
    "    "
   ]
  },
  {
   "cell_type": "code",
   "execution_count": 81,
   "metadata": {},
   "outputs": [
    {
     "name": "stdout",
     "output_type": "stream",
     "text": [
      "h e l l o   t o   t h e   d e m o   s c r i p t   w h i c h   i s   u s e d   f o r   t h e   p y t "
     ]
    }
   ],
   "source": [
    "y = open (\"C:\\Python for NTI\\gutenberg.org_files_1342_1342-0.txt\",'r')\n",
    "\n",
    "#i can adjust through the read() function how many characters i want to read\n",
    "for x in y.read(50):\n",
    "    print(x , end = ' ')\n",
    "    \n",
    "#this will only read the first 50 characters in the text file letter by letter"
   ]
  },
  {
   "cell_type": "code",
   "execution_count": 84,
   "metadata": {},
   "outputs": [
    {
     "name": "stdout",
     "output_type": "stream",
     "text": [
      "11\n"
     ]
    }
   ],
   "source": [
    "#now to write in the text file\n",
    "y = open (r\"C:\\Python for NTI\\xxx.txt\",'w')\n",
    "print (y.write(\"Hello World\"))\n",
    "#this made the text file exist but the text is not written in it\n",
    "#to fix this we need to close the file\n",
    "y.close()\n",
    "#now if you check the folder you will the text file and the text written in it\n"
   ]
  },
  {
   "cell_type": "code",
   "execution_count": 85,
   "metadata": {},
   "outputs": [
    {
     "name": "stdout",
     "output_type": "stream",
     "text": [
      "<_io.TextIOWrapper name='C:\\\\Python for NTI\\\\yyy.txt' mode='w' encoding='UTF-8'>\n"
     ]
    }
   ],
   "source": [
    "#now to create a new file and write in it the data that are written in other file\n",
    "#we will use the function open() and the mode 'w' to write in the file\n",
    "#we will also use the function open() and the mode 'r' to read from the file\n",
    "y = open (\"C:\\Python for NTI\\gutenberg.org_files_1342_1342-0.txt\",'r')\n",
    "x = open (r\"C:\\Python for NTI\\yyy.txt\",'w')\n",
    "for i in y:\n",
    "    x.write(i)\n",
    "    \n",
    "x.close()\n",
    "print(x)\n",
    "#now if you check you will find a new file called yyy.txt and it has the same data as the gutenberg.org_files_1342_1342-0.txt file\n",
    "#notice that the print(x) will print the location of the file not the data in it\n"
   ]
  },
  {
   "cell_type": "code",
   "execution_count": 95,
   "metadata": {},
   "outputs": [],
   "source": [
    "#now to do all that but for an image\n",
    "a = open(\"C:\\Python for NTI\\cat.jfif\", \"rb\")\n",
    "a.read()\n",
    "\n",
    "#now we create an image and write the data to it\n",
    "b = open(\"C:\\Python for NTI\\cat2.jfif\", \"wb\")\n",
    "for i in a:\n",
    "    b.write(i)\n",
    "#b.close()\n",
    "\n",
    "#why is this not working??\n",
    "#it's because we're not starting at the beginning of the file\n",
    "#to fix this, we need to add a.seek(0) before the for loop\n",
    "a.seek(0)\n",
    "for i in a:\n",
    "    b.write(i)\n",
    "b.close()\n",
    "\n",
    "#now we can open the image\n",
    "b = open(\"C:\\Python for NTI\\cat2.jfif\", \"rb\")\n",
    "\n",
    "#now check your folder you will find 2 images that are the same with these names"
   ]
  },
  {
   "cell_type": "code",
   "execution_count": 101,
   "metadata": {},
   "outputs": [
    {
     "name": "stdout",
     "output_type": "stream",
     "text": [
      "NABAA NAGUIB\n"
     ]
    }
   ],
   "source": [
    "#To write a program that input to him its name and the program will take off the a,e,i,o,u in that name using filter() function\n",
    "name = input(\"Enter your name: \")\n",
    "for i in name:\n",
    "    if i in \"aeiou\":\n",
    "        name = name.replace(i,\"\")\n",
    "print(name)\n"
   ]
  },
  {
   "cell_type": "code",
   "execution_count": 105,
   "metadata": {},
   "outputs": [
    {
     "name": "stdout",
     "output_type": "stream",
     "text": [
      "nabaa naguib\n",
      "['n', 'b', ' ', 'n', 'g', 'b']\n",
      "nb ngb\n"
     ]
    }
   ],
   "source": [
    "VOULES = list(\"aeiouAEIOU\")\n",
    "name = input(\"Enter your name: \")\n",
    "#now with the filter function\n",
    "print(name)\n",
    "print(list(filter(lambda x: x not in VOULES, name)))\n",
    "#to output the name as it is not as a list we use the join function\n",
    "print(\"\".join(filter(lambda x: x not in VOULES, name)))"
   ]
  },
  {
   "cell_type": "code",
   "execution_count": 106,
   "metadata": {},
   "outputs": [
    {
     "data": {
      "text/plain": [
       "'nb ngb'"
      ]
     },
     "execution_count": 106,
     "metadata": {},
     "output_type": "execute_result"
    }
   ],
   "source": [
    "#to do it in a function now\n",
    "name = input('Enter your name: ')\n",
    "def remove_vowels(name):\n",
    "    vowels = ('a','e','i','o','u')\n",
    "    for x in name.lower():\n",
    "        if x in vowels:\n",
    "            name = name.replace(x,\"\")\n",
    "    return name\n",
    "\n",
    "remove_vowels(name)"
   ]
  },
  {
   "cell_type": "code",
   "execution_count": 109,
   "metadata": {},
   "outputs": [
    {
     "name": "stdout",
     "output_type": "stream",
     "text": [
      "['n', 'b', ' ', 'n', 'g', 'b']\n",
      "nb ngb\n"
     ]
    },
    {
     "data": {
      "text/plain": [
       "(None, None)"
      ]
     },
     "execution_count": 109,
     "metadata": {},
     "output_type": "execute_result"
    }
   ],
   "source": [
    "#to do it in a function using the filter() function as well\n",
    "name = input(\"Enter your name: \")\n",
    "def remove_vowel(name):\n",
    "    VOULES = list(\"aeiouAEIOU\")\n",
    "    x = print(list(filter(lambda x: x not in VOULES, name)))\n",
    "    y = print(\"\".join(filter(lambda x: x not in VOULES, name)))\n",
    "    return x , y\n",
    "remove_vowel(name)\n"
   ]
  },
  {
   "cell_type": "code",
   "execution_count": 117,
   "metadata": {},
   "outputs": [
    {
     "name": "stdout",
     "output_type": "stream",
     "text": [
      "['Hala', 'Sara', 'Nada', 'Ahmed', 'Nabaa']\n",
      "None\n",
      "['Nabaa', 'Ahmed', 'Nada', 'Sara', 'Hala']\n"
     ]
    }
   ],
   "source": [
    "list1 = ['Nabaa' , 'Ahmed' , 'Nada' , 'Sara' , 'Hala']\n",
    "#now to reverse the list\n",
    "#using slicing\n",
    "print(list1[::-1])\n",
    "\n",
    "#using reverse function\n",
    "print(list1.reverse())\n",
    "#it will return none\n",
    "#wrong way\n",
    "\n",
    "#using swap() function\n",
    "l = len(list1)\n",
    "for i in range(l//2):\n",
    "    list1[i] , list1[l-i-1] = list1[l-i-1] , list1[i]\n",
    "print(list1)\n",
    "#is it the right way?\n",
    "#yes\n",
    "#but it is not the pythonic way\n"
   ]
  },
  {
   "cell_type": "code",
   "execution_count": 6,
   "metadata": {},
   "outputs": [
    {
     "name": "stdout",
     "output_type": "stream",
     "text": [
      "i5, 16gb, 1TB\n",
      "i5, 16gb, 1TB\n",
      "i5, 16gb, 1TB\n",
      "i5, 16gb, 1TB\n",
      "i5, 16gb, 1TB\n",
      "i5, 16gb, 1TB\n"
     ]
    }
   ],
   "source": [
    "#building a simple class:\n",
    "class computer:\n",
    "    def config(self):             #self is a pointer to the object, a reference to the object, it is not a keyword.\n",
    "        print(\"i5, 16gb, 1TB\")    #self is a convention, you can use any other name.\n",
    "        \n",
    "com1 = computer()                 #com1 is an object of the class computer.\n",
    "computer.config(com1)             #calling the function config() of the class computer.\n",
    "com2 = computer()\n",
    "computer.config(com2)\n",
    "\n",
    "#the above two lines can be written as:\n",
    "com1.config()\n",
    "com2.config()\n",
    "\n",
    "#also, it can be written as:\n",
    "computer.config(com1)\n",
    "computer.config(com2)\n",
    "\n",
    "#now to explain this:\n",
    "#we built a class called computer, and we created two objects of this class, com1 and com2.\n",
    "#the objects of the class computer have access to the function config() of the class computer.\n",
    "#the function config() is used to print the configuration of the computer. or to genralize it it is used to execute what is inside it.\n",
    "#oso when i call the objects of the class what happens is that the function config() is executed.\n",
    "#let's try to understand this more:\n",
    "#when i write com1.config(), what happens is that the function config() is executed, and the object com1 is passed as an argument to the function config().\n"
   ]
  },
  {
   "cell_type": "code",
   "execution_count": 23,
   "metadata": {},
   "outputs": [
    {
     "name": "stdout",
     "output_type": "stream",
     "text": [
      "Diana\n",
      "20\n",
      "4\n",
      "{'Math': 3.5}\n",
      "3.5\n",
      "3.5\n",
      "None\n",
      "['__class__', '__delattr__', '__dict__', '__dir__', '__doc__', '__eq__', '__format__', '__ge__', '__getattribute__', '__gt__', '__hash__', '__init__', '__init_subclass__', '__le__', '__lt__', '__module__', '__ne__', '__new__', '__reduce__', '__reduce_ex__', '__repr__', '__setattr__', '__sizeof__', '__str__', '__subclasshook__', '__weakref__', 'age', 'getGPA', 'getGrade', 'grades', 'level', 'name', 'setGrade']\n",
      "{'name': 'Diana', 'age': 20, 'level': 4, 'grades': {'Math': 4}}\n",
      "{'name': 'Diana', 'age': 20, 'level': 4, 'grades': {'Math': 4, 'History': 3.0}}\n",
      "<class '__main__.Student'>\n",
      "<class 'dict'>\n",
      "{'Math': 4, 'History': 3.0}\n"
     ]
    }
   ],
   "source": [
    "#This will be understood more if we have a larger class with more functions and variables\n",
    "#let's build a class for a student\n",
    "class Student:\n",
    "    #this is the constructor\n",
    "    def __init__(self, name, age, level, grades=None):\n",
    "        self.name = name\n",
    "        self.age = age\n",
    "        self.level = level\n",
    "        self.grades = grades or {}\n",
    "    def setGrade(self, course, grade):\n",
    "        self.grades[course] = grade\n",
    "    def getGrade(self, course):\n",
    "        return self.grades[course]\n",
    "    def getGPA(self):\n",
    "        return sum(self.grades.values())/len(self.grades)\n",
    "    \n",
    "\n",
    "diana = Student(\"Diana\", 20, 4, {\"Math\":3.5})\n",
    "print(diana.name)\n",
    "print(diana.age)\n",
    "print(diana.level)\n",
    "print(diana.grades)\n",
    "print(diana.getGPA())\n",
    "print(diana.getGrade(\"Math\"))\n",
    "print(diana.setGrade(\"Math\", 4))    #why is the output none? because we are not returning anything. \n",
    "#what is diana? it is an object of the class Student. how do we get all the information about diana? we use the dir function\n",
    "print(dir(diana))                   #but this is not very readable. so, we can use the __dict__ function\n",
    "print(diana.__dict__)\n",
    "\n",
    "#now diana is already stated, what if we want to add a grade to her?\n",
    "diana.setGrade(\"History\", 3.0)\n",
    "print(diana.__dict__)             #now we can see that history is added to the dictionary\n",
    "print(type(diana))                #this is a class\n",
    "print(type(diana.__dict__))       #this is a dictionary\n",
    "print(diana.grades)"
   ]
  },
  {
   "cell_type": "code",
   "execution_count": 34,
   "metadata": {},
   "outputs": [
    {
     "name": "stdout",
     "output_type": "stream",
     "text": [
      "<bound method course.get_average_grade of <__main__.course object at 0x0000022395D45510>>\n",
      "<bound method course.add_student of <__main__.course object at 0x0000022395D45510>>\n",
      "<bound method course.__init__ of <__main__.course object at 0x0000022395D45510>>\n",
      "[]\n",
      "20\n",
      "Science\n",
      "[]\n",
      "50\n",
      "Math\n",
      "['Nabaa', 'Ahmed', 'Nada', 'Noura', 'Nourah', 'Najla', 'Najd']\n",
      "['Ali', 'Medhat', 'Mohammed', 'Mansour', 'Maha', 'Mai']\n"
     ]
    }
   ],
   "source": [
    "class course:\n",
    "    def __init__(self, name, max_students):\n",
    "        self.name = name\n",
    "        self.max_students = max_students\n",
    "        self.students = []\n",
    "    def add_student(self, student):\n",
    "        if len(self.students) < self.max_students:\n",
    "            self.students.append(student)\n",
    "            return True\n",
    "        return False\n",
    "    def get_average_grade(self):\n",
    "        value = 0\n",
    "        for student in self.students:\n",
    "            value += student.get_grade()\n",
    "        return value / len(self.students)\n",
    "    \n",
    "course_1 = course(\"Science\", 20)\n",
    "course_2 = course(\"Math\", 50)\n",
    "print(course_1.get_average_grade)\n",
    "print(course_1.add_student)\n",
    "print(course_1.__init__)\n",
    "print(course_1.students)\n",
    "print(course_1.max_students)\n",
    "print(course_1.name)\n",
    "print(course_2.students)\n",
    "print(course_2.max_students)\n",
    "print(course_2.name)\n",
    "#now to insert the students\n",
    "cr1_stdnts = ['Nabaa' , 'Ahmed' , 'Nada'  , 'Noura' , 'Nourah' , 'Najla' , 'Najd']\n",
    "cr2_stdnts = ['Ali' , 'Medhat' , 'Mohammed'  , 'Mansour' , 'Maha' , 'Mai']\n",
    "for i in cr1_stdnts:\n",
    "    course_1.add_student(i)\n",
    "    \n",
    "for i in cr2_stdnts:\n",
    "    course_2.add_student(i)\n",
    "    \n",
    "print(course_1.students)\n",
    "print(course_2.students)\n"
   ]
  },
  {
   "cell_type": "code",
   "execution_count": null,
   "metadata": {},
   "outputs": [],
   "source": [
    "\n",
    "    "
   ]
  }
 ],
 "metadata": {
  "kernelspec": {
   "display_name": "base",
   "language": "python",
   "name": "python3"
  },
  "language_info": {
   "codemirror_mode": {
    "name": "ipython",
    "version": 3
   },
   "file_extension": ".py",
   "mimetype": "text/x-python",
   "name": "python",
   "nbconvert_exporter": "python",
   "pygments_lexer": "ipython3",
   "version": "3.10.9"
  },
  "orig_nbformat": 4
 },
 "nbformat": 4,
 "nbformat_minor": 2
}
