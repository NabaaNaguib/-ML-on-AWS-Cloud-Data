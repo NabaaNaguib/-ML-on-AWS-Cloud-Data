{
 "cells": [
  {
   "cell_type": "code",
   "execution_count": 2,
   "metadata": {},
   "outputs": [
    {
     "name": "stdout",
     "output_type": "stream",
     "text": [
      "[1 2 3]\n"
     ]
    },
    {
     "data": {
      "text/plain": [
       "'Windows-10-10.0.22621-SP0'"
      ]
     },
     "execution_count": 2,
     "metadata": {},
     "output_type": "execute_result"
    }
   ],
   "source": [
    "import os         #this is the Operating System Interface module(aka library).\n",
    "os.getcwd()       #to get the current working directory.\n",
    "\n",
    "#the import statement is the most common way to gain access to the code in another module.\n",
    "#however, it is not the only way.\n",
    "#you can also use the from statement to import specific attributes or functions from a module.\n",
    "#the from statement is used to import specific attributes or functions from a module.\n",
    "from os import getcwd\n",
    "getcwd()\n",
    "\n",
    "#if the library you are importing has a large name you can import it using an alias.\n",
    "#the as keyword is used to create an alias.\n",
    "import numpy as np\n",
    "x = np.array([1,2,3])\n",
    "print(x)\n",
    "\n",
    "\n",
    "import platform\n",
    "platform.platform()           #to get the platform name.\n",
    "\n",
    "#when running this cell hash the commands except for the one you want to see its output."
   ]
  },
  {
   "cell_type": "code",
   "execution_count": 2,
   "metadata": {},
   "outputs": [
    {
     "name": "stdout",
     "output_type": "stream",
     "text": [
      "2 1\n"
     ]
    }
   ],
   "source": [
    "#swaping values\n",
    "A=1\n",
    "B=2\n",
    "C=A\n",
    "A=B\n",
    "B=C\n",
    "print (A,B)"
   ]
  },
  {
   "cell_type": "code",
   "execution_count": 3,
   "metadata": {},
   "outputs": [
    {
     "name": "stdout",
     "output_type": "stream",
     "text": [
      "2 1\n"
     ]
    }
   ],
   "source": [
    "A=1\n",
    "B=2\n",
    "A,B=B,A\n",
    "print(A,B)\n",
    "#a much more simpler way to swap values of two variables"
   ]
  },
  {
   "cell_type": "code",
   "execution_count": 4,
   "metadata": {},
   "outputs": [
    {
     "name": "stdout",
     "output_type": "stream",
     "text": [
      "1\n",
      "2\n"
     ]
    }
   ],
   "source": [
    "a = 1\n",
    "def func1():\n",
    "    a = 2\n",
    "    print(a)\n",
    "print(a)     #this is used to print the global variable a\n",
    "func1()      #this is used to print the local variable a"
   ]
  },
  {
   "cell_type": "code",
   "execution_count": 5,
   "metadata": {},
   "outputs": [
    {
     "name": "stdout",
     "output_type": "stream",
     "text": [
      "2.5\n",
      "2\n"
     ]
    }
   ],
   "source": [
    "#the division operatoin results in a float always except when using the // operator.\n",
    "print(5/2)\n",
    "print(5//2)"
   ]
  },
  {
   "cell_type": "code",
   "execution_count": 1,
   "metadata": {},
   "outputs": [
    {
     "name": "stdout",
     "output_type": "stream",
     "text": [
      "N\n",
      "a\n",
      "b\n",
      "a\n",
      "a\n"
     ]
    }
   ],
   "source": [
    "for i in \"Nabaa\":\n",
    "    print(i)"
   ]
  },
  {
   "cell_type": "code",
   "execution_count": 7,
   "metadata": {},
   "outputs": [
    {
     "name": "stdout",
     "output_type": "stream",
     "text": [
      "a\n",
      "a\n",
      "b\n",
      "a\n",
      "N\n"
     ]
    }
   ],
   "source": [
    "#this is to show the text in reverse order\n",
    "name = \"Nabaa\"\n",
    "for i in name[::-1]:\n",
    "    print(i[-1])"
   ]
  },
  {
   "cell_type": "code",
   "execution_count": 9,
   "metadata": {},
   "outputs": [
    {
     "name": "stdout",
     "output_type": "stream",
     "text": [
      "a\n",
      "a\n",
      "b\n",
      "a\n",
      "N\n"
     ]
    }
   ],
   "source": [
    "#this is another way to show the text in reverse order without having to assign the text to a variable\n",
    "for i in \"Nabaa\"[::-1]:\n",
    "    print(i[-1])"
   ]
  },
  {
   "cell_type": "code",
   "execution_count": 14,
   "metadata": {},
   "outputs": [
    {
     "name": "stdout",
     "output_type": "stream",
     "text": [
      ",\n",
      "1,2,3,4,5,6,7,8,9,10\n"
     ]
    }
   ],
   "source": [
    "#str.split to list\n",
    "s = '1 2 3 4 5 6 7 8 9 10'\n",
    "s.split()\n",
    "\n",
    "#str.join to string\n",
    "s = '1 2 3 4 5 6 7 8 9 10'\n",
    "print(s.join(','))\n",
    "\n",
    "#str.split , str.join\n",
    "s = '1 2 3 4 5 6 7 8 9 10'\n",
    "print(','.join(s.split()))   #what did this do and why?\n",
    "#it split the string into a list and then joined the list with a comma\n"
   ]
  },
  {
   "cell_type": "code",
   "execution_count": 22,
   "metadata": {},
   "outputs": [
    {
     "name": "stdout",
     "output_type": "stream",
     "text": [
      "[1, 5, 8, 6, 4, 5, 'N', 1, 2, 3]\n",
      "[1, 2, 3, [4, 5, 6]]\n",
      "[1, 2, 3, 4, 5, 6]\n",
      "[6, 5, 4, 3, 2, 1]\n",
      "8\n",
      "N\n",
      "[1, 5, 6, 4, 5]\n",
      "[1, 4, 5, 5, 6]\n",
      "[1, 4, 5, 6]\n",
      "[4, 5, 6]\n"
     ]
    }
   ],
   "source": [
    "list1 = [1,5,8,6,4,5,'N']\n",
    "list1.extend([1,2,3])\n",
    "print(list1)\n",
    "\n",
    "#the difference between append and extend is that append adds the element to the list as a single element, while extend adds the element as a list of elements.\n",
    "#here is another example\n",
    "list2 = [1,2,3]\n",
    "list2.append([4,5,6])\n",
    "print(list2)\n",
    "\n",
    "list3 = [1,2,3]\n",
    "list3.extend([4,5,6])\n",
    "print(list3)\n",
    "\n",
    "#to reverse a list\n",
    "list3.reverse()\n",
    "print(list3)\n",
    "\n",
    "#to know the value of a specific index and remove it from the list\n",
    "list1 = [1,5,8,6,4,5,'N']\n",
    "print(list1.pop(2))\n",
    "print(list1.pop(-1))\n",
    "print(list1)\n",
    "\n",
    "\n",
    "#to sort a list\n",
    "list1.sort()\n",
    "print(list1)\n",
    "\n",
    "#another weay to delete an element from a list\n",
    "list1.remove(5)\n",
    "print(list1)\n",
    "#notice that it only removes the first element with the value 5\n",
    "\n",
    "#another way to delete an element from a list\n",
    "del list1[0]\n",
    "print(list1)\n",
    "#you specify the index you want to delete when using this method"
   ]
  },
  {
   "cell_type": "code",
   "execution_count": 23,
   "metadata": {},
   "outputs": [
    {
     "name": "stdout",
     "output_type": "stream",
     "text": [
      "[1, 2, 3, 4]\n",
      "[1, 2, 3, 4]\n",
      "[1, 2, 3, 4, 5]\n",
      "[1, 2, 3, 4]\n",
      "[1, 2, 3, 4, 5]\n",
      "[1, 2, 3, 4, 5]\n",
      "[1, 2, 3, 4, 5, 6]\n",
      "[1, 2, 3, 4, 5, 6]\n"
     ]
    }
   ],
   "source": [
    "#to make a new list copy of a list that already exists\n",
    "list4 = [1,2,3,4]\n",
    "list5 = list4.copy()\n",
    "print(list4)\n",
    "print(list5)\n",
    "#copy is called a shallow copy, because the new list won't be affected by changes that happen in the original list\n",
    "list4.append(5)\n",
    "print(list4)\n",
    "print(list5)\n",
    "#if we don't want to make a shallow copy we do this\n",
    "list6 = list4\n",
    "print(list4)\n",
    "print(list6)\n",
    "list4.append(6)\n",
    "print(list4)\n",
    "print(list6)\n",
    "#notice that the changes that happen in the original list will now affect the new list"
   ]
  },
  {
   "cell_type": "code",
   "execution_count": 31,
   "metadata": {},
   "outputs": [
    {
     "name": "stdout",
     "output_type": "stream",
     "text": [
      "You're on Orange\n"
     ]
    }
   ],
   "source": [
    "#Create a program that a user enters a number and the program tells him which operator does this number belong to\n",
    "x = input(\"Enter your phone number, and neglect the key country: \")\n",
    "if x[0:3] == \"010\":\n",
    "    print(\"You're on Vodafone\")\n",
    "elif x[0:3] == \"012\":\n",
    "    print(\"You're on Orange\")\n",
    "elif x[0:3] == \"011\":\n",
    "    print(\"You're on Etisalat\")\n",
    "elif x[0:3] == \"015\":\n",
    "    print(\"You're on WE\")\n",
    "else:\n",
    "    print(\"Invalid number\")\n",
    "    \n",
    "    \n",
    "#try to make it with a dictionary\n"
   ]
  },
  {
   "cell_type": "code",
   "execution_count": 32,
   "metadata": {},
   "outputs": [],
   "source": [
    "#To have a number converted to a string using dictionary and loop\n",
    "#using .get() method as well to avoid errors in case of non-existing keys\n"
   ]
  },
  {
   "cell_type": "code",
   "execution_count": 38,
   "metadata": {},
   "outputs": [
    {
     "name": "stdout",
     "output_type": "stream",
     "text": [
      "* * * * * \n",
      "* * * \n",
      "* * \n",
      "* * * * \n",
      "* * \n"
     ]
    }
   ],
   "source": [
    "#to create a pattern of stars in that enumerate using a list\n",
    "x = [5,3,2,4,2]\n",
    "for ch in x:\n",
    "    for i in range(1,ch+1):\n",
    "        print(\"*\",end=\" \")\n",
    "    print()"
   ]
  },
  {
   "cell_type": "code",
   "execution_count": 40,
   "metadata": {},
   "outputs": [
    {
     "name": "stdout",
     "output_type": "stream",
     "text": [
      "[1, 2, 3]\n",
      "[1, 2, 3]\n",
      "2680551055808\n",
      "2680551055360\n",
      "[1, 2, 3]\n",
      "2680551162304\n"
     ]
    }
   ],
   "source": [
    "#to make a deep copy of a list\n",
    "import copy\n",
    "a = [1,2,3]\n",
    "b = copy.deepcopy(a)\n",
    "print(b)\n",
    "print(a)\n",
    "print(id(a))\n",
    "print(id(b))\n",
    "\n",
    "#to make a shallow copy of a list\n",
    "c = copy.copy(a)\n",
    "print(c)\n",
    "print(id(c))"
   ]
  },
  {
   "cell_type": "code",
   "execution_count": 41,
   "metadata": {},
   "outputs": [],
   "source": [
    "#check files uploaded in folder \"extra material\" in the drive for the loops and sequenced data files and their examples"
   ]
  },
  {
   "cell_type": "code",
   "execution_count": 44,
   "metadata": {},
   "outputs": [
    {
     "name": "stdout",
     "output_type": "stream",
     "text": [
      "Welcome to the system!\n"
     ]
    }
   ],
   "source": [
    "password = '1234567890'\n",
    "username = 'admin'\n",
    "user = input('Enter username: ')\n",
    "password1 = input('Enter password: ')\n",
    "if user == username and password1 == password:\n",
    "    print('Welcome to the system!')\n",
    "elif user == username and password1 != password:\n",
    "    print('Password or username are incorrect!')\n",
    "\n",
    "#this is just a simple program to check if the user is admin or not\n",
    "#no counter is here meaning that it can have infinite tries\n",
    "#and this is not good for the system"
   ]
  },
  {
   "cell_type": "code",
   "execution_count": 54,
   "metadata": {},
   "outputs": [
    {
     "name": "stdout",
     "output_type": "stream",
     "text": [
      "Wrong username or password\n",
      "Welcome to the system\n"
     ]
    }
   ],
   "source": [
    "#now to add the counter that if the user entered wrong 3 times he is out of the system\n",
    "#we will use for loop\n",
    "password = '1234567890'\n",
    "username = 'admin'\n",
    "user = input('Enter username: ')\n",
    "password1 = input('Enter password: ')\n",
    "for i in range(3):\n",
    "    if user == username and password1 == password:\n",
    "        print('Welcome to the system')\n",
    "        break\n",
    "    else:\n",
    "        print('Wrong username or password')\n",
    "        user = input('Enter username again, please: ')\n",
    "        password1 = input('Enter password again, please: ')\n",
    "else:\n",
    "    print('You are out of the system')"
   ]
  },
  {
   "cell_type": "code",
   "execution_count": 85,
   "metadata": {},
   "outputs": [
    {
     "name": "stdout",
     "output_type": "stream",
     "text": [
      "[-100, -20, 3, 5, 40, 100]\n",
      "The maximum number is:  100\n"
     ]
    }
   ],
   "source": [
    "#to get the maximum of a list of numbers that are inputted by the user\n",
    "list1 = input(\"Enter a list of numbers as this sequence n1,  n2,  n3, and so on (don't use any brackets): \")\n",
    "list2 = list(list1.split(\",\"))\n",
    "list2 = [int(i) for i in list2]\n",
    "list2.sort()\n",
    "print(list2)\n",
    "print(\"The maximum number is: \", list2[-1])\n",
    "    "
   ]
  },
  {
   "cell_type": "code",
   "execution_count": 104,
   "metadata": {},
   "outputs": [
    {
     "name": "stdout",
     "output_type": "stream",
     "text": [
      "you name is mohammed and your grade in math is 60\n",
      "your average is:  77.5\n"
     ]
    }
   ],
   "source": [
    "#a program that a user inputs its name and subject and the output is its grade in that subject\n",
    "#this is in case the user is a student and wants to access their grades\n",
    "dict1 = {\"name\": \"nabaa\" , \"subject\":[\"math\",\"science\",\"english\",\"arabic\",\"chemistry\"], \"grade\":[90,80,70,60,50]}\n",
    "dict2 = {\"name\": \"ahmed\" , \"subject\":[\"math\",\"science\",\"english\",\"arabic\",\"chemistry\"], \"grade\":[80,100,50,70,55]}\n",
    "dict3 = {\"name\": \"sara\" , \"subject\":[\"math\",\"science\",\"english\",\"arabic\",\"chemistry\"], \"grade\":[70,90,60,80,60]}\n",
    "dict4 = {\"name\": \"mohammed\" , \"subject\":[\"math\",\"science\",\"english\",\"arabic\",\"chemistry\"], \"grade\":[60,80,70,100,70]}\n",
    "x = input(\"Enter your name: \")\n",
    "y = input(\"Enter your subject: \")\n",
    "avg = 0\n",
    "if x == dict1[\"name\"]:\n",
    "    print(f\"you name is {x} and your grade in {y} is {dict1['grade'][dict1['subject'].index(y)]}\")\n",
    "    avg = (dict1[\"grade\"][0] + dict1[\"grade\"][1] + dict1[\"grade\"][2] + dict1[\"grade\"][3])/4\n",
    "    print(\"your average is: \", avg)\n",
    "elif x== dict2[\"name\"]:\n",
    "    print(f\"you name is {x} and your grade in {y} is {dict2['grade'][dict2['subject'].index(y)]}\")\n",
    "    avg = (dict2[\"grade\"][0] + dict2[\"grade\"][1] + dict2[\"grade\"][2] + dict2[\"grade\"][3])/4\n",
    "    print(\"your average is: \", avg)\n",
    "elif x == dict3[\"name\"]:\n",
    "    print(f\"you name is {x} and your grade in {y} is {dict3['grade'][dict3['subject'].index(y)]}\")\n",
    "    avg = (dict3[\"grade\"][0] + dict3[\"grade\"][1] + dict3[\"grade\"][2] + dict3[\"grade\"][3])/4\n",
    "    print(\"your average is: \", avg)\n",
    "elif x == dict4[\"name\"]:\n",
    "    print(f\"you name is {x} and your grade in {y} is {dict4['grade'][dict4['subject'].index(y)]}\")\n",
    "    avg = (dict4[\"grade\"][0] + dict4[\"grade\"][1] + dict4[\"grade\"][2] + dict4[\"grade\"][3])/4\n",
    "    print(\"your average is: \", avg)\n",
    "else:\n",
    "    print('Please enter a valid name')\n",
    "\n",
    "\n",
    "#try making a program where the user is the teacher and is inputting their students' names and grades"
   ]
  },
  {
   "cell_type": "code",
   "execution_count": 107,
   "metadata": {},
   "outputs": [
    {
     "name": "stdout",
     "output_type": "stream",
     "text": [
      "Hello, Nabaa!\n"
     ]
    }
   ],
   "source": [
    "#simple function\n",
    "\n",
    "def greet():\n",
    "    user = input('What is your name? ')\n",
    "    print(f'Hello, {user}!')\n",
    "greet()"
   ]
  },
  {
   "cell_type": "code",
   "execution_count": 110,
   "metadata": {},
   "outputs": [
    {
     "data": {
      "text/plain": [
       "15"
      ]
     },
     "execution_count": 110,
     "metadata": {},
     "output_type": "execute_result"
    }
   ],
   "source": [
    "def add(x,y):\n",
    "    x = input(\"Enter first number: \")\n",
    "    y = input(\"Enter second number: \")\n",
    "    z = int(x) + int(y)\n",
    "    return z\n",
    "add(x,y)\n"
   ]
  },
  {
   "cell_type": "code",
   "execution_count": 132,
   "metadata": {},
   "outputs": [
    {
     "data": {
      "text/plain": [
       "'100 * 5 = 500'"
      ]
     },
     "execution_count": 132,
     "metadata": {},
     "output_type": "execute_result"
    }
   ],
   "source": [
    "#To make all mathematical operations in one function\n",
    "def math_operation(x,y,opr):\n",
    "    x = input('Enter first number: ')\n",
    "    y = input('Enter second number: ')\n",
    "    opr = input('Enter operation: ')\n",
    "    return (f\"{x} {opr} {y} = {eval(x+opr+y)}\")      \n",
    "math_operation(1,2,3)\n",
    "# print(math_operation(1,2,3))\n",
    "\n",
    "#either one works, check for yourself\n"
   ]
  },
  {
   "cell_type": "code",
   "execution_count": 137,
   "metadata": {},
   "outputs": [
    {
     "name": "stdout",
     "output_type": "stream",
     "text": [
      "0\n"
     ]
    }
   ],
   "source": [
    "#to use decorator in functions, meaning we can add more functionality to the function without changing the function itself\n",
    "lst = [0,1,2,3]\n",
    "def add(*y):\n",
    "    c=0\n",
    "    for i in y:\n",
    "        c = c+i\n",
    "        return c\n",
    "\n",
    "\n",
    "print(add(*lst))"
   ]
  },
  {
   "cell_type": "code",
   "execution_count": 146,
   "metadata": {},
   "outputs": [
    {
     "name": "stdout",
     "output_type": "stream",
     "text": [
      "ahmed\n",
      "(20, 'cairo', 2000)\n"
     ]
    }
   ],
   "source": [
    "def info(name,*data):\n",
    "    print(name)\n",
    "    print(data)\n",
    "info('ahmed',20,'cairo',2000)\n"
   ]
  },
  {
   "cell_type": "code",
   "execution_count": 147,
   "metadata": {},
   "outputs": [
    {
     "name": "stdout",
     "output_type": "stream",
     "text": [
      "ahmed\n",
      "{'age': 20, 'city': 'cairo', 'year_of_birth': 2000}\n",
      "ahmed\n",
      "{'age': 20, 'city': 'cairo', 'year_of_birth': 2000}\n",
      "<class 'NoneType'>\n"
     ]
    }
   ],
   "source": [
    "def info(name,**data):\n",
    "    print(name)\n",
    "    print(data)\n",
    "info('ahmed',age=20,city='cairo',year_of_birth=2000)\n",
    "print(type(info('ahmed',age=20,city='cairo',year_of_birth=2000)))   #this is not a dictionary. only the data is a dictionary, not the whole function"
   ]
  },
  {
   "cell_type": "code",
   "execution_count": 150,
   "metadata": {},
   "outputs": [
    {
     "data": {
      "text/plain": [
       "([2, 4, 6, 8, 10], [1, 3, 5, 7, 9])"
      ]
     },
     "execution_count": 150,
     "metadata": {},
     "output_type": "execute_result"
    }
   ],
   "source": [
    "#to make a function that takes a range or list of number and out puts the even and odd numbers in that range or list\n",
    "def even_odd(x):\n",
    "    even=[]\n",
    "    odd=[]\n",
    "    for i in x:\n",
    "        if i%2==0:\n",
    "            even.append(i)\n",
    "        else:\n",
    "            odd.append(i)\n",
    "    return even,odd\n",
    "even_odd([1,2,3,4,5,6,7,8,9,10])\n"
   ]
  },
  {
   "cell_type": "code",
   "execution_count": 151,
   "metadata": {},
   "outputs": [
    {
     "data": {
      "text/plain": [
       "[2, 3, 5, 7]"
      ]
     },
     "execution_count": 151,
     "metadata": {},
     "output_type": "execute_result"
    }
   ],
   "source": [
    "#now for a function that outputs the primary numbers in a range or list\n",
    "def primary(x):\n",
    "    primary=[]\n",
    "    for i in x:\n",
    "        if i==1:\n",
    "            continue\n",
    "        elif i==2:\n",
    "            primary.append(i)\n",
    "        else:\n",
    "            for j in range(2,i):\n",
    "                if i%j==0:\n",
    "                    break\n",
    "            else:\n",
    "                primary.append(i)\n",
    "    return primary\n",
    "primary([1,2,3,4,5,6,7,8,9,10])"
   ]
  },
  {
   "cell_type": "code",
   "execution_count": 152,
   "metadata": {},
   "outputs": [
    {
     "data": {
      "text/plain": [
       "3"
      ]
     },
     "execution_count": 152,
     "metadata": {},
     "output_type": "execute_result"
    }
   ],
   "source": [
    "#to make a function that takes 2 numbers and returns the maximum\n",
    "def maximum(x,y):\n",
    "    if x>y:\n",
    "        return x\n",
    "    else:\n",
    "        return y\n",
    "maximum(2,3)"
   ]
  },
  {
   "cell_type": "code",
   "execution_count": 153,
   "metadata": {},
   "outputs": [
    {
     "data": {
      "text/plain": [
       "3"
      ]
     },
     "execution_count": 153,
     "metadata": {},
     "output_type": "execute_result"
    }
   ],
   "source": [
    "#now for a function that takes 3 number and determines the largest of them\n",
    "def max3(a,b,c):\n",
    "    if a>b and a>c:\n",
    "        return a\n",
    "    elif b>a and b>c:\n",
    "        return b\n",
    "    else:\n",
    "        return c\n",
    "max3(1,2,3)"
   ]
  },
  {
   "cell_type": "code",
   "execution_count": 154,
   "metadata": {},
   "outputs": [
    {
     "data": {
      "text/plain": [
       "10"
      ]
     },
     "execution_count": 154,
     "metadata": {},
     "output_type": "execute_result"
    }
   ],
   "source": [
    "#now for a generalized function that gets the maximum value of a list\n",
    "def max_value(list):\n",
    "    max = list[0]\n",
    "    for i in list:\n",
    "        if i > max:\n",
    "            max = i\n",
    "    return max\n",
    "max_value([1,2,3,4,5,6,7,8,9,10])"
   ]
  },
  {
   "cell_type": "code",
   "execution_count": 155,
   "metadata": {},
   "outputs": [
    {
     "data": {
      "text/plain": [
       "6"
      ]
     },
     "execution_count": 155,
     "metadata": {},
     "output_type": "execute_result"
    }
   ],
   "source": [
    "#now for a different type of function that is used to find also the maximum value of 3 numbers\n",
    "def max_of_two(x, y):\n",
    "    if x > y:\n",
    "        return x\n",
    "    return y\n",
    "def max_of_three(x, y, z):\n",
    "    return max_of_two(x, max_of_two(y, z))\n",
    "max_of_three(3, 6, -5)"
   ]
  },
  {
   "cell_type": "code",
   "execution_count": null,
   "metadata": {},
   "outputs": [],
   "source": []
  }
 ],
 "metadata": {
  "kernelspec": {
   "display_name": "Python 3",
   "language": "python",
   "name": "python3"
  },
  "language_info": {
   "codemirror_mode": {
    "name": "ipython",
    "version": 3
   },
   "file_extension": ".py",
   "mimetype": "text/x-python",
   "name": "python",
   "nbconvert_exporter": "python",
   "pygments_lexer": "ipython3",
   "version": "3.10.9"
  },
  "orig_nbformat": 4
 },
 "nbformat": 4,
 "nbformat_minor": 2
}
