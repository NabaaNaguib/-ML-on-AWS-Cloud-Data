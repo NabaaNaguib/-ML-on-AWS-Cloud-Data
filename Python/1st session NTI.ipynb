{
 "cells": [
  {
   "cell_type": "code",
   "execution_count": 14,
   "metadata": {},
   "outputs": [
    {
     "name": "stdout",
     "output_type": "stream",
     "text": [
      "Hi!!!\n",
      " welcome, user\n",
      "Hi!!\n",
      "welcome, user\n"
     ]
    }
   ],
   "source": [
    "print('Hi!!!\\n welcome, user')      # we use \\n to make the following text at the next line, not next to the previous text \n",
    "#notice that the way to distinguish 2 print()  commands from a single command used \\n in it is that \n",
    "# the \\'n leaves a space between the 2 texts\n",
    "print('Hi!!')\n",
    "print('welcome, user')"
   ]
  },
  {
   "cell_type": "code",
   "execution_count": 1,
   "metadata": {},
   "outputs": [
    {
     "name": "stdout",
     "output_type": "stream",
     "text": [
      "My name is Monty Python.\n"
     ]
    }
   ],
   "source": [
    "print(\"My name is \", end=\"\")      # the end=\"\" is used to make the following text at the same line, not at the next line\n",
    "print(\"Monty Python.\")\n"
   ]
  },
  {
   "cell_type": "code",
   "execution_count": 4,
   "metadata": {},
   "outputs": [
    {
     "name": "stdout",
     "output_type": "stream",
     "text": [
      "My-name-is-Monty-Python.\n"
     ]
    }
   ],
   "source": [
    "print(\"My\", \"name\", \"is\", \"Monty\", \"Python.\", sep=\"-\")   # the sep=\"-\" is used to make the following text separated by \"-\", not by space"
   ]
  },
  {
   "cell_type": "code",
   "execution_count": 2,
   "metadata": {},
   "outputs": [
    {
     "name": "stdout",
     "output_type": "stream",
     "text": [
      "My_name_is*Monty*Python.*\n"
     ]
    }
   ],
   "source": [
    "print(\"My\", \"name\", \"is\", sep=\"_\" , end=\"*\" )    # the sep=\"_\" is used to make the following text separated by \"_\", not by space and the end=\"*\" is used to make the following text at the same line, not at the next lin)    # the sep=\"_\" is used to make the following text separated by \"_\", not by space and the end=\"*\" is used to make the following text at the same line, not at the next line\n",
    "print(\"Monty\", \"Python.\", sep=\"*\", end=\"*\\n\")  # the end=\"*\\n\" is used to make the following text at the next line, not next to the previous text, and the sep=\"*\" is used to make the following text separated by \"*\", not by space\n",
    "# I recommend removing an argument at a time and see how the output changes everythime"
   ]
  },
  {
   "cell_type": "code",
   "execution_count": 5,
   "metadata": {},
   "outputs": [
    {
     "name": "stdout",
     "output_type": "stream",
     "text": [
      "2+3= 5\n"
     ]
    }
   ],
   "source": [
    "print( \"2+3=\", 2+3)  # notice that the 2+3 is not a string, so it will be calculated and the result will be printed\n",
    "#meanwhile, this is when you replace the , with +, the output will be an error, because the + is used to concatenate strings, not to calculate numbers\n",
    "###print( \"2+3=\" + 2+3)  # notice that the 2+3 is not a string, so it will be calculated and the result will be printed\n",
    "#when you come up to this cell run the 1st one and make the 2nd as a comment, then when you wanna run the 2nd command make the 1st a comment."
   ]
  },
  {
   "cell_type": "code",
   "execution_count": 6,
   "metadata": {},
   "outputs": [
    {
     "name": "stdout",
     "output_type": "stream",
     "text": [
      "c:\\ a directory here\n"
     ]
    }
   ],
   "source": [
    "print('c:\\\\ a directory here')  #this to remind you that when you write a directory inside the print() cpmmand you should write a doublew forward slash \\\\ not a single one.\n"
   ]
  },
  {
   "cell_type": "code",
   "execution_count": 11,
   "metadata": {},
   "outputs": [
    {
     "name": "stdout",
     "output_type": "stream",
     "text": [
      "\t\n",
      "my name is nabaa \t and I'm 20 years old\n",
      "my name is nabaa and I'm 20 years old\n"
     ]
    }
   ],
   "source": [
    "print('\\t') #the \\t is used to make a tab space\n",
    "print(\"my name is nabaa \\t and I'm 20 years old\")\n",
    "print(\"my name is nabaa and I'm 20 years old\")\n",
    "#notice the difference here"
   ]
  },
  {
   "cell_type": "code",
   "execution_count": 17,
   "metadata": {},
   "outputs": [
    {
     "name": "stdout",
     "output_type": "stream",
     "text": [
      "c:\\\\\n",
      "c:\\\\\n"
     ]
    }
   ],
   "source": [
    "print(R\"c:\\\\\") #the R is used to make the following text as it is, without any changes, so the \\ will be printed as it is, not as a command\n",
    "#notice now that the \\\\ is shown here\n",
    "print(r\"c:\\\\\")   #the R and r do the same thing, keep it in record"
   ]
  },
  {
   "cell_type": "code",
   "execution_count": 24,
   "metadata": {},
   "outputs": [
    {
     "name": "stdout",
     "output_type": "stream",
     "text": [
      "\"Hello\n",
      "'Hello'\n",
      "'Hello'\n",
      "\"hello\"\n"
     ]
    }
   ],
   "source": [
    "print(\"\\\"Hello\")  \n",
    "print(\"\\'Hello'\")\n",
    "print(\"'Hello'\")\n",
    "print('\\\"hello\"')\n",
    "#the point of this cell is to notice how the \\\" and \\' neglect the effect of single and double quotes."
   ]
  },
  {
   "cell_type": "code",
   "execution_count": 6,
   "metadata": {},
   "outputs": [
    {
     "name": "stdout",
     "output_type": "stream",
     "text": [
      "+----------+\n",
      "+----------+\n",
      "+----------+\n",
      "+----------+\n",
      "+----------+\n",
      "\n",
      "########################\n",
      "+----------+\n",
      "\n",
      "+----------+\n",
      "+----------+\n",
      "+----------+\n",
      "+----------+\n",
      "+----------+\n",
      "\n",
      "########################\n",
      "+----------+\n",
      "\n",
      "+----------+\n",
      "+----------+\n",
      "+----------+\n",
      "+----------+\n",
      "+----------+\n",
      "\n"
     ]
    }
   ],
   "source": [
    "# to print a text and multiply it by a number, we use the * sign\n",
    "print(5* \"+----------+\\n\")\n",
    "print(\"########################\")\n",
    "print('+'+10*'-'+'+\\n')            #this is for 1 line\n",
    "print(('+'+10*'-'+'+\\n')*5)        #this is for 5 lines\n",
    "print(\"########################\")\n",
    "#we can also use variables to make the code more readable\n",
    "a = 10\n",
    "b = 5\n",
    "print('+' +10* '-' + '+\\n')       #again, this is for 1 line\n",
    "print(('+' +10* '-' + '+\\n')*5)   #again, this is for 5 lines"
   ]
  },
  {
   "cell_type": "code",
   "execution_count": 9,
   "metadata": {},
   "outputs": [
    {
     "name": "stdout",
     "output_type": "stream",
     "text": [
      "60\n"
     ]
    }
   ],
   "source": [
    "print(int(input(\"Enter a number: \")) + int(input(\"Enter another number: \")))  #this is to add 2 numbers\n",
    "#the same method goes on for the other operations"
   ]
  },
  {
   "cell_type": "code",
   "execution_count": 22,
   "metadata": {},
   "outputs": [
    {
     "name": "stdout",
     "output_type": "stream",
     "text": [
      "a= 25\n",
      "b= 15\n",
      "a+b= 40\n",
      "###################\n",
      "25 + 15 = 40\n",
      "###################\n",
      "25 + 15 = 40\n"
     ]
    }
   ],
   "source": [
    "a = 25\n",
    "b = 15\n",
    "print('a=' , a)\n",
    "print('b=' , b)\n",
    "print('a+b=' , a+b)\n",
    "print('###################')\n",
    "print(f\"{a} + {b} = {a+b}\")\n",
    "#Difference between the 2 methods is that the 1st one is more readable, but the 2nd one is more flexible, because you can add more than 2 variables in the same print() command\n",
    "#Try to do examples on your own using the f' method in the print() command\n",
    "\n",
    "#or it can be done using the .format() as such\n",
    "print('###################')\n",
    "print(\"{0} + {1} = {2}\".format(a,b,a+b))"
   ]
  },
  {
   "cell_type": "code",
   "execution_count": 27,
   "metadata": {},
   "outputs": [
    {
     "name": "stdout",
     "output_type": "stream",
     "text": [
      "<class 'str'>\n",
      "<class 'float'>\n",
      "<class 'bool'>\n",
      "<class 'int'>\n",
      "<class 'complex'>\n"
     ]
    }
   ],
   "source": [
    "#Introducing the type() command and all the data types\n",
    "k=\"Ahmed\"\n",
    "print(type(k))\n",
    "\n",
    "o=2.2\n",
    "print(type(o))\n",
    "\n",
    "p= True\n",
    "print(type(p))\n",
    "\n",
    "d= 3\n",
    "print(type(d))\n",
    "\n",
    "z= 3+5j\n",
    "print(type(z))"
   ]
  },
  {
   "cell_type": "code",
   "execution_count": 33,
   "metadata": {},
   "outputs": [
    {
     "name": "stdout",
     "output_type": "stream",
     "text": [
      "12\n",
      "10\n",
      "12\n",
      "34\n"
     ]
    }
   ],
   "source": [
    "print(0b1100)   #adding 0b before the number makes it a binary number\n",
    "print(0o12)     #adding 0o before the number makes it an octal number\n",
    "print(0xc)      #adding 0x before the number makes it a hexadecimal number\n",
    "print(0b1100 + 0o12 + 0xc)   #this is to show that the 3 numbers are the same"
   ]
  },
  {
   "cell_type": "code",
   "execution_count": 35,
   "metadata": {},
   "outputs": [
    {
     "name": "stdout",
     "output_type": "stream",
     "text": [
      "True\n",
      "False\n"
     ]
    },
    {
     "name": "stderr",
     "output_type": "stream",
     "text": [
      "<>:3: SyntaxWarning: \"is\" with a literal. Did you mean \"==\"?\n",
      "<>:3: SyntaxWarning: \"is\" with a literal. Did you mean \"==\"?\n",
      "C:\\Users\\HP\\AppData\\Local\\Temp\\ipykernel_13216\\2841592373.py:3: SyntaxWarning: \"is\" with a literal. Did you mean \"==\"?\n",
      "  print(2+3 is 6) #this is to check if 2+3 is 6 or not, and the output will be False or True\n"
     ]
    }
   ],
   "source": [
    "#know that to check inside the print() command you could use is\n",
    "print(2+3==5)   #this is to check if 2+3 is equal to 5 or not, and the output will be True\n",
    "print(2+3 is 6) #this is to check if 2+3 is 6 or not, and the output will be False or True"
   ]
  },
  {
   "cell_type": "code",
   "execution_count": 38,
   "metadata": {},
   "outputs": [
    {
     "name": "stdout",
     "output_type": "stream",
     "text": [
      "3.0\n",
      "5.0\n",
      "(3-5j)\n"
     ]
    }
   ],
   "source": [
    "#for complex number to get the real part use .real and to get the imaginary part use .imag\n",
    "z = 3+5j\n",
    "print(z.real)\n",
    "print(z.imag)\n",
    "print(z.conjugate())    #this is to get the conjugate of the complex number"
   ]
  },
  {
   "cell_type": "code",
   "execution_count": 40,
   "metadata": {},
   "outputs": [
    {
     "name": "stdout",
     "output_type": "stream",
     "text": [
      "ello, welcome to my world.\n",
      "Hello, welcome to my world.\n",
      ".\n",
      "d.\n",
      "Hello\n",
      "Hello, welcome to my world.\n",
      "Hlo ecm om ol.\n",
      ".dlrow ym ot emoclew ,olleH\n",
      ".lo mo mce olH\n"
     ]
    }
   ],
   "source": [
    "txt = \"Hello, welcome to my world.\"\n",
    "print(txt[1::])    #means start from index 1 and go to the end\n",
    "print(txt[0::])     #means start from index 0 and go to the end, in other words: the whole text \n",
    "print(txt[-1::])   #means start from the last index and go to the end, in other words: the last letter\n",
    "print(txt[-2::])   #means start from the second last index and go to the end, in other words: the last two letters\n",
    "print(txt[0:5:])   #means start from index 0 and go to index 5, in other words: the first 5 letters\n",
    "\n",
    "\n",
    "print(txt[::1])    #means start from the first index and go to the end, in other words: the whole text\n",
    "print(txt[::2])    #means start from the first index and go to the end, in other words: the whole text but every second letter\n",
    "\n",
    "#you can also use negative numbers to start from the end\n",
    "print(txt[::-1])   #means start from the last index and go to the end, in other words: the whole text but in reverse\n",
    "print(txt[::-2])   #means start from the last index and go to the end, in other words: the whole text but in reverse and every second letter\n",
    "\n",
    "#now you can imagine how can slicing works, I recommend you to try it on your own with different numbers and different texts"
   ]
  },
  {
   "cell_type": "code",
   "execution_count": 42,
   "metadata": {},
   "outputs": [
    {
     "name": "stdout",
     "output_type": "stream",
     "text": [
      "My Name is Nabaa Naguib Mostafa  Mostafa \n"
     ]
    }
   ],
   "source": [
    "#strings can be multiplied\n",
    "\n",
    "x = 'My Name is '\n",
    "y = input('please put your name here: ')\n",
    "z = ' Mostafa '\n",
    "print(x + y + 2*z)"
   ]
  },
  {
   "cell_type": "code",
   "execution_count": 44,
   "metadata": {},
   "outputs": [
    {
     "name": "stdout",
     "output_type": "stream",
     "text": [
      "the circumfrance of the cricle is  31.400000000000002\n",
      "######################################\n",
      "the circumfrance of the cricle is  31\n"
     ]
    }
   ],
   "source": [
    "pi=3.14\n",
    "R= eval(input(\"Enter the Radius \"))\n",
    "circ=(2*pi*R)\n",
    "print(\"the circumfrance of the cricle is \", circ)\n",
    "print('######################################')\n",
    "pi=3.14\n",
    "R=input(\"Enter the Radius \")\n",
    "circ=(2*pi*int(R))\n",
    "print(\"the circumfrance of the cricle is \", int(circ))\n",
    "#this is called type casting, which means changing the type of the variable from one type to another\n"
   ]
  },
  {
   "cell_type": "code",
   "execution_count": 46,
   "metadata": {},
   "outputs": [
    {
     "name": "stdout",
     "output_type": "stream",
     "text": [
      "1\n",
      "9\n"
     ]
    }
   ],
   "source": [
    "print(3^2)\n",
    "#not the correct way to get the square of a number\n",
    "\n",
    "print(3**2)\n",
    "#the correct way to get the square of a number"
   ]
  },
  {
   "cell_type": "code",
   "execution_count": 48,
   "metadata": {},
   "outputs": [
    {
     "name": "stdout",
     "output_type": "stream",
     "text": [
      "2 3\n",
      "#####################################\n",
      "3\n",
      "2\n"
     ]
    }
   ],
   "source": [
    "A=2\n",
    "B=3\n",
    "z=3\n",
    "B=A\n",
    "A=z\n",
    "print(B, A)\n",
    "#this is not the correct way to swap values \n",
    "print('#####################################')\n",
    "x=2\n",
    "y=3\n",
    "z=x\n",
    "x=y\n",
    "y=z\n",
    "print(x)\n",
    "print(y)\n",
    "#this is the correect way to swap values of two variables\n",
    "#in other words, you don't assign a value to the new variable, but if fact assign it to 1 of your variables that you're trying to swap values of.\n"
   ]
  },
  {
   "cell_type": "code",
   "execution_count": 50,
   "metadata": {},
   "outputs": [
    {
     "name": "stdout",
     "output_type": "stream",
     "text": [
      "2\n",
      "1\n",
      "#####################################\n",
      "nAbAa\n",
      "NABAA\n",
      "nabaa\n"
     ]
    }
   ],
   "source": [
    "#identifying in 1 line \n",
    "x=2 ; y=1\n",
    "print(x)\n",
    "print(y)\n",
    "print('#####################################')\n",
    "N=str(input(\"Enter your name\\n\"))\n",
    "q=N.upper()           #using upper and lower\n",
    "a=N.lower()\n",
    "print(N)\n",
    "print(q)\n",
    "print(a)"
   ]
  },
  {
   "cell_type": "code",
   "execution_count": 55,
   "metadata": {},
   "outputs": [
    {
     "ename": "NameError",
     "evalue": "name 'g' is not defined",
     "output_type": "error",
     "traceback": [
      "\u001b[1;31m---------------------------------------------------------------------------\u001b[0m",
      "\u001b[1;31mNameError\u001b[0m                                 Traceback (most recent call last)",
      "Cell \u001b[1;32mIn[55], line 5\u001b[0m\n\u001b[0;32m      3\u001b[0m E\u001b[39m=\u001b[39m\u001b[39meval\u001b[39m(\u001b[39minput\u001b[39m(\u001b[39m'\u001b[39m\u001b[39menter an equation here: \u001b[39m\u001b[39m'\u001b[39m))\n\u001b[0;32m      4\u001b[0m z\u001b[39m=\u001b[39m\u001b[39meval\u001b[39m(\u001b[39minput\u001b[39m(\u001b[39m\"\u001b[39m\u001b[39mEnter a boolean\u001b[39m\u001b[39m\"\u001b[39m))\n\u001b[1;32m----> 5\u001b[0m y\u001b[39m=\u001b[39m\u001b[39meval\u001b[39;49m(\u001b[39minput\u001b[39;49m(\u001b[39m\"\u001b[39;49m\u001b[39mEnter a text: \u001b[39;49m\u001b[39m\"\u001b[39;49m))\n\u001b[0;32m      6\u001b[0m \u001b[39mprint\u001b[39m(x)\n\u001b[0;32m      7\u001b[0m \u001b[39mprint\u001b[39m(E)\n",
      "File \u001b[1;32m<string>:1\u001b[0m\n",
      "\u001b[1;31mNameError\u001b[0m: name 'g' is not defined"
     ]
    }
   ],
   "source": [
    "# eval() function\n",
    "x=eval(input(\"Enter a number: \"))\n",
    "E=eval(input('enter an equation here: '))\n",
    "z=eval(input(\"Enter a boolean\"))\n",
    "#y=eval(input(\"Enter a text: \"))\n",
    "print(x)\n",
    "print(E)\n",
    "print(z)\n",
    "#print(y)\n",
    "print(type(x))\n",
    "print(type(E))\n",
    "print(type(z))\n",
    "#print(type(y))\n",
    "#eval() function with texts needs to be written between \"\" or '' and it goes like this\n",
    "eval(\"text\")\n"
   ]
  },
  {
   "cell_type": "code",
   "execution_count": 56,
   "metadata": {},
   "outputs": [
    {
     "ename": "NameError",
     "evalue": "name 'text' is not defined",
     "output_type": "error",
     "traceback": [
      "\u001b[1;31m---------------------------------------------------------------------------\u001b[0m",
      "\u001b[1;31mNameError\u001b[0m                                 Traceback (most recent call last)",
      "Cell \u001b[1;32mIn[56], line 2\u001b[0m\n\u001b[0;32m      1\u001b[0m \u001b[39m#eval() function with texts needs to be written between \"\" or '' and it goes like this\u001b[39;00m\n\u001b[1;32m----> 2\u001b[0m \u001b[39meval\u001b[39;49m(\u001b[39m\"\u001b[39;49m\u001b[39mtext\u001b[39;49m\u001b[39m\"\u001b[39;49m)\n",
      "File \u001b[1;32m<string>:1\u001b[0m\n",
      "\u001b[1;31mNameError\u001b[0m: name 'text' is not defined"
     ]
    }
   ],
   "source": [
    "#eval() function with texts needs to be written between \"\" or '' and it goes like this\n",
    "eval(\"text\")"
   ]
  },
  {
   "cell_type": "code",
   "execution_count": 71,
   "metadata": {},
   "outputs": [
    {
     "name": "stdout",
     "output_type": "stream",
     "text": [
      "51\n",
      "n\n",
      "110\n",
      "nabaa\n",
      "110\n",
      "A\n",
      "7\n",
      "\u0007\n",
      "0 \u0000\n",
      "1 \u0001\n",
      "2 \u0002\n",
      "3 \u0003\n",
      "4 \u0004\n",
      "0 n\n",
      "1 a\n",
      "2 b\n",
      "3 a\n",
      "4 a\n"
     ]
    }
   ],
   "source": [
    "# ord() function\n",
    "print(ord('3'))  #the arguments of the ord() function is a single character, and it returns the ASCII value of that character\n",
    "\n",
    "#it can be generalized as follows\n",
    "x = input(\"Enter a character: \")\n",
    "print(x)\n",
    "print(ord(x))\n",
    "#But the issue is that ord() only accepts 1 character, so if you enter more than 1 character it will give you an error\n",
    "\n",
    "#so to solve this issue we use the following method\n",
    "y = input(\"Enter a character: \")\n",
    "print(y)\n",
    "print(ord(y[0]))  #notice that we used y[0] to get the first character of the string y\n",
    "\n",
    "#chr() function\n",
    "print(chr(65))  #the arguments of the chr() function is a single number, and it returns the character of that ASCII value\n",
    "\n",
    "#it can be generalized as follows\n",
    "x = eval(input(\"Enter a number: \"))\n",
    "print(x)\n",
    "print(chr(x))\n",
    "\n",
    "#But to get the ASCII of all the chararcter we introduce the loops, as follows\n",
    "for i in range(5):\n",
    "    print(i, chr(i))\n",
    "\n",
    "word = input(\"Enter a word: \")\n",
    "for i in range(len(word)):\n",
    "    print(i, word[i])"
   ]
  },
  {
   "cell_type": "code",
   "execution_count": 70,
   "metadata": {},
   "outputs": [
    {
     "name": "stdout",
     "output_type": "stream",
     "text": [
      "0 \u0000\n",
      "1 \u0001\n",
      "2 \u0002\n",
      "3 \u0003\n",
      "4 \u0004\n",
      "0 N 78\n",
      "1 a 97\n",
      "2 b 98\n",
      "3 a 97\n",
      "4 a 97\n"
     ]
    }
   ],
   "source": [
    "#But to get the ASCII of all the chararcter we introduce the loops, as follows\n",
    "for i in range(5):\n",
    "    print(i, chr(i))\n",
    "\n",
    "\n",
    "#we can also use the following method    \n",
    "word = input(\"Enter a word: \")\n",
    "for i in range(len(word)):\n",
    "    print(i, word[i] , ord(word[i]))\n",
    "\n",
    "#I recommend trying loops with \\n , \\t and \\r to practice what we studied and apply it here"
   ]
  },
  {
   "cell_type": "code",
   "execution_count": 73,
   "metadata": {},
   "outputs": [
    {
     "name": "stdout",
     "output_type": "stream",
     "text": [
      "[1, 2, 3, 4]\n",
      "[1, 2, 3, 4]\n",
      "[1, 2, 3, 4, 5]\n",
      "[1, 2, 3, 4]\n",
      "[1, 2, 3, 4, 5]\n",
      "[1, 2, 3, 4, 5]\n",
      "[1, 2, 3, 4, 5, 6]\n",
      "[1, 2, 3, 4, 5, 6]\n"
     ]
    }
   ],
   "source": [
    "#to make a new list copy of a list that already exists\n",
    "list15 = [1,2,3,4]\n",
    "list16 = list15.copy()\n",
    "print(list15)\n",
    "print(list16)\n",
    "#copy is called a shallow copy, because the new list won't be affected by changes that happen in the original list\n",
    "list15.append(5)\n",
    "print(list15)\n",
    "print(list16)\n",
    "#if we don't want to make a shallow copy we do this\n",
    "list17 = list15\n",
    "print(list15)\n",
    "print(list17)\n",
    "list15.append(6)\n",
    "print(list15)\n",
    "print(list17)\n",
    "#notice that the changes that happen in the original list will now affect the new list"
   ]
  },
  {
   "cell_type": "code",
   "execution_count": 74,
   "metadata": {},
   "outputs": [
    {
     "name": "stdout",
     "output_type": "stream",
     "text": [
      "('Nabaa', 'Oamr')\n",
      "('Sanaa', 'Naguib')\n",
      "<class 'tuple'>\n",
      "<class 'tuple'>\n"
     ]
    }
   ],
   "source": [
    "Tuple1 = (\"Nabaa\" , \"Oamr\")\n",
    "Tuple2 = \"Sanaa\" , \"Naguib\"\n",
    "print(Tuple1)\n",
    "print(Tuple2)\n",
    "print(type(Tuple1))\n",
    "print(type(Tuple2))"
   ]
  },
  {
   "cell_type": "code",
   "execution_count": 75,
   "metadata": {},
   "outputs": [
    {
     "ename": "TypeError",
     "evalue": "'tuple' object does not support item assignment",
     "output_type": "error",
     "traceback": [
      "\u001b[1;31m---------------------------------------------------------------------------\u001b[0m",
      "\u001b[1;31mTypeError\u001b[0m                                 Traceback (most recent call last)",
      "Cell \u001b[1;32mIn[75], line 3\u001b[0m\n\u001b[0;32m      1\u001b[0m \u001b[39m#Tuples are immutable = can't add or change or delete any value within the tuple\u001b[39;00m\n\u001b[0;32m      2\u001b[0m Tuple4 \u001b[39m=\u001b[39m (\u001b[39m9\u001b[39m , \u001b[39m8\u001b[39m ,\u001b[39m7\u001b[39m , \u001b[39m6\u001b[39m , \u001b[39m5\u001b[39m)\n\u001b[1;32m----> 3\u001b[0m Tuple4[\u001b[39m4\u001b[39m] \u001b[39m=\u001b[39m \u001b[39m\"\u001b[39m\u001b[39mFive\u001b[39m\u001b[39m\"\u001b[39m\n\u001b[0;32m      4\u001b[0m \u001b[39mprint\u001b[39m(Tuple4)\n",
      "\u001b[1;31mTypeError\u001b[0m: 'tuple' object does not support item assignment"
     ]
    }
   ],
   "source": [
    "#Tuples are immutable = can't add or change or delete any value within the tuple\n",
    "Tuple4 = (9 , 8 ,7 , 6 , 5)\n",
    "Tuple4[4] = \"Five\"\n",
    "print(Tuple4)"
   ]
  },
  {
   "cell_type": "code",
   "execution_count": 77,
   "metadata": {},
   "outputs": [
    {
     "name": "stdout",
     "output_type": "stream",
     "text": [
      "(5,)\n",
      "(5,)\n",
      "<class 'tuple'>\n",
      "<class 'tuple'>\n"
     ]
    }
   ],
   "source": [
    "#how to write a tuple with one value only\n",
    "Tuple5 = (5, )\n",
    "Tuple6 = 5 ,\n",
    "print(Tuple5)\n",
    "print(Tuple6)\n",
    "print(type(Tuple5))\n",
    "print(type(Tuple6))\n"
   ]
  },
  {
   "cell_type": "code",
   "execution_count": 98,
   "metadata": {},
   "outputs": [
    {
     "name": "stdout",
     "output_type": "stream",
     "text": [
      "n a b a a 5\n",
      "<class 'str'>\n",
      "<class 'str'>\n",
      "5\n",
      "a l i 3\n",
      "<class 'str'>\n",
      "<class 'str'>\n",
      "3\n",
      "m o s t a f a 7\n",
      "<class 'str'>\n",
      "<class 'str'>\n",
      "7\n"
     ]
    }
   ],
   "source": [
    "x = ['Nabaa' , 3 , 5.5 , True]\n",
    "y = ['nabaa' , 'ali' , 'mostafa']\n",
    "c = 0\n",
    "for i in y:\n",
    "    for char in i:\n",
    "        print(char , end=\" \")\n",
    "        c+=1\n",
    "    print (c)\n",
    "    print(i.__class__)   #this is to know the type of each element in the list\n",
    "    print(type(i))       #this is another way to od it \n",
    "    c = 0\n",
    "    print(len(i))        #another way to calculate the number of characters in each element in the list without any loops\n",
    "\n",
    "\n",
    "#keep in mind that this works for the list y because it composes of strings, but if it was a list of numbers as well like list x it won't work\n",
    "#try removing the print(len(i)) and see the output"
   ]
  },
  {
   "cell_type": "code",
   "execution_count": 99,
   "metadata": {},
   "outputs": [
    {
     "name": "stdout",
     "output_type": "stream",
     "text": [
      "apple\n",
      "banana\n"
     ]
    }
   ],
   "source": [
    "x = [ \"apple\", \"banana\", \"cherry\"]\n",
    "for i in x:\n",
    "    print(i)\n",
    "    if i == \"banana\":\n",
    "        break\n",
    "\n",
    "#this means we can use break to stop the loop when a certain condition is met"
   ]
  },
  {
   "cell_type": "code",
   "execution_count": 100,
   "metadata": {},
   "outputs": [
    {
     "name": "stdout",
     "output_type": "stream",
     "text": [
      "0 1 2 3 4 5 6 7 8 9 "
     ]
    }
   ],
   "source": [
    "for i in range (10):\n",
    "    print(i , end=\" \")"
   ]
  },
  {
   "cell_type": "code",
   "execution_count": 138,
   "metadata": {},
   "outputs": [
    {
     "name": "stdout",
     "output_type": "stream",
     "text": [
      "x[-3] = ali\n",
      "x[-2] = nabaa\n",
      "x[-1] = mostafa\n"
     ]
    }
   ],
   "source": [
    "x = ['ali' , 'nabaa' , 'mostafa']\n",
    "for i in range(-len(x) , 0):\n",
    "    #to get the values in reverse order\n",
    "    print(f'x[{i}] = {x[i]}')\n"
   ]
  },
  {
   "cell_type": "code",
   "execution_count": 140,
   "metadata": {},
   "outputs": [
    {
     "name": "stdout",
     "output_type": "stream",
     "text": [
      "(9, 8, 7, 6, 'Five')\n"
     ]
    }
   ],
   "source": [
    "#Tuples are immutable = can't add or change or delete any value within the tuple\n",
    "Tuple4 = (9 , 8 ,7 , 6 , 5)\n",
    "#Tuple4[4] = \"Five\"\n",
    "#print(Tuple4)\n",
    "\n",
    "#to trick the system and change the value of a tuple, we do the following\n",
    "Tuple4 = list(Tuple4)\n",
    "Tuple4[4] = \"Five\"\n",
    "Tuple4 = tuple(Tuple4)\n",
    "print(Tuple4)"
   ]
  },
  {
   "cell_type": "code",
   "execution_count": 149,
   "metadata": {},
   "outputs": [
    {
     "name": "stdout",
     "output_type": "stream",
     "text": [
      "3\n",
      "3\n",
      "The position of index is 3.00\n",
      "The position of index is 3\n",
      "(1, 4, 6, 9, 3, 9, 2, 1, 9, 10, 1, 4, 6, 9, 3, 9, 2, 1, 9, 10, 1, 4, 6, 9, 3, 9, 2, 1, 9, 10)\n",
      "2\n",
      "8\n",
      "12\n",
      "18\n",
      "6\n",
      "18\n",
      "4\n",
      "2\n",
      "18\n",
      "20\n"
     ]
    }
   ],
   "source": [
    "#to know how many times a value was repeated\n",
    "tuple1 = (1,4,6,9,3,9,2,1,9,10)\n",
    "print(tuple1.count(9))\n",
    "\n",
    "#To know the index of a value in a tuple\n",
    "tuple2 = (1,4,6,9,3,9,2,1,9,10,11,14,2,9)\n",
    "print(tuple1.index(9))\n",
    "print(\"The position of index is {:.2f}\" .format(tuple1.index(9)))\n",
    "print(f\"The position of index is {tuple1.index(9)}\")\n",
    "\n",
    "tuple1_new =tuple1 *3\n",
    "print(tuple1_new)\n",
    "\n",
    "#keep in mind that this is wrong, this is an operation applied on an integer.\n",
    "for i in tuple1:\n",
    "    print(i*2)\n"
   ]
  },
  {
   "cell_type": "code",
   "execution_count": 157,
   "metadata": {},
   "outputs": [
    {
     "name": "stdout",
     "output_type": "stream",
     "text": [
      "hend\n",
      "nour\n"
     ]
    }
   ],
   "source": [
    "tuple3 = ( 'Ahmed' , 'Ali' , 'medhat' , 'hend' , 'nour')\n",
    "for i in tuple3:\n",
    "    #to get the values that don't have the letter a, we do this\n",
    "    if ('a' not in i and 'A' not in i):\n",
    "        print(i)\n",
    "\n"
   ]
  },
  {
   "cell_type": "code",
   "execution_count": 174,
   "metadata": {},
   "outputs": [
    {
     "name": "stdout",
     "output_type": "stream",
     "text": [
      "['hend', 'nour']\n"
     ]
    }
   ],
   "source": [
    "tuple3 = ( 'Ahmed' , 'Ali' , 'medhat' , 'hend' , 'nour')\n",
    "#to write it again but in one line, we do this\n",
    "print([i for i in tuple3 if ('a' not in i and 'A' not in i)])"
   ]
  },
  {
   "cell_type": "code",
   "execution_count": 184,
   "metadata": {},
   "outputs": [
    {
     "name": "stdout",
     "output_type": "stream",
     "text": [
      "[0, 1, 2, 3, 4, 5, 6, 7, 8, 9]\n",
      "range(-10, 10, 2)\n",
      "<class 'range'>\n",
      "[-10, -8, -6, -4, -2, 0, 2, 4, 6, 8]\n",
      "<class 'list'>\n",
      "(-10, -8, -6, -4, -2, 0, 2, 4, 6, 8)\n",
      "<class 'tuple'>\n"
     ]
    },
    {
     "ename": "TypeError",
     "evalue": "'range' object cannot be interpreted as an integer",
     "output_type": "error",
     "traceback": [
      "\u001b[1;31m---------------------------------------------------------------------------\u001b[0m",
      "\u001b[1;31mTypeError\u001b[0m                                 Traceback (most recent call last)",
      "Cell \u001b[1;32mIn[184], line 18\u001b[0m\n\u001b[0;32m     15\u001b[0m \u001b[39mprint\u001b[39m(\u001b[39mtype\u001b[39m(\u001b[39mtuple\u001b[39m(x)))\n\u001b[0;32m     16\u001b[0m \u001b[39m#the data type of the range is range, but it can be represented as a list or a tuple or a set or a dictionary\u001b[39;00m\n\u001b[0;32m     17\u001b[0m \u001b[39m#can a range be represented as a range? let's see\u001b[39;00m\n\u001b[1;32m---> 18\u001b[0m \u001b[39mprint\u001b[39m(\u001b[39mrange\u001b[39;49m(x))\n",
      "\u001b[1;31mTypeError\u001b[0m: 'range' object cannot be interpreted as an integer"
     ]
    }
   ],
   "source": [
    "# to transfor a range in a list we do this\n",
    "y = list(range(10))\n",
    "print(y)\n",
    "\n",
    "x =range(-10 , 10 , 2)\n",
    "print(x)\n",
    "print(type(x))\n",
    "#how to get rid of this isuue?\n",
    "print(list(x))\n",
    "print(type(list(x)))\n",
    "#it is a sequence of data, ask yourself what is the data type of this sequence? how can a sequence of data be represented or shown?\n",
    "#this is why the way to represent this range is to give it a data type then show it\n",
    "#can we turn it into a tuple? let's see\n",
    "print(tuple(x))\n",
    "print(type(tuple(x)))\n",
    "#the data type of the range is range, but it can be represented as a list or a tuple or a set or a dictionary\n",
    "#can a range be represented as a range? let's see\n",
    "#print(range(x))\n",
    "#run the previous command and check the output, it will give you an error, because a range can't be represented as a range, it can be represented as a list or a tuple or a set or a dictionary"
   ]
  },
  {
   "cell_type": "code",
   "execution_count": 186,
   "metadata": {},
   "outputs": [
    {
     "name": "stdout",
     "output_type": "stream",
     "text": [
      "False\n",
      "False\n",
      "False\n",
      "False\n",
      "True\n",
      "True\n"
     ]
    }
   ],
   "source": [
    "#boolean values\n",
    "a = \"\"\n",
    "b = ( )\n",
    "c = [ ]\n",
    "d = { }\n",
    "print(bool(a))\n",
    "print(bool(b))\n",
    "print(bool(c))\n",
    "print(bool(d))\n",
    "#but notice that:\n",
    "e = \" \"\n",
    "f = [\"\"]\n",
    "print(bool(e))\n",
    "print(bool(f))"
   ]
  },
  {
   "cell_type": "code",
   "execution_count": 191,
   "metadata": {},
   "outputs": [
    {
     "name": "stdout",
     "output_type": "stream",
     "text": [
      "1 2 3 [4, 5]\n",
      "1\n",
      "2\n",
      "3\n",
      "[4, 5]\n",
      "<class 'list'>\n"
     ]
    }
   ],
   "source": [
    "# adding a * before a variable when assigning a value to it means that the variable will be a list\n",
    "a,b,c,*d = 1,2,3,4,5\n",
    "print(a,b,c,d)\n",
    "print(a)\n",
    "print(b)\n",
    "print(c)\n",
    "print(d)\n",
    "print(type(d))\n",
    "# the * can be put before any variable\n",
    "#try it yourself"
   ]
  },
  {
   "cell_type": "code",
   "execution_count": 192,
   "metadata": {},
   "outputs": [
    {
     "name": "stdout",
     "output_type": "stream",
     "text": [
      "512\n"
     ]
    }
   ],
   "source": [
    "x = 2**3**2\n",
    "print(x)\n",
    "#this means (2 power of (3 power of 2)"
   ]
  },
  {
   "cell_type": "code",
   "execution_count": 194,
   "metadata": {},
   "outputs": [
    {
     "name": "stdout",
     "output_type": "stream",
     "text": [
      "30\n",
      "<class 'int'>\n"
     ]
    },
    {
     "ename": "NameError",
     "evalue": "name 'nabaa' is not defined",
     "output_type": "error",
     "traceback": [
      "\u001b[1;31m---------------------------------------------------------------------------\u001b[0m",
      "\u001b[1;31mNameError\u001b[0m                                 Traceback (most recent call last)",
      "Cell \u001b[1;32mIn[194], line 5\u001b[0m\n\u001b[0;32m      3\u001b[0m \u001b[39mprint\u001b[39m(x)\n\u001b[0;32m      4\u001b[0m \u001b[39mprint\u001b[39m(\u001b[39mtype\u001b[39m(x))\n\u001b[1;32m----> 5\u001b[0m y \u001b[39m=\u001b[39m \u001b[39meval\u001b[39;49m(\u001b[39minput\u001b[39;49m(\u001b[39m\"\u001b[39;49m\u001b[39mEnter a text: \u001b[39;49m\u001b[39m\"\u001b[39;49m))\n\u001b[0;32m      6\u001b[0m \u001b[39mprint\u001b[39m(y)\n\u001b[0;32m      7\u001b[0m \u001b[39mprint\u001b[39m(\u001b[39mtype\u001b[39m(y))\n",
      "File \u001b[1;32m<string>:1\u001b[0m\n",
      "\u001b[1;31mNameError\u001b[0m: name 'nabaa' is not defined"
     ]
    }
   ],
   "source": [
    "#eval() function\n",
    "x = eval(input(\"Enter a number: \"))\n",
    "print(x)\n",
    "print(type(x))\n",
    "y = eval(input(\"Enter a text: \"))\n",
    "print(y)\n",
    "print(type(y))\n"
   ]
  },
  {
   "cell_type": "code",
   "execution_count": 201,
   "metadata": {},
   "outputs": [
    {
     "name": "stdout",
     "output_type": "stream",
     "text": [
      "10\n",
      "[10]\n"
     ]
    }
   ],
   "source": [
    "x = input('enter 1st no.: ')\n",
    "y = input('enter 2nd no.: ')\n",
    "c = input('enter operation as follows (+,-,*,/): ')\n",
    "if c == '+':\n",
    "    print(int(x)+int(y))\n",
    "elif c == '-':\n",
    "    print(int(x)-int(y))\n",
    "elif c == '*':\n",
    "    print(int(x)*int(y))\n",
    "elif c == '/':\n",
    "    print(int(x)/int(y))\n",
    "else:\n",
    "    print('invalid operation')\n"
   ]
  },
  {
   "cell_type": "code",
   "execution_count": 211,
   "metadata": {},
   "outputs": [
    {
     "name": "stdout",
     "output_type": "stream",
     "text": [
      "20\n"
     ]
    }
   ],
   "source": [
    "#a more simpler way is this:\n",
    "x = input('enter 1st no.: ')\n",
    "y = input('enter 2nd no.: ')\n",
    "c = input('enter operation as follows (+,-,*,/): ')\n",
    "print(eval(f\"{x}{c}{y}\"))\n"
   ]
  },
  {
   "cell_type": "code",
   "execution_count": 216,
   "metadata": {},
   "outputs": [
    {
     "name": "stdout",
     "output_type": "stream",
     "text": [
      "your grade is: A\n"
     ]
    }
   ],
   "source": [
    "x = input('Enter your grade:')\n",
    "if int(x) >= 90:\n",
    "    print('your grade is: A')\n",
    "elif int(x) >= 80:\n",
    "    print('your grade is: B')\n",
    "elif int(x) >= 70:\n",
    "    print('your grade is: C')\n",
    "elif int(x) >= 60:\n",
    "    print('your grade is: D')\n",
    "else:\n",
    "    print('your grade is: F')\n",
    "#Try doing it in one print() command\n"
   ]
  },
  {
   "cell_type": "code",
   "execution_count": 215,
   "metadata": {},
   "outputs": [
    {
     "name": "stdout",
     "output_type": "stream",
     "text": [
      "your grade is: C\n"
     ]
    }
   ],
   "source": [
    "#this is how in 1 command\n",
    "x = input('Enter your grade:')\n",
    "print('your grade is: ' + ('A' if int(x) >= 90 else 'B' if int(x) >= 80 else 'C' if int(x) >= 70 else 'D' if int(x) >= 60 else 'F'))\n"
   ]
  },
  {
   "cell_type": "code",
   "execution_count": 220,
   "metadata": {},
   "outputs": [
    {
     "ename": "KeyError",
     "evalue": "'7'",
     "output_type": "error",
     "traceback": [
      "\u001b[1;31m---------------------------------------------------------------------------\u001b[0m",
      "\u001b[1;31mKeyError\u001b[0m                                  Traceback (most recent call last)",
      "Cell \u001b[1;32mIn[220], line 3\u001b[0m\n\u001b[0;32m      1\u001b[0m \u001b[39m#and this is how to do it using a dictionary\u001b[39;00m\n\u001b[0;32m      2\u001b[0m x \u001b[39m=\u001b[39m \u001b[39minput\u001b[39m(\u001b[39m'\u001b[39m\u001b[39mEnter your grade:\u001b[39m\u001b[39m'\u001b[39m)\n\u001b[1;32m----> 3\u001b[0m \u001b[39mprint\u001b[39m(\u001b[39m'\u001b[39m\u001b[39myour grade is: \u001b[39m\u001b[39m'\u001b[39m \u001b[39m+\u001b[39m {\u001b[39m90\u001b[39;49m: \u001b[39m'\u001b[39;49m\u001b[39mA\u001b[39;49m\u001b[39m'\u001b[39;49m, \u001b[39m80\u001b[39;49m: \u001b[39m'\u001b[39;49m\u001b[39mB\u001b[39;49m\u001b[39m'\u001b[39;49m, \u001b[39m70\u001b[39;49m: \u001b[39m'\u001b[39;49m\u001b[39mC\u001b[39;49m\u001b[39m'\u001b[39;49m, \u001b[39m60\u001b[39;49m:\u001b[39m'\u001b[39;49m\u001b[39mD\u001b[39;49m\u001b[39m'\u001b[39;49m, \u001b[39m50\u001b[39;49m: \u001b[39m'\u001b[39;49m\u001b[39mF\u001b[39;49m\u001b[39m'\u001b[39;49m}[x[\u001b[39m0\u001b[39;49m]])\n",
      "\u001b[1;31mKeyError\u001b[0m: '7'"
     ]
    }
   ],
   "source": [
    "#and this is how to do it using a dictionary\n",
    "x = input('Enter your grade:')\n",
    "\n"
   ]
  },
  {
   "cell_type": "code",
   "execution_count": null,
   "metadata": {},
   "outputs": [],
   "source": []
  }
 ],
 "metadata": {
  "kernelspec": {
   "display_name": "Python 3",
   "language": "python",
   "name": "python3"
  },
  "language_info": {
   "codemirror_mode": {
    "name": "ipython",
    "version": 3
   },
   "file_extension": ".py",
   "mimetype": "text/x-python",
   "name": "python",
   "nbconvert_exporter": "python",
   "pygments_lexer": "ipython3",
   "version": "3.10.9"
  },
  "orig_nbformat": 4
 },
 "nbformat": 4,
 "nbformat_minor": 2
}
