{
 "cells": [
  {
   "cell_type": "markdown",
   "metadata": {},
   "source": [
    "Version: 02.14.2023"
   ]
  },
  {
   "cell_type": "markdown",
   "metadata": {},
   "source": [
    "# Lab 5.1: Implementing Information Extraction\n",
    "\n",
    "In this lab, you will use Amazon Comprehend to extract key entity and event information from financial documents.\n",
    "\n",
    "## About this dataset\n",
    "\n",
    "The [sample_finance_dataset.txt](https://github.com/aws-samples/amazon-comprehend-examples/tree/master/amazon_comprehend_events_tutorial) file contains a set of 118 press releases in doclines format from the [Amazon press release archive](https://press.aboutamazon.com/press-releases).\n",
    "\n",
    "## Lab steps\n",
    "\n",
    "To complete this lab, you will follow these steps:\n",
    "\n",
    "1. [Installing the packages](#1.-Install-packages)\n",
    "2. [Writing the documents to Amazon S3](#2.-Write-documents-to-S3)\n",
    "3. [Starting an asynchronous events detection job using the SDK](#3.-Start-an-asynchronous-events-detection-job-using-the-SDK)\n",
    "4. [Analyzing the Amazon Comprehend Events output](#4.-Analyzing-Comprehend-Events-output)\n",
    "\n",
    "\n",
    "## Submitting your work\n",
    "\n",
    "1. In the lab console, choose **Submit** to record your progress and when prompted, choose **Yes**.\n",
    "\n",
    "1. If the results don't display after a couple of minutes, return to the top of these instructions and choose **Grades**.\n",
    "\n",
    "     **Tip:** You can submit your work multiple times. After you change your work, choose **Submit** again. Your last submission is what will be recorded for this lab.\n",
    "\n",
    "1. To find detailed feedback on your work, choose **Details** followed by **View Submission Report**."
   ]
  },
  {
   "cell_type": "markdown",
   "metadata": {},
   "source": [
    "## 1. Installing packages\n",
    "([Go to top](#Lab-5.1:-Implementing-Information-Extraction))\n",
    "\n",
    "Start by updating and installing the packages that you will use in the notebook. \n"
   ]
  },
  {
   "cell_type": "code",
   "execution_count": 1,
   "metadata": {},
   "outputs": [
    {
     "name": "stdout",
     "output_type": "stream",
     "text": [
      "Collecting smart_open\n",
      "  Obtaining dependency information for smart_open from https://files.pythonhosted.org/packages/fc/d9/d97f1db64b09278aba64e8c81b5d322d436132df5741c518f3823824fae0/smart_open-6.4.0-py3-none-any.whl.metadata\n",
      "  Downloading smart_open-6.4.0-py3-none-any.whl.metadata (21 kB)\n",
      "Downloading smart_open-6.4.0-py3-none-any.whl (57 kB)\n",
      "\u001b[2K   \u001b[90m━━━━━━━━━━━━━━━━━━━━━━━━━━━━━━━━━━━━━━━━\u001b[0m \u001b[32m57.0/57.0 kB\u001b[0m \u001b[31m8.4 MB/s\u001b[0m eta \u001b[36m0:00:00\u001b[0m\n",
      "\u001b[?25hInstalling collected packages: smart_open\n",
      "Successfully installed smart_open-6.4.0\n",
      "Requirement already satisfied: networkx in /home/ec2-user/anaconda3/envs/python3/lib/python3.10/site-packages (3.1)\n",
      "Requirement already satisfied: pandas in /home/ec2-user/anaconda3/envs/python3/lib/python3.10/site-packages (2.0.3)\n",
      "Requirement already satisfied: python-dateutil>=2.8.2 in /home/ec2-user/anaconda3/envs/python3/lib/python3.10/site-packages (from pandas) (2.8.2)\n",
      "Requirement already satisfied: pytz>=2020.1 in /home/ec2-user/anaconda3/envs/python3/lib/python3.10/site-packages (from pandas) (2023.3)\n",
      "Requirement already satisfied: tzdata>=2022.1 in /home/ec2-user/anaconda3/envs/python3/lib/python3.10/site-packages (from pandas) (2023.3)\n",
      "Requirement already satisfied: numpy>=1.21.0 in /home/ec2-user/anaconda3/envs/python3/lib/python3.10/site-packages (from pandas) (1.22.3)\n",
      "Requirement already satisfied: six>=1.5 in /home/ec2-user/anaconda3/envs/python3/lib/python3.10/site-packages (from python-dateutil>=2.8.2->pandas) (1.16.0)\n",
      "Collecting pyvis\n",
      "  Downloading pyvis-0.3.2-py3-none-any.whl (756 kB)\n",
      "\u001b[2K     \u001b[90m━━━━━━━━━━━━━━━━━━━━━━━━━━━━━━━━━━━━━━\u001b[0m \u001b[32m756.0/756.0 kB\u001b[0m \u001b[31m11.4 MB/s\u001b[0m eta \u001b[36m0:00:00\u001b[0m00:01\u001b[0m\n",
      "\u001b[?25hRequirement already satisfied: ipython>=5.3.0 in /home/ec2-user/anaconda3/envs/python3/lib/python3.10/site-packages (from pyvis) (8.14.0)\n",
      "Requirement already satisfied: jinja2>=2.9.6 in /home/ec2-user/anaconda3/envs/python3/lib/python3.10/site-packages (from pyvis) (3.1.2)\n",
      "Collecting jsonpickle>=1.4.1 (from pyvis)\n",
      "  Obtaining dependency information for jsonpickle>=1.4.1 from https://files.pythonhosted.org/packages/d3/25/6e0a450430b7aa194b0f515f64820fc619314faa289458b7dfca4a026114/jsonpickle-3.0.2-py3-none-any.whl.metadata\n",
      "  Downloading jsonpickle-3.0.2-py3-none-any.whl.metadata (7.5 kB)\n",
      "Requirement already satisfied: networkx>=1.11 in /home/ec2-user/anaconda3/envs/python3/lib/python3.10/site-packages (from pyvis) (3.1)\n",
      "Requirement already satisfied: backcall in /home/ec2-user/anaconda3/envs/python3/lib/python3.10/site-packages (from ipython>=5.3.0->pyvis) (0.2.0)\n",
      "Requirement already satisfied: decorator in /home/ec2-user/anaconda3/envs/python3/lib/python3.10/site-packages (from ipython>=5.3.0->pyvis) (5.1.1)\n",
      "Requirement already satisfied: jedi>=0.16 in /home/ec2-user/anaconda3/envs/python3/lib/python3.10/site-packages (from ipython>=5.3.0->pyvis) (0.18.2)\n",
      "Requirement already satisfied: matplotlib-inline in /home/ec2-user/anaconda3/envs/python3/lib/python3.10/site-packages (from ipython>=5.3.0->pyvis) (0.1.6)\n",
      "Requirement already satisfied: pickleshare in /home/ec2-user/anaconda3/envs/python3/lib/python3.10/site-packages (from ipython>=5.3.0->pyvis) (0.7.5)\n",
      "Requirement already satisfied: prompt-toolkit!=3.0.37,<3.1.0,>=3.0.30 in /home/ec2-user/anaconda3/envs/python3/lib/python3.10/site-packages (from ipython>=5.3.0->pyvis) (3.0.39)\n",
      "Requirement already satisfied: pygments>=2.4.0 in /home/ec2-user/anaconda3/envs/python3/lib/python3.10/site-packages (from ipython>=5.3.0->pyvis) (2.15.1)\n",
      "Requirement already satisfied: stack-data in /home/ec2-user/anaconda3/envs/python3/lib/python3.10/site-packages (from ipython>=5.3.0->pyvis) (0.6.2)\n",
      "Requirement already satisfied: traitlets>=5 in /home/ec2-user/anaconda3/envs/python3/lib/python3.10/site-packages (from ipython>=5.3.0->pyvis) (5.9.0)\n",
      "Requirement already satisfied: pexpect>4.3 in /home/ec2-user/anaconda3/envs/python3/lib/python3.10/site-packages (from ipython>=5.3.0->pyvis) (4.8.0)\n",
      "Requirement already satisfied: MarkupSafe>=2.0 in /home/ec2-user/anaconda3/envs/python3/lib/python3.10/site-packages (from jinja2>=2.9.6->pyvis) (2.1.3)\n",
      "Requirement already satisfied: parso<0.9.0,>=0.8.0 in /home/ec2-user/anaconda3/envs/python3/lib/python3.10/site-packages (from jedi>=0.16->ipython>=5.3.0->pyvis) (0.8.3)\n",
      "Requirement already satisfied: ptyprocess>=0.5 in /home/ec2-user/anaconda3/envs/python3/lib/python3.10/site-packages (from pexpect>4.3->ipython>=5.3.0->pyvis) (0.7.0)\n",
      "Requirement already satisfied: wcwidth in /home/ec2-user/anaconda3/envs/python3/lib/python3.10/site-packages (from prompt-toolkit!=3.0.37,<3.1.0,>=3.0.30->ipython>=5.3.0->pyvis) (0.2.6)\n",
      "Requirement already satisfied: executing>=1.2.0 in /home/ec2-user/anaconda3/envs/python3/lib/python3.10/site-packages (from stack-data->ipython>=5.3.0->pyvis) (1.2.0)\n",
      "Requirement already satisfied: asttokens>=2.1.0 in /home/ec2-user/anaconda3/envs/python3/lib/python3.10/site-packages (from stack-data->ipython>=5.3.0->pyvis) (2.2.1)\n",
      "Requirement already satisfied: pure-eval in /home/ec2-user/anaconda3/envs/python3/lib/python3.10/site-packages (from stack-data->ipython>=5.3.0->pyvis) (0.2.2)\n",
      "Requirement already satisfied: six in /home/ec2-user/anaconda3/envs/python3/lib/python3.10/site-packages (from asttokens>=2.1.0->stack-data->ipython>=5.3.0->pyvis) (1.16.0)\n",
      "Downloading jsonpickle-3.0.2-py3-none-any.whl (40 kB)\n",
      "\u001b[2K   \u001b[90m━━━━━━━━━━━━━━━━━━━━━━━━━━━━━━━━━━━━━━━━\u001b[0m \u001b[32m40.7/40.7 kB\u001b[0m \u001b[31m13.5 MB/s\u001b[0m eta \u001b[36m0:00:00\u001b[0m\n",
      "\u001b[?25hInstalling collected packages: jsonpickle, pyvis\n",
      "Successfully installed jsonpickle-3.0.2 pyvis-0.3.2\n",
      "Collecting spacy\n",
      "  Obtaining dependency information for spacy from https://files.pythonhosted.org/packages/58/93/051fc55f3e4e6d0d97beb77bbd5cd9e17589a0092305b4ae6164c6dcb58a/spacy-3.6.1-cp310-cp310-manylinux_2_17_x86_64.manylinux2014_x86_64.whl.metadata\n",
      "  Downloading spacy-3.6.1-cp310-cp310-manylinux_2_17_x86_64.manylinux2014_x86_64.whl.metadata (25 kB)\n",
      "Collecting spacy-legacy<3.1.0,>=3.0.11 (from spacy)\n",
      "  Downloading spacy_legacy-3.0.12-py2.py3-none-any.whl (29 kB)\n",
      "Collecting spacy-loggers<2.0.0,>=1.0.0 (from spacy)\n",
      "  Obtaining dependency information for spacy-loggers<2.0.0,>=1.0.0 from https://files.pythonhosted.org/packages/33/78/d1a1a026ef3af911159398c939b1509d5c36fe524c7b644f34a5146c4e16/spacy_loggers-1.0.5-py3-none-any.whl.metadata\n",
      "  Downloading spacy_loggers-1.0.5-py3-none-any.whl.metadata (23 kB)\n",
      "Collecting murmurhash<1.1.0,>=0.28.0 (from spacy)\n",
      "  Obtaining dependency information for murmurhash<1.1.0,>=0.28.0 from https://files.pythonhosted.org/packages/a8/ca/359ae4246cccaf3f6386b66bd9ba4a39e6ec342f89e2c4def361a8cbe7cf/murmurhash-1.0.10-cp310-cp310-manylinux_2_5_x86_64.manylinux1_x86_64.manylinux_2_17_x86_64.manylinux2014_x86_64.whl.metadata\n",
      "  Downloading murmurhash-1.0.10-cp310-cp310-manylinux_2_5_x86_64.manylinux1_x86_64.manylinux_2_17_x86_64.manylinux2014_x86_64.whl.metadata (2.0 kB)\n",
      "Collecting cymem<2.1.0,>=2.0.2 (from spacy)\n",
      "  Obtaining dependency information for cymem<2.1.0,>=2.0.2 from https://files.pythonhosted.org/packages/e9/13/3bed1a1d1cce7937eb797d760c0cca973dbdc1891ad7e2f066ae418fd697/cymem-2.0.8-cp310-cp310-manylinux_2_17_x86_64.manylinux2014_x86_64.whl.metadata\n",
      "  Downloading cymem-2.0.8-cp310-cp310-manylinux_2_17_x86_64.manylinux2014_x86_64.whl.metadata (8.4 kB)\n",
      "Collecting preshed<3.1.0,>=3.0.2 (from spacy)\n",
      "  Obtaining dependency information for preshed<3.1.0,>=3.0.2 from https://files.pythonhosted.org/packages/42/59/8f65ad22c13020ff281529e415c32a56cfa691d24b0eca2eb3d756e4d644/preshed-3.0.9-cp310-cp310-manylinux_2_5_x86_64.manylinux1_x86_64.manylinux_2_17_x86_64.manylinux2014_x86_64.whl.metadata\n",
      "  Downloading preshed-3.0.9-cp310-cp310-manylinux_2_5_x86_64.manylinux1_x86_64.manylinux_2_17_x86_64.manylinux2014_x86_64.whl.metadata (2.2 kB)\n",
      "Collecting thinc<8.2.0,>=8.1.8 (from spacy)\n",
      "  Obtaining dependency information for thinc<8.2.0,>=8.1.8 from https://files.pythonhosted.org/packages/d7/fc/2ea1a37a60ad1c7b9f41699ccd29170f6d479d3349e6742503278b4bc811/thinc-8.1.12-cp310-cp310-manylinux_2_17_x86_64.manylinux2014_x86_64.whl.metadata\n",
      "  Downloading thinc-8.1.12-cp310-cp310-manylinux_2_17_x86_64.manylinux2014_x86_64.whl.metadata (15 kB)\n",
      "Collecting wasabi<1.2.0,>=0.9.1 (from spacy)\n",
      "  Obtaining dependency information for wasabi<1.2.0,>=0.9.1 from https://files.pythonhosted.org/packages/8f/69/26cbf0bad11703241cb84d5324d868097f7a8faf2f1888354dac8883f3fc/wasabi-1.1.2-py3-none-any.whl.metadata\n",
      "  Downloading wasabi-1.1.2-py3-none-any.whl.metadata (28 kB)\n",
      "Collecting srsly<3.0.0,>=2.4.3 (from spacy)\n",
      "  Obtaining dependency information for srsly<3.0.0,>=2.4.3 from https://files.pythonhosted.org/packages/32/69/2c054c6c5dc5daf5648f994f22377f3be44f79d643f3c3db255b4e86b391/srsly-2.4.8-cp310-cp310-manylinux_2_17_x86_64.manylinux2014_x86_64.whl.metadata\n",
      "  Downloading srsly-2.4.8-cp310-cp310-manylinux_2_17_x86_64.manylinux2014_x86_64.whl.metadata (20 kB)\n",
      "Collecting catalogue<2.1.0,>=2.0.6 (from spacy)\n",
      "  Obtaining dependency information for catalogue<2.1.0,>=2.0.6 from https://files.pythonhosted.org/packages/45/8f/5b73efc14e0373d9bb0de6ce1ab04a8f77420dc473f1f3ef270caf085cff/catalogue-2.0.9-py3-none-any.whl.metadata\n",
      "  Downloading catalogue-2.0.9-py3-none-any.whl.metadata (14 kB)\n",
      "Collecting typer<0.10.0,>=0.3.0 (from spacy)\n",
      "  Downloading typer-0.9.0-py3-none-any.whl (45 kB)\n",
      "\u001b[2K     \u001b[90m━━━━━━━━━━━━━━━━━━━━━━━━━━━━━━━━━━━━━━━━\u001b[0m \u001b[32m45.9/45.9 kB\u001b[0m \u001b[31m16.9 MB/s\u001b[0m eta \u001b[36m0:00:00\u001b[0m\n",
      "\u001b[?25hCollecting pathy>=0.10.0 (from spacy)\n",
      "  Obtaining dependency information for pathy>=0.10.0 from https://files.pythonhosted.org/packages/b5/c3/04a002ace658133f5ac48d30258ed9ceab720595dc1ac36df02fe52018af/pathy-0.10.2-py3-none-any.whl.metadata\n",
      "  Downloading pathy-0.10.2-py3-none-any.whl.metadata (16 kB)\n",
      "Requirement already satisfied: smart-open<7.0.0,>=5.2.1 in /home/ec2-user/anaconda3/envs/python3/lib/python3.10/site-packages (from spacy) (6.4.0)\n",
      "Requirement already satisfied: tqdm<5.0.0,>=4.38.0 in /home/ec2-user/anaconda3/envs/python3/lib/python3.10/site-packages (from spacy) (4.65.0)\n",
      "Requirement already satisfied: numpy>=1.15.0 in /home/ec2-user/anaconda3/envs/python3/lib/python3.10/site-packages (from spacy) (1.22.3)\n",
      "Requirement already satisfied: requests<3.0.0,>=2.13.0 in /home/ec2-user/anaconda3/envs/python3/lib/python3.10/site-packages (from spacy) (2.31.0)\n",
      "Collecting pydantic!=1.8,!=1.8.1,<3.0.0,>=1.7.4 (from spacy)\n",
      "  Obtaining dependency information for pydantic!=1.8,!=1.8.1,<3.0.0,>=1.7.4 from https://files.pythonhosted.org/packages/82/06/fafdc75e48b248eff364b4249af4bcc6952225e8f20e8205820afc66e88e/pydantic-2.3.0-py3-none-any.whl.metadata\n",
      "  Downloading pydantic-2.3.0-py3-none-any.whl.metadata (148 kB)\n",
      "\u001b[2K     \u001b[90m━━━━━━━━━━━━━━━━━━━━━━━━━━━━━━━━━━━━━━\u001b[0m \u001b[32m148.8/148.8 kB\u001b[0m \u001b[31m32.4 MB/s\u001b[0m eta \u001b[36m0:00:00\u001b[0m\n",
      "\u001b[?25hRequirement already satisfied: jinja2 in /home/ec2-user/anaconda3/envs/python3/lib/python3.10/site-packages (from spacy) (3.1.2)\n",
      "Requirement already satisfied: setuptools in /home/ec2-user/anaconda3/envs/python3/lib/python3.10/site-packages (from spacy) (68.0.0)\n",
      "Requirement already satisfied: packaging>=20.0 in /home/ec2-user/anaconda3/envs/python3/lib/python3.10/site-packages (from spacy) (21.3)\n",
      "Collecting langcodes<4.0.0,>=3.2.0 (from spacy)\n",
      "  Downloading langcodes-3.3.0-py3-none-any.whl (181 kB)\n",
      "\u001b[2K     \u001b[90m━━━━━━━━━━━━━━━━━━━━━━━━━━━━━━━━━━━━━━━\u001b[0m \u001b[32m181.6/181.6 kB\u001b[0m \u001b[31m7.4 MB/s\u001b[0m eta \u001b[36m0:00:00\u001b[0m\n",
      "\u001b[?25hRequirement already satisfied: pyparsing!=3.0.5,>=2.0.2 in /home/ec2-user/anaconda3/envs/python3/lib/python3.10/site-packages (from packaging>=20.0->spacy) (3.0.9)\n",
      "Collecting annotated-types>=0.4.0 (from pydantic!=1.8,!=1.8.1,<3.0.0,>=1.7.4->spacy)\n",
      "  Obtaining dependency information for annotated-types>=0.4.0 from https://files.pythonhosted.org/packages/d8/f0/a2ee543a96cc624c35a9086f39b1ed2aa403c6d355dfe47a11ee5c64a164/annotated_types-0.5.0-py3-none-any.whl.metadata\n",
      "  Downloading annotated_types-0.5.0-py3-none-any.whl.metadata (11 kB)\n",
      "Collecting pydantic-core==2.6.3 (from pydantic!=1.8,!=1.8.1,<3.0.0,>=1.7.4->spacy)\n",
      "  Obtaining dependency information for pydantic-core==2.6.3 from https://files.pythonhosted.org/packages/fc/dc/2443b6224c396b765d2c68d61a8c24eeb05a6b425518cad80ce1fc4d4430/pydantic_core-2.6.3-cp310-cp310-manylinux_2_17_x86_64.manylinux2014_x86_64.whl.metadata\n",
      "  Downloading pydantic_core-2.6.3-cp310-cp310-manylinux_2_17_x86_64.manylinux2014_x86_64.whl.metadata (6.5 kB)\n",
      "Requirement already satisfied: typing-extensions>=4.6.1 in /home/ec2-user/anaconda3/envs/python3/lib/python3.10/site-packages (from pydantic!=1.8,!=1.8.1,<3.0.0,>=1.7.4->spacy) (4.7.1)\n",
      "Requirement already satisfied: charset-normalizer<4,>=2 in /home/ec2-user/anaconda3/envs/python3/lib/python3.10/site-packages (from requests<3.0.0,>=2.13.0->spacy) (3.2.0)\n",
      "Requirement already satisfied: idna<4,>=2.5 in /home/ec2-user/anaconda3/envs/python3/lib/python3.10/site-packages (from requests<3.0.0,>=2.13.0->spacy) (3.4)\n",
      "Requirement already satisfied: urllib3<3,>=1.21.1 in /home/ec2-user/anaconda3/envs/python3/lib/python3.10/site-packages (from requests<3.0.0,>=2.13.0->spacy) (1.26.14)\n",
      "Requirement already satisfied: certifi>=2017.4.17 in /home/ec2-user/anaconda3/envs/python3/lib/python3.10/site-packages (from requests<3.0.0,>=2.13.0->spacy) (2023.5.7)\n",
      "Collecting blis<0.8.0,>=0.7.8 (from thinc<8.2.0,>=8.1.8->spacy)\n",
      "  Obtaining dependency information for blis<0.8.0,>=0.7.8 from https://files.pythonhosted.org/packages/9b/81/55092e1c016fe05ef7a57623920209012f05e8b897acbad355c9bf854181/blis-0.7.11-cp310-cp310-manylinux_2_17_x86_64.manylinux2014_x86_64.whl.metadata\n",
      "  Downloading blis-0.7.11-cp310-cp310-manylinux_2_17_x86_64.manylinux2014_x86_64.whl.metadata (7.4 kB)\n",
      "Collecting confection<1.0.0,>=0.0.1 (from thinc<8.2.0,>=8.1.8->spacy)\n",
      "  Obtaining dependency information for confection<1.0.0,>=0.0.1 from https://files.pythonhosted.org/packages/93/f8/e89268a1f885048fb2ee6b5c9f93c4e90de768534acfef3652f87d97d4cb/confection-0.1.3-py3-none-any.whl.metadata\n",
      "  Downloading confection-0.1.3-py3-none-any.whl.metadata (19 kB)\n",
      "Requirement already satisfied: click<9.0.0,>=7.1.1 in /home/ec2-user/anaconda3/envs/python3/lib/python3.10/site-packages (from typer<0.10.0,>=0.3.0->spacy) (8.1.6)\n",
      "Requirement already satisfied: MarkupSafe>=2.0 in /home/ec2-user/anaconda3/envs/python3/lib/python3.10/site-packages (from jinja2->spacy) (2.1.3)\n",
      "Downloading spacy-3.6.1-cp310-cp310-manylinux_2_17_x86_64.manylinux2014_x86_64.whl (6.6 MB)\n",
      "\u001b[2K   \u001b[90m━━━━━━━━━━━━━━━━━━━━━━━━━━━━━━━━━━━━━━━━\u001b[0m \u001b[32m6.6/6.6 MB\u001b[0m \u001b[31m102.0 MB/s\u001b[0m eta \u001b[36m0:00:00\u001b[0m00:01\u001b[0m\n",
      "\u001b[?25hDownloading catalogue-2.0.9-py3-none-any.whl (17 kB)\n",
      "Downloading cymem-2.0.8-cp310-cp310-manylinux_2_17_x86_64.manylinux2014_x86_64.whl (46 kB)\n",
      "\u001b[2K   \u001b[90m━━━━━━━━━━━━━━━━━━━━━━━━━━━━━━━━━━━━━━━━\u001b[0m \u001b[32m46.1/46.1 kB\u001b[0m \u001b[31m15.2 MB/s\u001b[0m eta \u001b[36m0:00:00\u001b[0m\n",
      "\u001b[?25hDownloading murmurhash-1.0.10-cp310-cp310-manylinux_2_5_x86_64.manylinux1_x86_64.manylinux_2_17_x86_64.manylinux2014_x86_64.whl (29 kB)\n",
      "Downloading pathy-0.10.2-py3-none-any.whl (48 kB)\n",
      "\u001b[2K   \u001b[90m━━━━━━━━━━━━━━━━━━━━━━━━━━━━━━━━━━━━━━━━\u001b[0m \u001b[32m48.9/48.9 kB\u001b[0m \u001b[31m16.2 MB/s\u001b[0m eta \u001b[36m0:00:00\u001b[0m\n",
      "\u001b[?25hDownloading preshed-3.0.9-cp310-cp310-manylinux_2_5_x86_64.manylinux1_x86_64.manylinux_2_17_x86_64.manylinux2014_x86_64.whl (156 kB)\n",
      "\u001b[2K   \u001b[90m━━━━━━━━━━━━━━━━━━━━━━━━━━━━━━━━━━━━━━━━\u001b[0m \u001b[32m156.9/156.9 kB\u001b[0m \u001b[31m5.0 MB/s\u001b[0m eta \u001b[36m0:00:00\u001b[0m\n",
      "\u001b[?25hDownloading pydantic-2.3.0-py3-none-any.whl (374 kB)\n",
      "\u001b[2K   \u001b[90m━━━━━━━━━━━━━━━━━━━━━━━━━━━━━━━━━━━━━━━━\u001b[0m \u001b[32m374.5/374.5 kB\u001b[0m \u001b[31m70.2 MB/s\u001b[0m eta \u001b[36m0:00:00\u001b[0m\n",
      "\u001b[?25hDownloading pydantic_core-2.6.3-cp310-cp310-manylinux_2_17_x86_64.manylinux2014_x86_64.whl (1.9 MB)\n",
      "\u001b[2K   \u001b[90m━━━━━━━━━━━━━━━━━━━━━━━━━━━━━━━━━━━━━━━━\u001b[0m \u001b[32m1.9/1.9 MB\u001b[0m \u001b[31m40.8 MB/s\u001b[0m eta \u001b[36m0:00:00\u001b[0m:00:01\u001b[0m\n",
      "\u001b[?25hDownloading spacy_loggers-1.0.5-py3-none-any.whl (22 kB)\n",
      "Downloading srsly-2.4.8-cp310-cp310-manylinux_2_17_x86_64.manylinux2014_x86_64.whl (493 kB)\n",
      "\u001b[2K   \u001b[90m━━━━━━━━━━━━━━━━━━━━━━━━━━━━━━━━━━━━━━━━\u001b[0m \u001b[32m493.0/493.0 kB\u001b[0m \u001b[31m8.8 MB/s\u001b[0m eta \u001b[36m0:00:00\u001b[0m:00:01\u001b[0m\n",
      "\u001b[?25hDownloading thinc-8.1.12-cp310-cp310-manylinux_2_17_x86_64.manylinux2014_x86_64.whl (919 kB)\n",
      "\u001b[2K   \u001b[90m━━━━━━━━━━━━━━━━━━━━━━━━━━━━━━━━━━━━━━━━\u001b[0m \u001b[32m919.6/919.6 kB\u001b[0m \u001b[31m22.6 MB/s\u001b[0m eta \u001b[36m0:00:00\u001b[0m00:01\u001b[0m\n",
      "\u001b[?25hDownloading wasabi-1.1.2-py3-none-any.whl (27 kB)\n",
      "Downloading annotated_types-0.5.0-py3-none-any.whl (11 kB)\n",
      "Downloading blis-0.7.11-cp310-cp310-manylinux_2_17_x86_64.manylinux2014_x86_64.whl (10.2 MB)\n",
      "\u001b[2K   \u001b[90m━━━━━━━━━━━━━━━━━━━━━━━━━━━━━━━━━━━━━━━━\u001b[0m \u001b[32m10.2/10.2 MB\u001b[0m \u001b[31m63.2 MB/s\u001b[0m eta \u001b[36m0:00:00\u001b[0m:00:01\u001b[0m0:01\u001b[0m\n",
      "\u001b[?25hDownloading confection-0.1.3-py3-none-any.whl (34 kB)\n",
      "Installing collected packages: cymem, wasabi, typer, spacy-loggers, spacy-legacy, pydantic-core, murmurhash, langcodes, catalogue, blis, annotated-types, srsly, pydantic, preshed, pathy, confection, thinc, spacy\n",
      "Successfully installed annotated-types-0.5.0 blis-0.7.11 catalogue-2.0.9 confection-0.1.3 cymem-2.0.8 langcodes-3.3.0 murmurhash-1.0.10 pathy-0.10.2 preshed-3.0.9 pydantic-2.3.0 pydantic-core-2.6.3 spacy-3.6.1 spacy-legacy-3.0.12 spacy-loggers-1.0.5 srsly-2.4.8 thinc-8.1.12 typer-0.9.0 wasabi-1.1.2\n",
      "Requirement already satisfied: ipywidgets in /home/ec2-user/anaconda3/envs/python3/lib/python3.10/site-packages (8.0.7)\n",
      "Requirement already satisfied: ipykernel>=4.5.1 in /home/ec2-user/anaconda3/envs/python3/lib/python3.10/site-packages (from ipywidgets) (6.24.0)\n",
      "Requirement already satisfied: ipython>=6.1.0 in /home/ec2-user/anaconda3/envs/python3/lib/python3.10/site-packages (from ipywidgets) (8.14.0)\n",
      "Requirement already satisfied: traitlets>=4.3.1 in /home/ec2-user/anaconda3/envs/python3/lib/python3.10/site-packages (from ipywidgets) (5.9.0)\n",
      "Requirement already satisfied: widgetsnbextension~=4.0.7 in /home/ec2-user/anaconda3/envs/python3/lib/python3.10/site-packages (from ipywidgets) (4.0.8)\n",
      "Requirement already satisfied: jupyterlab-widgets~=3.0.7 in /home/ec2-user/anaconda3/envs/python3/lib/python3.10/site-packages (from ipywidgets) (3.0.8)\n",
      "Requirement already satisfied: comm>=0.1.1 in /home/ec2-user/anaconda3/envs/python3/lib/python3.10/site-packages (from ipykernel>=4.5.1->ipywidgets) (0.1.3)\n",
      "Requirement already satisfied: debugpy>=1.6.5 in /home/ec2-user/anaconda3/envs/python3/lib/python3.10/site-packages (from ipykernel>=4.5.1->ipywidgets) (1.6.7)\n",
      "Requirement already satisfied: jupyter-client>=6.1.12 in /home/ec2-user/anaconda3/envs/python3/lib/python3.10/site-packages (from ipykernel>=4.5.1->ipywidgets) (8.3.0)\n",
      "Requirement already satisfied: jupyter-core!=5.0.*,>=4.12 in /home/ec2-user/anaconda3/envs/python3/lib/python3.10/site-packages (from ipykernel>=4.5.1->ipywidgets) (5.3.1)\n",
      "Requirement already satisfied: matplotlib-inline>=0.1 in /home/ec2-user/anaconda3/envs/python3/lib/python3.10/site-packages (from ipykernel>=4.5.1->ipywidgets) (0.1.6)\n",
      "Requirement already satisfied: nest-asyncio in /home/ec2-user/anaconda3/envs/python3/lib/python3.10/site-packages (from ipykernel>=4.5.1->ipywidgets) (1.5.6)\n",
      "Requirement already satisfied: packaging in /home/ec2-user/anaconda3/envs/python3/lib/python3.10/site-packages (from ipykernel>=4.5.1->ipywidgets) (21.3)\n",
      "Requirement already satisfied: psutil in /home/ec2-user/anaconda3/envs/python3/lib/python3.10/site-packages (from ipykernel>=4.5.1->ipywidgets) (5.9.5)\n",
      "Requirement already satisfied: pyzmq>=20 in /home/ec2-user/anaconda3/envs/python3/lib/python3.10/site-packages (from ipykernel>=4.5.1->ipywidgets) (25.1.0)\n",
      "Requirement already satisfied: tornado>=6.1 in /home/ec2-user/anaconda3/envs/python3/lib/python3.10/site-packages (from ipykernel>=4.5.1->ipywidgets) (6.3.2)\n",
      "Requirement already satisfied: backcall in /home/ec2-user/anaconda3/envs/python3/lib/python3.10/site-packages (from ipython>=6.1.0->ipywidgets) (0.2.0)\n",
      "Requirement already satisfied: decorator in /home/ec2-user/anaconda3/envs/python3/lib/python3.10/site-packages (from ipython>=6.1.0->ipywidgets) (5.1.1)\n",
      "Requirement already satisfied: jedi>=0.16 in /home/ec2-user/anaconda3/envs/python3/lib/python3.10/site-packages (from ipython>=6.1.0->ipywidgets) (0.18.2)\n",
      "Requirement already satisfied: pickleshare in /home/ec2-user/anaconda3/envs/python3/lib/python3.10/site-packages (from ipython>=6.1.0->ipywidgets) (0.7.5)\n",
      "Requirement already satisfied: prompt-toolkit!=3.0.37,<3.1.0,>=3.0.30 in /home/ec2-user/anaconda3/envs/python3/lib/python3.10/site-packages (from ipython>=6.1.0->ipywidgets) (3.0.39)\n",
      "Requirement already satisfied: pygments>=2.4.0 in /home/ec2-user/anaconda3/envs/python3/lib/python3.10/site-packages (from ipython>=6.1.0->ipywidgets) (2.15.1)\n",
      "Requirement already satisfied: stack-data in /home/ec2-user/anaconda3/envs/python3/lib/python3.10/site-packages (from ipython>=6.1.0->ipywidgets) (0.6.2)\n",
      "Requirement already satisfied: pexpect>4.3 in /home/ec2-user/anaconda3/envs/python3/lib/python3.10/site-packages (from ipython>=6.1.0->ipywidgets) (4.8.0)\n",
      "Requirement already satisfied: parso<0.9.0,>=0.8.0 in /home/ec2-user/anaconda3/envs/python3/lib/python3.10/site-packages (from jedi>=0.16->ipython>=6.1.0->ipywidgets) (0.8.3)\n",
      "Requirement already satisfied: python-dateutil>=2.8.2 in /home/ec2-user/anaconda3/envs/python3/lib/python3.10/site-packages (from jupyter-client>=6.1.12->ipykernel>=4.5.1->ipywidgets) (2.8.2)\n",
      "Requirement already satisfied: platformdirs>=2.5 in /home/ec2-user/anaconda3/envs/python3/lib/python3.10/site-packages (from jupyter-core!=5.0.*,>=4.12->ipykernel>=4.5.1->ipywidgets) (3.9.1)\n",
      "Requirement already satisfied: ptyprocess>=0.5 in /home/ec2-user/anaconda3/envs/python3/lib/python3.10/site-packages (from pexpect>4.3->ipython>=6.1.0->ipywidgets) (0.7.0)\n",
      "Requirement already satisfied: wcwidth in /home/ec2-user/anaconda3/envs/python3/lib/python3.10/site-packages (from prompt-toolkit!=3.0.37,<3.1.0,>=3.0.30->ipython>=6.1.0->ipywidgets) (0.2.6)\n",
      "Requirement already satisfied: pyparsing!=3.0.5,>=2.0.2 in /home/ec2-user/anaconda3/envs/python3/lib/python3.10/site-packages (from packaging->ipykernel>=4.5.1->ipywidgets) (3.0.9)\n",
      "Requirement already satisfied: executing>=1.2.0 in /home/ec2-user/anaconda3/envs/python3/lib/python3.10/site-packages (from stack-data->ipython>=6.1.0->ipywidgets) (1.2.0)\n",
      "Requirement already satisfied: asttokens>=2.1.0 in /home/ec2-user/anaconda3/envs/python3/lib/python3.10/site-packages (from stack-data->ipython>=6.1.0->ipywidgets) (2.2.1)\n",
      "Requirement already satisfied: pure-eval in /home/ec2-user/anaconda3/envs/python3/lib/python3.10/site-packages (from stack-data->ipython>=6.1.0->ipywidgets) (0.2.2)\n",
      "Requirement already satisfied: six in /home/ec2-user/anaconda3/envs/python3/lib/python3.10/site-packages (from asttokens>=2.1.0->stack-data->ipython>=6.1.0->ipywidgets) (1.16.0)\n"
     ]
    }
   ],
   "source": [
    "!pip install smart_open\n",
    "!pip install networkx\n",
    "!pip install pandas\n",
    "!pip install pyvis\n",
    "!pip install spacy\n",
    "!pip install ipywidgets"
   ]
  },
  {
   "cell_type": "markdown",
   "metadata": {},
   "source": [
    "  \n",
    "\n",
    "__Note:__ Before you proceed with this lab for the first time, we recommend that you restart the kernel by choosing __Kernel__ > __Restart Kernel__."
   ]
  },
  {
   "cell_type": "code",
   "execution_count": 2,
   "metadata": {
    "slideshow": {
     "slide_type": "skip"
    }
   },
   "outputs": [],
   "source": [
    "%matplotlib inline\n",
    "\n",
    "import json\n",
    "import requests\n",
    "import uuid\n",
    "\n",
    "import networkx as nx\n",
    "import pandas as pd\n",
    "import matplotlib.pyplot as plt\n",
    "import boto3\n",
    "import smart_open\n",
    "\n",
    "from time import sleep\n",
    "from matplotlib import cm, colors\n",
    "from spacy import displacy\n",
    "from collections import Counter\n",
    "from pyvis.network import Network"
   ]
  },
  {
   "cell_type": "markdown",
   "metadata": {},
   "source": [
    "## 2. Writing the documents to Amazon S3\n",
    "([Go to top](#Lab-5.1:-Implementing-Information-Extraction))\n",
    "\n",
    "The data folder for this lab has a text file containing Amazon press releases as example documents. They have been saved in a single file with one document per line.\n",
    "\n",
    "In this section, you will upload the sample_finance_dataset.txt file to an Amazon Simple Storage Service (Amazon S3) bucket for processing. The processing output will be returned to the same bucket."
   ]
  },
  {
   "cell_type": "code",
   "execution_count": 3,
   "metadata": {},
   "outputs": [],
   "source": [
    "bucket = \"c96181a2162102l4822055t1w580138421150-labbucket-9kllsaunejxb\""
   ]
  },
  {
   "cell_type": "code",
   "execution_count": 4,
   "metadata": {},
   "outputs": [],
   "source": [
    "# Client and session information\n",
    "session = boto3.Session()\n",
    "s3_client = session.client(service_name=\"s3\")\n",
    "\n",
    "# Constants for S3 bucket and input data file\n",
    "\n",
    "filename = \"sample_finance_dataset.txt\"\n",
    "input_data_s3_path = f's3://{bucket}/' + filename\n",
    "output_data_s3_path = f's3://{bucket}/'\n",
    "\n",
    "# Upload the local file to S3\n",
    "s3_client.upload_file(\"../data/\" + filename, bucket, filename)\n",
    "\n",
    "# Load the documents locally for later analysis\n",
    "with open(\"../data/\" + filename, \"r\") as fi:\n",
    "    raw_texts = [line.strip() for line in fi.readlines()]"
   ]
  },
  {
   "cell_type": "markdown",
   "metadata": {},
   "source": [
    "## 3. Starting an asynchronous events detection job using the SDK\n",
    "([Go to top](#Lab-5.1:-Implementing-Information-Extraction))\n",
    "\n",
    "In this section, you will start the events detection job. You will use the `start_events_detection_job` function. \n",
    "\n",
    "Note that the API requires an AWS Identity and Access Management (IAM) role with List, Read, and Write permissions for the S3 bucket that you specified in the previous section."
   ]
  },
  {
   "cell_type": "code",
   "execution_count": 5,
   "metadata": {},
   "outputs": [],
   "source": [
    "# Amazon Comprehend client information\n",
    "comprehend_client = session.client(service_name=\"comprehend\")\n",
    "\n",
    "# IAM role with access to Amazon Comprehend and the specified S3 bucket\n",
    "job_data_access_role = 'arn:aws:iam::580138421150:role/service-role/c96181a2162102l4822055t1w-ComprehendDataAccessRole-1DSPVXYYV4OT5'\n",
    "\n",
    "# Other job parameters\n",
    "input_data_format = 'ONE_DOC_PER_LINE'\n",
    "job_uuid = uuid.uuid1()\n",
    "job_name = f\"events-job-{job_uuid}\""
   ]
  },
  {
   "cell_type": "markdown",
   "metadata": {},
   "source": [
    "Because you are processing company press releases, you can define the event types that you are most interested in. For the full list of event types, see the [Amazon Comprehend Developer Guide](https://docs.aws.amazon.com/comprehend/latest/dg/how-events.html#events-types)."
   ]
  },
  {
   "cell_type": "code",
   "execution_count": 6,
   "metadata": {},
   "outputs": [],
   "source": [
    "event_types = [\"BANKRUPTCY\", \"EMPLOYMENT\", \"CORPORATE_ACQUISITION\", \n",
    "               \"INVESTMENT_GENERAL\", \"CORPORATE_MERGER\", \"IPO\",\n",
    "               \"RIGHTS_ISSUE\", \"SECONDARY_OFFERING\", \"SHELF_OFFERING\",\n",
    "               \"TENDER_OFFERING\", \"STOCK_SPLIT\"]"
   ]
  },
  {
   "cell_type": "markdown",
   "metadata": {},
   "source": [
    "Start the Amazon Comprehend job."
   ]
  },
  {
   "cell_type": "code",
   "execution_count": 7,
   "metadata": {},
   "outputs": [],
   "source": [
    "# Begin the inference job\n",
    "response = comprehend_client.start_events_detection_job(\n",
    "    InputDataConfig={'S3Uri': input_data_s3_path,\n",
    "                     'InputFormat': input_data_format},\n",
    "    OutputDataConfig={'S3Uri': output_data_s3_path},\n",
    "    DataAccessRoleArn=job_data_access_role,\n",
    "    JobName=job_name,\n",
    "    LanguageCode='en',\n",
    "    TargetEventTypes=event_types\n",
    ")\n",
    "\n",
    "# Get the job ID\n",
    "events_job_id = response['JobId']"
   ]
  },
  {
   "cell_type": "code",
   "execution_count": 8,
   "metadata": {},
   "outputs": [
    {
     "name": "stdout",
     "output_type": "stream",
     "text": [
      ".........Ready\n"
     ]
    }
   ],
   "source": [
    "# Get the current job status\n",
    "job = comprehend_client.describe_events_detection_job(JobId=events_job_id)\n",
    "\n",
    "# Loop until the job is completed\n",
    "waited = 0\n",
    "timeout_minutes = 30\n",
    "while job['EventsDetectionJobProperties']['JobStatus'] != 'COMPLETED':\n",
    "    sleep(60)\n",
    "    waited += 60\n",
    "    assert waited//60 < timeout_minutes, \"Job timed out after %d seconds.\" % waited\n",
    "    print('.', end='')\n",
    "    job = comprehend_client.describe_events_detection_job(JobId=events_job_id)\n",
    "\n",
    "print('Ready')"
   ]
  },
  {
   "cell_type": "markdown",
   "metadata": {},
   "source": [
    "When the job is complete, download the results in memory."
   ]
  },
  {
   "cell_type": "code",
   "execution_count": 9,
   "metadata": {},
   "outputs": [],
   "source": [
    "# The output filename is the input filename + \".out\"\n",
    "output_data_s3_file = job['EventsDetectionJobProperties']['OutputDataConfig']['S3Uri'] + filename + '.out'\n",
    "\n",
    "# Load the output into a results dictionary\n",
    "results = []\n",
    "with smart_open.open(output_data_s3_file) as fi:\n",
    "    results.extend([json.loads(line) for line in fi.readlines() if line])"
   ]
  },
  {
   "cell_type": "markdown",
   "metadata": {
    "slideshow": {
     "slide_type": "slide"
    }
   },
   "source": [
    "## 4. Analyzing the Amazon Comprehend Events output\n",
    "([Go to top](#Lab-5.1:-Implementing-Information-Extraction))\n",
    "\n",
    "With the data downloaded, it's time to analyze the results.\n",
    "\n",
    "You will use the first document in the submitted dataset as an example. The document is typical of what a financial document might consume when projecting market trends. For the full press release, see [Amazon.com Announces Third Quarter Sales up 34% to $43.7 Billion](https://press.aboutamazon.com/news-releases/news-release-details/amazoncom-announces-third-quarter-sales-34-437-billion).\n",
    "\n",
    "The following provides the text of the press release:"
   ]
  },
  {
   "cell_type": "markdown",
   "metadata": {
    "slideshow": {
     "slide_type": "slide"
    }
   },
   "source": [
    "> Amazon.com, Inc. (NASDAQ: AMZN) today announced financial results for its third quarter ended September 30, 2017.\n",
    "\n",
    "> Operating cash flow increased 14% to \\\\$17.1 billion for the trailing twelve months, compared with \\\\$15.0 billion for the trailing twelve months ended September 30, 2016. Free cash flow decreased to \\\\$8.1 billion for the trailing twelve months, compared with \\\\$9.0 billion for the trailing twelve months ended September 30, 2016. Free cash flow less lease principal repayments decreased to \\\\$3.5 billion for the trailing twelve months, compared with \\\\$5.3 billion for the trailing twelve months ended September 30, 2016. Free cash flow less finance lease principal repayments and assets acquired under capital leases decreased to an outflow of \\\\$1.0 billion for the trailing twelve months, compared with an inflow of \\\\$3.8 billion for the trailing twelve months ended September 30, 2016.\n",
    "\n",
    "> Common shares outstanding plus shares underlying stock-based awards totaled 503 million on September 30, 2017, compared with 496 million one year ago.\n",
    "\n",
    "> Net sales increased 34% to \\\\$43.7 billion in the third quarter, compared with \\\\$32.7 billion in third quarter 2016. Net sales includes \\\\$1.3 billion from Whole Foods Market, which Amazon acquired on August 28, 2017. Excluding Whole Foods Market and the \\\\$124 million favorable impact from year-over-year changes in foreign exchange rates throughout the quarter, net sales increased 29% compared with third quarter 2016.\n",
    "\n",
    "> Operating income decreased 40% to \\\\$347 million in the third quarter, compared with operating income of \\\\$575 million in third quarter 2016. Operating income includes income of \\\\$21 million from Whole Foods Market.\n",
    "\n",
    "> Net income was \\\\$256 million in the third quarter, or \\\\$0.52 per diluted share, compared with net income of \\\\$252 million, or \\\\$0.52 per diluted share, in third quarter 2016.\n",
    "\n",
    "> “In the last month alone, we’ve launched five new Alexa-enabled devices, introduced Alexa in India, announced integration with BMW, surpassed 25,000 skills, integrated Alexa with Sonos speakers, taught Alexa to distinguish between two voices, and more. Because Alexa’s brain is in the AWS cloud, her new abilities are available to all Echo customers, not just those who buy a new device,” said Jeff Bezos, Amazon founder and CEO. “And it’s working — customers have purchased tens of millions of Alexa-enabled devices, given Echo devices over 100,000 5-star reviews, and active customers are up more than 5x since the same time last year. With thousands of developers and hardware makers building new Alexa skills and devices, the Alexa experience will continue to get even better.”"
   ]
  },
  {
   "cell_type": "markdown",
   "metadata": {},
   "source": [
    "### Understanding the Amazon Comprehend Events system output\n",
    "\n",
    "The system returns JSON output for each submitted document. The following cells show the structure of the response. \n",
    "\n",
    "Note:\n",
    "* The system output contains separate objects for `Entities` and `Events`, which are each organized into groups of coreferential object.  \n",
    "* Two additional fields, `File` and `Line`, are present to track document provenance."
   ]
  },
  {
   "cell_type": "code",
   "execution_count": 10,
   "metadata": {},
   "outputs": [],
   "source": [
    "# Use the first results document for analysis\n",
    "result = results[0]\n",
    "raw_text = raw_texts[0]"
   ]
  },
  {
   "cell_type": "code",
   "execution_count": 11,
   "metadata": {},
   "outputs": [
    {
     "data": {
      "text/plain": [
       "\"Amazon (NASDAQ:AMZN) and Whole Foods Market, Inc. (NASDAQ:WFM) today announced that they have entered into a definitive merger agreement under which Amazon will acquire Whole Foods Market for $42 per share in an all-cash transaction valued at approximately $13.7 billion, including Whole Foods Market’s net debt.  “Millions of people love Whole Foods Market because they offer the best natural and organic foods, and they make it fun to eat healthy,” said Jeff Bezos, Amazon founder and CEO. “Whole Foods Market has been satisfying, delighting and nourishing customers for nearly four decades – they’re doing an amazing job and we want that to continue.”  “This partnership presents an opportunity to maximize value for Whole Foods Market’s shareholders, while at the same time extending our mission and bringing the highest quality, experience, convenience and innovation to our customers,” said John Mackey, Whole Foods Market co-founder and CEO.  Whole Foods Market will continue to operate stores under the Whole Foods Market brand and source from trusted vendors and partners around the world. John Mackey will remain as CEO of Whole Foods Market and Whole Foods Market’s headquarters will stay in Austin, Texas.  Completion of the transaction is subject to approval by Whole Foods Market's shareholders, regulatory approvals and other customary closing conditions. The parties expect to close the transaction during the second half of 2017.\""
      ]
     },
     "execution_count": 11,
     "metadata": {},
     "output_type": "execute_result"
    }
   ],
   "source": [
    "raw_text"
   ]
  },
  {
   "cell_type": "code",
   "execution_count": 12,
   "metadata": {},
   "outputs": [
    {
     "data": {
      "text/plain": [
       "{'Entities': [{'Mentions': [{'BeginOffset': 0,\n",
       "     'EndOffset': 6,\n",
       "     'Score': 0.999501,\n",
       "     'Text': 'Amazon',\n",
       "     'Type': 'ORGANIZATION',\n",
       "     'GroupScore': 1.0},\n",
       "    {'BeginOffset': 149,\n",
       "     'EndOffset': 155,\n",
       "     'Score': 0.999615,\n",
       "     'Text': 'Amazon',\n",
       "     'Type': 'ORGANIZATION',\n",
       "     'GroupScore': 0.9936},\n",
       "    {'BeginOffset': 468,\n",
       "     'EndOffset': 474,\n",
       "     'Score': 0.998912,\n",
       "     'Text': 'Amazon',\n",
       "     'Type': 'ORGANIZATION',\n",
       "     'GroupScore': 0.584697}]},\n",
       "  {'Mentions': [{'BeginOffset': 8,\n",
       "     'EndOffset': 19,\n",
       "     'Score': 0.990119,\n",
       "     'Text': 'NASDAQ:AMZN',\n",
       "     'Type': 'STOCK_CODE',\n",
       "     'GroupScore': 1.0}]},\n",
       "  {'Mentions': [{'BeginOffset': 25,\n",
       "     'EndOffset': 49,\n",
       "     'Score': 0.999654,\n",
       "     'Text': 'Whole Foods Market, Inc.',\n",
       "     'Type': 'ORGANIZATION',\n",
       "     'GroupScore': 1.0},\n",
       "    {'BeginOffset': 169,\n",
       "     'EndOffset': 187,\n",
       "     'Score': 0.999668,\n",
       "     'Text': 'Whole Foods Market',\n",
       "     'Type': 'ORGANIZATION',\n",
       "     'GroupScore': 0.990907},\n",
       "    {'BeginOffset': 282,\n",
       "     'EndOffset': 300,\n",
       "     'Score': 0.999653,\n",
       "     'Text': 'Whole Foods Market',\n",
       "     'Type': 'ORGANIZATION',\n",
       "     'GroupScore': 0.618077},\n",
       "    {'BeginOffset': 339,\n",
       "     'EndOffset': 357,\n",
       "     'Score': 0.999708,\n",
       "     'Text': 'Whole Foods Market',\n",
       "     'Type': 'ORGANIZATION',\n",
       "     'GroupScore': 0.379389},\n",
       "    {'BeginOffset': 366,\n",
       "     'EndOffset': 370,\n",
       "     'Score': 0.956068,\n",
       "     'Text': 'they',\n",
       "     'Type': 'ORGANIZATION',\n",
       "     'GroupScore': 0.277769},\n",
       "    {'BeginOffset': 417,\n",
       "     'EndOffset': 421,\n",
       "     'Score': 0.68926,\n",
       "     'Text': 'they',\n",
       "     'Type': 'PERSON',\n",
       "     'GroupScore': 0.289622},\n",
       "    {'BeginOffset': 493,\n",
       "     'EndOffset': 511,\n",
       "     'Score': 0.999641,\n",
       "     'Text': 'Whole Foods Market',\n",
       "     'Type': 'ORGANIZATION',\n",
       "     'GroupScore': 0.19549},\n",
       "    {'BeginOffset': 628,\n",
       "     'EndOffset': 630,\n",
       "     'Score': 0.990074,\n",
       "     'Text': 'we',\n",
       "     'Type': 'ORGANIZATION',\n",
       "     'GroupScore': 0.1315},\n",
       "    {'BeginOffset': 720,\n",
       "     'EndOffset': 738,\n",
       "     'Score': 0.999636,\n",
       "     'Text': 'Whole Foods Market',\n",
       "     'Type': 'ORGANIZATION',\n",
       "     'GroupScore': 0.167593},\n",
       "    {'BeginOffset': 910,\n",
       "     'EndOffset': 928,\n",
       "     'Score': 0.999493,\n",
       "     'Text': 'Whole Foods Market',\n",
       "     'Type': 'ORGANIZATION',\n",
       "     'GroupScore': 0.148614},\n",
       "    {'BeginOffset': 950,\n",
       "     'EndOffset': 968,\n",
       "     'Score': 0.999717,\n",
       "     'Text': 'Whole Foods Market',\n",
       "     'Type': 'ORGANIZATION',\n",
       "     'GroupScore': 0.146546},\n",
       "    {'BeginOffset': 1011,\n",
       "     'EndOffset': 1029,\n",
       "     'Score': 0.999779,\n",
       "     'Text': 'Whole Foods Market',\n",
       "     'Type': 'ORGANIZATION',\n",
       "     'GroupScore': 0.123549},\n",
       "    {'BeginOffset': 1133,\n",
       "     'EndOffset': 1151,\n",
       "     'Score': 0.999813,\n",
       "     'Text': 'Whole Foods Market',\n",
       "     'Type': 'ORGANIZATION',\n",
       "     'GroupScore': 0.108891},\n",
       "    {'BeginOffset': 1156,\n",
       "     'EndOffset': 1174,\n",
       "     'Score': 0.999765,\n",
       "     'Text': 'Whole Foods Market',\n",
       "     'Type': 'ORGANIZATION',\n",
       "     'GroupScore': 0.103557},\n",
       "    {'BeginOffset': 1275,\n",
       "     'EndOffset': 1293,\n",
       "     'Score': 0.999802,\n",
       "     'Text': 'Whole Foods Market',\n",
       "     'Type': 'ORGANIZATION',\n",
       "     'GroupScore': 0.096172}]},\n",
       "  {'Mentions': [{'BeginOffset': 51,\n",
       "     'EndOffset': 61,\n",
       "     'Score': 0.980082,\n",
       "     'Text': 'NASDAQ:WFM',\n",
       "     'Type': 'STOCK_CODE',\n",
       "     'GroupScore': 1.0}]},\n",
       "  {'Mentions': [{'BeginOffset': 63,\n",
       "     'EndOffset': 68,\n",
       "     'Score': 0.994578,\n",
       "     'Text': 'today',\n",
       "     'Type': 'DATE',\n",
       "     'GroupScore': 1.0}]},\n",
       "  {'Mentions': [{'BeginOffset': 192,\n",
       "     'EndOffset': 195,\n",
       "     'Score': 0.99873,\n",
       "     'Text': '$42',\n",
       "     'Type': 'MONETARY_VALUE',\n",
       "     'GroupScore': 1.0},\n",
       "    {'BeginOffset': 257,\n",
       "     'EndOffset': 270,\n",
       "     'Score': 0.999486,\n",
       "     'Text': '$13.7 billion',\n",
       "     'Type': 'MONETARY_VALUE',\n",
       "     'GroupScore': 0.547347}]},\n",
       "  {'Mentions': [{'BeginOffset': 897,\n",
       "     'EndOffset': 908,\n",
       "     'Score': 0.999606,\n",
       "     'Text': 'John Mackey',\n",
       "     'Type': 'PERSON',\n",
       "     'GroupScore': 1.0},\n",
       "    {'BeginOffset': 1099,\n",
       "     'EndOffset': 1110,\n",
       "     'Score': 0.999699,\n",
       "     'Text': 'John Mackey',\n",
       "     'Type': 'PERSON',\n",
       "     'GroupScore': 0.977111}]},\n",
       "  {'Mentions': [{'BeginOffset': 944,\n",
       "     'EndOffset': 947,\n",
       "     'Score': 0.997071,\n",
       "     'Text': 'CEO',\n",
       "     'Type': 'PERSON_TITLE',\n",
       "     'GroupScore': 1.0},\n",
       "    {'BeginOffset': 1126,\n",
       "     'EndOffset': 1129,\n",
       "     'Score': 0.998065,\n",
       "     'Text': 'CEO',\n",
       "     'Type': 'PERSON_TITLE',\n",
       "     'GroupScore': 0.778197}]},\n",
       "  {'Mentions': [{'BeginOffset': 1415,\n",
       "     'EndOffset': 1445,\n",
       "     'Score': 0.999491,\n",
       "     'Text': 'during the second half of 2017',\n",
       "     'Type': 'DATE',\n",
       "     'GroupScore': 1.0}]}],\n",
       " 'Events': [{'Type': 'CORPORATE_MERGER',\n",
       "   'Arguments': [{'EntityIndex': 4, 'Role': 'DATE', 'Score': 0.994578},\n",
       "    {'EntityIndex': 1, 'Role': 'PARTICIPANT', 'Score': 0.990119},\n",
       "    {'EntityIndex': 3, 'Role': 'PARTICIPANT', 'Score': 0.980082},\n",
       "    {'EntityIndex': 2, 'Role': 'PARTICIPANT', 'Score': 0.999654},\n",
       "    {'EntityIndex': 8, 'Role': 'DATE', 'Score': 0.999491}],\n",
       "   'Triggers': [{'BeginOffset': 120,\n",
       "     'EndOffset': 126,\n",
       "     'Score': 0.999611,\n",
       "     'Text': 'merger',\n",
       "     'Type': 'CORPORATE_MERGER',\n",
       "     'GroupScore': 1.0},\n",
       "    {'BeginOffset': 662,\n",
       "     'EndOffset': 673,\n",
       "     'Score': 0.999829,\n",
       "     'Text': 'partnership',\n",
       "     'Type': 'CORPORATE_MERGER',\n",
       "     'GroupScore': 0.999969},\n",
       "    {'BeginOffset': 1237,\n",
       "     'EndOffset': 1248,\n",
       "     'Score': 0.992193,\n",
       "     'Text': 'transaction',\n",
       "     'Type': 'CORPORATE_MERGER',\n",
       "     'GroupScore': 0.509699},\n",
       "    {'BeginOffset': 1403,\n",
       "     'EndOffset': 1414,\n",
       "     'Score': 0.998367,\n",
       "     'Text': 'transaction',\n",
       "     'Type': 'CORPORATE_MERGER',\n",
       "     'GroupScore': 0.336708}]},\n",
       "  {'Type': 'CORPORATE_ACQUISITION',\n",
       "   'Arguments': [{'EntityIndex': 5, 'Role': 'AMOUNT', 'Score': 0.99873},\n",
       "    {'EntityIndex': 4, 'Role': 'DATE', 'Score': 0.994578},\n",
       "    {'EntityIndex': 2, 'Role': 'INVESTEE', 'Score': 0.999668},\n",
       "    {'EntityIndex': 0, 'Role': 'INVESTOR', 'Score': 0.999615}],\n",
       "   'Triggers': [{'BeginOffset': 161,\n",
       "     'EndOffset': 168,\n",
       "     'Score': 0.999958,\n",
       "     'Text': 'acquire',\n",
       "     'Type': 'CORPORATE_ACQUISITION',\n",
       "     'GroupScore': 1.0},\n",
       "    {'BeginOffset': 221,\n",
       "     'EndOffset': 232,\n",
       "     'Score': 0.931136,\n",
       "     'Text': 'transaction',\n",
       "     'Type': 'CORPORATE_ACQUISITION',\n",
       "     'GroupScore': 0.999985}]},\n",
       "  {'Type': 'EMPLOYMENT',\n",
       "   'Arguments': [{'EntityIndex': 6, 'Role': 'EMPLOYEE', 'Score': 0.999699},\n",
       "    {'EntityIndex': 7, 'Role': 'EMPLOYEE_TITLE', 'Score': 0.998065},\n",
       "    {'EntityIndex': 2, 'Role': 'EMPLOYER', 'Score': 0.999813}],\n",
       "   'Triggers': [{'BeginOffset': 1116,\n",
       "     'EndOffset': 1122,\n",
       "     'Score': 0.999938,\n",
       "     'Text': 'remain',\n",
       "     'Type': 'EMPLOYMENT',\n",
       "     'GroupScore': 1.0}]}],\n",
       " 'File': 'sample_finance_dataset.txt',\n",
       " 'Line': 0}"
      ]
     },
     "execution_count": 12,
     "metadata": {},
     "output_type": "execute_result"
    }
   ],
   "source": [
    "result"
   ]
  },
  {
   "cell_type": "markdown",
   "metadata": {
    "slideshow": {
     "slide_type": "slide"
    }
   },
   "source": [
    "#### Events are groups of triggers\n",
    "\n",
    "* The API output includes the text, character offset, and type of each trigger.\n",
    "\n",
    "* Confidence scores for classification tasks are given as `Score`. Confidence of event group membership is given as `GroupScore`."
   ]
  },
  {
   "cell_type": "code",
   "execution_count": 13,
   "metadata": {
    "slideshow": {
     "slide_type": "-"
    }
   },
   "outputs": [
    {
     "data": {
      "text/plain": [
       "[{'BeginOffset': 161,\n",
       "  'EndOffset': 168,\n",
       "  'Score': 0.999958,\n",
       "  'Text': 'acquire',\n",
       "  'Type': 'CORPORATE_ACQUISITION',\n",
       "  'GroupScore': 1.0},\n",
       " {'BeginOffset': 221,\n",
       "  'EndOffset': 232,\n",
       "  'Score': 0.931136,\n",
       "  'Text': 'transaction',\n",
       "  'Type': 'CORPORATE_ACQUISITION',\n",
       "  'GroupScore': 0.999985}]"
      ]
     },
     "execution_count": 13,
     "metadata": {},
     "output_type": "execute_result"
    }
   ],
   "source": [
    "result['Events'][1]['Triggers']"
   ]
  },
  {
   "cell_type": "markdown",
   "metadata": {
    "slideshow": {
     "slide_type": "slide"
    }
   },
   "source": [
    "#### Arguments are linked to entities by the EntityIndex\n",
    "\n",
    "* The API also returns the classification confidence of the role assignment."
   ]
  },
  {
   "cell_type": "code",
   "execution_count": 14,
   "metadata": {
    "slideshow": {
     "slide_type": "-"
    }
   },
   "outputs": [
    {
     "data": {
      "text/plain": [
       "[{'EntityIndex': 5, 'Role': 'AMOUNT', 'Score': 0.99873},\n",
       " {'EntityIndex': 4, 'Role': 'DATE', 'Score': 0.994578},\n",
       " {'EntityIndex': 2, 'Role': 'INVESTEE', 'Score': 0.999668},\n",
       " {'EntityIndex': 0, 'Role': 'INVESTOR', 'Score': 0.999615}]"
      ]
     },
     "execution_count": 14,
     "metadata": {},
     "output_type": "execute_result"
    }
   ],
   "source": [
    "result['Events'][1]['Arguments']"
   ]
  },
  {
   "cell_type": "markdown",
   "metadata": {
    "slideshow": {
     "slide_type": "slide"
    }
   },
   "source": [
    "#### Entities are groups of mentions\n",
    "\n",
    "* The API output includes the text, character offset, and type of each mention.  \n",
    "\n",
    "* Confidence scores for classification tasks are given as `Score`. Confidence of entity group membership is given as `GroupScore`.  "
   ]
  },
  {
   "cell_type": "code",
   "execution_count": 15,
   "metadata": {
    "slideshow": {
     "slide_type": "-"
    }
   },
   "outputs": [
    {
     "data": {
      "text/plain": [
       "[{'BeginOffset': 0,\n",
       "  'EndOffset': 6,\n",
       "  'Score': 0.999501,\n",
       "  'Text': 'Amazon',\n",
       "  'Type': 'ORGANIZATION',\n",
       "  'GroupScore': 1.0},\n",
       " {'BeginOffset': 149,\n",
       "  'EndOffset': 155,\n",
       "  'Score': 0.999615,\n",
       "  'Text': 'Amazon',\n",
       "  'Type': 'ORGANIZATION',\n",
       "  'GroupScore': 0.9936},\n",
       " {'BeginOffset': 468,\n",
       "  'EndOffset': 474,\n",
       "  'Score': 0.998912,\n",
       "  'Text': 'Amazon',\n",
       "  'Type': 'ORGANIZATION',\n",
       "  'GroupScore': 0.584697}]"
      ]
     },
     "execution_count": 15,
     "metadata": {},
     "output_type": "execute_result"
    }
   ],
   "source": [
    "result['Entities'][0]['Mentions']"
   ]
  },
  {
   "cell_type": "markdown",
   "metadata": {
    "slideshow": {
     "slide_type": "slide"
    }
   },
   "source": [
    "### Visualizing the events and entities\n",
    "\n",
    "In this section, you explore a number of tabulations and visualizations to help understand what the API is returning.\n",
    "\n",
    "First, you consider a visualization of spans, both triggers and entity mentions. One of the most essential visualization tasks for sequence labeling is highlighting tagged text in documents. For demo purposes, you will use [displaCy](https://spacy.io/usage/visualizers)."
   ]
  },
  {
   "cell_type": "code",
   "execution_count": 16,
   "metadata": {
    "slideshow": {
     "slide_type": "skip"
    }
   },
   "outputs": [],
   "source": [
    "# Convert the output to the displaCy format\n",
    "entities = [\n",
    "    {'start': m['BeginOffset'], 'end': m['EndOffset'], 'label': m['Type']}\n",
    "    for e in result['Entities']\n",
    "    for m in e['Mentions']\n",
    "]\n",
    "\n",
    "triggers = [\n",
    "    {'start': t['BeginOffset'], 'end': t['EndOffset'], 'label': t['Type']}\n",
    "    for e in result['Events']\n",
    "    for t in e['Triggers']\n",
    "]\n",
    "\n",
    "# Spans need to be sorted for displaCy to process them correctly\n",
    "spans = sorted(entities + triggers, key=lambda x: x['start'])\n",
    "tags = [s['label'] for s in spans]\n",
    "\n",
    "output = [{\"text\": raw_text, \"ents\": spans, \"title\": None, \"settings\": {}}]"
   ]
  },
  {
   "cell_type": "code",
   "execution_count": 17,
   "metadata": {
    "slideshow": {
     "slide_type": "skip"
    }
   },
   "outputs": [
    {
     "name": "stderr",
     "output_type": "stream",
     "text": [
      "/tmp/ipykernel_8772/1177317322.py:2: MatplotlibDeprecationWarning: The get_cmap function was deprecated in Matplotlib 3.7 and will be removed two minor releases later. Use ``matplotlib.colormaps[name]`` or ``matplotlib.colormaps.get_cmap(obj)`` instead.\n",
      "  spectral = cm.get_cmap(\"Spectral\", len(tags))\n"
     ]
    }
   ],
   "source": [
    "# Miscellaneous objects for presentation purposes\n",
    "spectral = cm.get_cmap(\"Spectral\", len(tags))\n",
    "tag_colors = [colors.rgb2hex(spectral(i)) for i in range(len(tags))]\n",
    "color_map = dict(zip(*(tags, tag_colors)))"
   ]
  },
  {
   "cell_type": "code",
   "execution_count": 18,
   "metadata": {
    "slideshow": {
     "slide_type": "slide"
    }
   },
   "outputs": [
    {
     "data": {
      "text/html": [
       "<span class=\"tex2jax_ignore\"><div class=\"entities\" style=\"line-height: 2.5; direction: ltr\">\n",
       "<mark class=\"entity\" style=\"background: #4471b2; padding: 0.45em 0.6em; margin: 0 0.25em; line-height: 1; border-radius: 0.35em;\">\n",
       "    Amazon\n",
       "    <span style=\"font-size: 0.8em; font-weight: bold; line-height: 1; border-radius: 0.35em; vertical-align: middle; margin-left: 0.5rem\">ORGANIZATION</span>\n",
       "</mark>\n",
       " (\n",
       "<mark class=\"entity\" style=\"background: #cf374d; padding: 0.45em 0.6em; margin: 0 0.25em; line-height: 1; border-radius: 0.35em;\">\n",
       "    NASDAQ:AMZN\n",
       "    <span style=\"font-size: 0.8em; font-weight: bold; line-height: 1; border-radius: 0.35em; vertical-align: middle; margin-left: 0.5rem\">STOCK_CODE</span>\n",
       "</mark>\n",
       ") and \n",
       "<mark class=\"entity\" style=\"background: #4471b2; padding: 0.45em 0.6em; margin: 0 0.25em; line-height: 1; border-radius: 0.35em;\">\n",
       "    Whole Foods Market, Inc.\n",
       "    <span style=\"font-size: 0.8em; font-weight: bold; line-height: 1; border-radius: 0.35em; vertical-align: middle; margin-left: 0.5rem\">ORGANIZATION</span>\n",
       "</mark>\n",
       " (\n",
       "<mark class=\"entity\" style=\"background: #cf374d; padding: 0.45em 0.6em; margin: 0 0.25em; line-height: 1; border-radius: 0.35em;\">\n",
       "    NASDAQ:WFM\n",
       "    <span style=\"font-size: 0.8em; font-weight: bold; line-height: 1; border-radius: 0.35em; vertical-align: middle; margin-left: 0.5rem\">STOCK_CODE</span>\n",
       "</mark>\n",
       ") \n",
       "<mark class=\"entity\" style=\"background: #5e4fa2; padding: 0.45em 0.6em; margin: 0 0.25em; line-height: 1; border-radius: 0.35em;\">\n",
       "    today\n",
       "    <span style=\"font-size: 0.8em; font-weight: bold; line-height: 1; border-radius: 0.35em; vertical-align: middle; margin-left: 0.5rem\">DATE</span>\n",
       "</mark>\n",
       " announced that they have entered into a definitive \n",
       "<mark class=\"entity\" style=\"background: #5160aa; padding: 0.45em 0.6em; margin: 0 0.25em; line-height: 1; border-radius: 0.35em;\">\n",
       "    merger\n",
       "    <span style=\"font-size: 0.8em; font-weight: bold; line-height: 1; border-radius: 0.35em; vertical-align: middle; margin-left: 0.5rem\">CORPORATE_MERGER</span>\n",
       "</mark>\n",
       " agreement under which \n",
       "<mark class=\"entity\" style=\"background: #4471b2; padding: 0.45em 0.6em; margin: 0 0.25em; line-height: 1; border-radius: 0.35em;\">\n",
       "    Amazon\n",
       "    <span style=\"font-size: 0.8em; font-weight: bold; line-height: 1; border-radius: 0.35em; vertical-align: middle; margin-left: 0.5rem\">ORGANIZATION</span>\n",
       "</mark>\n",
       " will \n",
       "<mark class=\"entity\" style=\"background: #fcaa5f; padding: 0.45em 0.6em; margin: 0 0.25em; line-height: 1; border-radius: 0.35em;\">\n",
       "    acquire\n",
       "    <span style=\"font-size: 0.8em; font-weight: bold; line-height: 1; border-radius: 0.35em; vertical-align: middle; margin-left: 0.5rem\">CORPORATE_ACQUISITION</span>\n",
       "</mark>\n",
       " \n",
       "<mark class=\"entity\" style=\"background: #4471b2; padding: 0.45em 0.6em; margin: 0 0.25em; line-height: 1; border-radius: 0.35em;\">\n",
       "    Whole Foods Market\n",
       "    <span style=\"font-size: 0.8em; font-weight: bold; line-height: 1; border-radius: 0.35em; vertical-align: middle; margin-left: 0.5rem\">ORGANIZATION</span>\n",
       "</mark>\n",
       " for \n",
       "<mark class=\"entity\" style=\"background: #fdba6b; padding: 0.45em 0.6em; margin: 0 0.25em; line-height: 1; border-radius: 0.35em;\">\n",
       "    $42\n",
       "    <span style=\"font-size: 0.8em; font-weight: bold; line-height: 1; border-radius: 0.35em; vertical-align: middle; margin-left: 0.5rem\">MONETARY_VALUE</span>\n",
       "</mark>\n",
       " per share in an all-cash \n",
       "<mark class=\"entity\" style=\"background: #fcaa5f; padding: 0.45em 0.6em; margin: 0 0.25em; line-height: 1; border-radius: 0.35em;\">\n",
       "    transaction\n",
       "    <span style=\"font-size: 0.8em; font-weight: bold; line-height: 1; border-radius: 0.35em; vertical-align: middle; margin-left: 0.5rem\">CORPORATE_ACQUISITION</span>\n",
       "</mark>\n",
       " valued at approximately \n",
       "<mark class=\"entity\" style=\"background: #fdba6b; padding: 0.45em 0.6em; margin: 0 0.25em; line-height: 1; border-radius: 0.35em;\">\n",
       "    $13.7 billion\n",
       "    <span style=\"font-size: 0.8em; font-weight: bold; line-height: 1; border-radius: 0.35em; vertical-align: middle; margin-left: 0.5rem\">MONETARY_VALUE</span>\n",
       "</mark>\n",
       ", including \n",
       "<mark class=\"entity\" style=\"background: #4471b2; padding: 0.45em 0.6em; margin: 0 0.25em; line-height: 1; border-radius: 0.35em;\">\n",
       "    Whole Foods Market\n",
       "    <span style=\"font-size: 0.8em; font-weight: bold; line-height: 1; border-radius: 0.35em; vertical-align: middle; margin-left: 0.5rem\">ORGANIZATION</span>\n",
       "</mark>\n",
       "’s net debt.  “Millions of people love \n",
       "<mark class=\"entity\" style=\"background: #4471b2; padding: 0.45em 0.6em; margin: 0 0.25em; line-height: 1; border-radius: 0.35em;\">\n",
       "    Whole Foods Market\n",
       "    <span style=\"font-size: 0.8em; font-weight: bold; line-height: 1; border-radius: 0.35em; vertical-align: middle; margin-left: 0.5rem\">ORGANIZATION</span>\n",
       "</mark>\n",
       " because \n",
       "<mark class=\"entity\" style=\"background: #4471b2; padding: 0.45em 0.6em; margin: 0 0.25em; line-height: 1; border-radius: 0.35em;\">\n",
       "    they\n",
       "    <span style=\"font-size: 0.8em; font-weight: bold; line-height: 1; border-radius: 0.35em; vertical-align: middle; margin-left: 0.5rem\">ORGANIZATION</span>\n",
       "</mark>\n",
       " offer the best natural and organic foods, and \n",
       "<mark class=\"entity\" style=\"background: #7ecca5; padding: 0.45em 0.6em; margin: 0 0.25em; line-height: 1; border-radius: 0.35em;\">\n",
       "    they\n",
       "    <span style=\"font-size: 0.8em; font-weight: bold; line-height: 1; border-radius: 0.35em; vertical-align: middle; margin-left: 0.5rem\">PERSON</span>\n",
       "</mark>\n",
       " make it fun to eat healthy,” said Jeff Bezos, \n",
       "<mark class=\"entity\" style=\"background: #4471b2; padding: 0.45em 0.6em; margin: 0 0.25em; line-height: 1; border-radius: 0.35em;\">\n",
       "    Amazon\n",
       "    <span style=\"font-size: 0.8em; font-weight: bold; line-height: 1; border-radius: 0.35em; vertical-align: middle; margin-left: 0.5rem\">ORGANIZATION</span>\n",
       "</mark>\n",
       " founder and CEO. “\n",
       "<mark class=\"entity\" style=\"background: #4471b2; padding: 0.45em 0.6em; margin: 0 0.25em; line-height: 1; border-radius: 0.35em;\">\n",
       "    Whole Foods Market\n",
       "    <span style=\"font-size: 0.8em; font-weight: bold; line-height: 1; border-radius: 0.35em; vertical-align: middle; margin-left: 0.5rem\">ORGANIZATION</span>\n",
       "</mark>\n",
       " has been satisfying, delighting and nourishing customers for nearly four decades – they’re doing an amazing job and \n",
       "<mark class=\"entity\" style=\"background: #4471b2; padding: 0.45em 0.6em; margin: 0 0.25em; line-height: 1; border-radius: 0.35em;\">\n",
       "    we\n",
       "    <span style=\"font-size: 0.8em; font-weight: bold; line-height: 1; border-radius: 0.35em; vertical-align: middle; margin-left: 0.5rem\">ORGANIZATION</span>\n",
       "</mark>\n",
       " want that to continue.”  “This \n",
       "<mark class=\"entity\" style=\"background: #5160aa; padding: 0.45em 0.6em; margin: 0 0.25em; line-height: 1; border-radius: 0.35em;\">\n",
       "    partnership\n",
       "    <span style=\"font-size: 0.8em; font-weight: bold; line-height: 1; border-radius: 0.35em; vertical-align: middle; margin-left: 0.5rem\">CORPORATE_MERGER</span>\n",
       "</mark>\n",
       " presents an opportunity to maximize value for \n",
       "<mark class=\"entity\" style=\"background: #4471b2; padding: 0.45em 0.6em; margin: 0 0.25em; line-height: 1; border-radius: 0.35em;\">\n",
       "    Whole Foods Market\n",
       "    <span style=\"font-size: 0.8em; font-weight: bold; line-height: 1; border-radius: 0.35em; vertical-align: middle; margin-left: 0.5rem\">ORGANIZATION</span>\n",
       "</mark>\n",
       "’s shareholders, while at the same time extending our mission and bringing the highest quality, experience, convenience and innovation to our customers,” said \n",
       "<mark class=\"entity\" style=\"background: #7ecca5; padding: 0.45em 0.6em; margin: 0 0.25em; line-height: 1; border-radius: 0.35em;\">\n",
       "    John Mackey\n",
       "    <span style=\"font-size: 0.8em; font-weight: bold; line-height: 1; border-radius: 0.35em; vertical-align: middle; margin-left: 0.5rem\">PERSON</span>\n",
       "</mark>\n",
       ", \n",
       "<mark class=\"entity\" style=\"background: #4471b2; padding: 0.45em 0.6em; margin: 0 0.25em; line-height: 1; border-radius: 0.35em;\">\n",
       "    Whole Foods Market\n",
       "    <span style=\"font-size: 0.8em; font-weight: bold; line-height: 1; border-radius: 0.35em; vertical-align: middle; margin-left: 0.5rem\">ORGANIZATION</span>\n",
       "</mark>\n",
       " co-founder and \n",
       "<mark class=\"entity\" style=\"background: #5ab4ab; padding: 0.45em 0.6em; margin: 0 0.25em; line-height: 1; border-radius: 0.35em;\">\n",
       "    CEO\n",
       "    <span style=\"font-size: 0.8em; font-weight: bold; line-height: 1; border-radius: 0.35em; vertical-align: middle; margin-left: 0.5rem\">PERSON_TITLE</span>\n",
       "</mark>\n",
       ".  \n",
       "<mark class=\"entity\" style=\"background: #4471b2; padding: 0.45em 0.6em; margin: 0 0.25em; line-height: 1; border-radius: 0.35em;\">\n",
       "    Whole Foods Market\n",
       "    <span style=\"font-size: 0.8em; font-weight: bold; line-height: 1; border-radius: 0.35em; vertical-align: middle; margin-left: 0.5rem\">ORGANIZATION</span>\n",
       "</mark>\n",
       " will continue to operate stores under the \n",
       "<mark class=\"entity\" style=\"background: #4471b2; padding: 0.45em 0.6em; margin: 0 0.25em; line-height: 1; border-radius: 0.35em;\">\n",
       "    Whole Foods Market\n",
       "    <span style=\"font-size: 0.8em; font-weight: bold; line-height: 1; border-radius: 0.35em; vertical-align: middle; margin-left: 0.5rem\">ORGANIZATION</span>\n",
       "</mark>\n",
       " brand and source from trusted vendors and partners around the world. \n",
       "<mark class=\"entity\" style=\"background: #7ecca5; padding: 0.45em 0.6em; margin: 0 0.25em; line-height: 1; border-radius: 0.35em;\">\n",
       "    John Mackey\n",
       "    <span style=\"font-size: 0.8em; font-weight: bold; line-height: 1; border-radius: 0.35em; vertical-align: middle; margin-left: 0.5rem\">PERSON</span>\n",
       "</mark>\n",
       " will \n",
       "<mark class=\"entity\" style=\"background: #6ac4a5; padding: 0.45em 0.6em; margin: 0 0.25em; line-height: 1; border-radius: 0.35em;\">\n",
       "    remain\n",
       "    <span style=\"font-size: 0.8em; font-weight: bold; line-height: 1; border-radius: 0.35em; vertical-align: middle; margin-left: 0.5rem\">EMPLOYMENT</span>\n",
       "</mark>\n",
       " as \n",
       "<mark class=\"entity\" style=\"background: #5ab4ab; padding: 0.45em 0.6em; margin: 0 0.25em; line-height: 1; border-radius: 0.35em;\">\n",
       "    CEO\n",
       "    <span style=\"font-size: 0.8em; font-weight: bold; line-height: 1; border-radius: 0.35em; vertical-align: middle; margin-left: 0.5rem\">PERSON_TITLE</span>\n",
       "</mark>\n",
       " of \n",
       "<mark class=\"entity\" style=\"background: #4471b2; padding: 0.45em 0.6em; margin: 0 0.25em; line-height: 1; border-radius: 0.35em;\">\n",
       "    Whole Foods Market\n",
       "    <span style=\"font-size: 0.8em; font-weight: bold; line-height: 1; border-radius: 0.35em; vertical-align: middle; margin-left: 0.5rem\">ORGANIZATION</span>\n",
       "</mark>\n",
       " and \n",
       "<mark class=\"entity\" style=\"background: #4471b2; padding: 0.45em 0.6em; margin: 0 0.25em; line-height: 1; border-radius: 0.35em;\">\n",
       "    Whole Foods Market\n",
       "    <span style=\"font-size: 0.8em; font-weight: bold; line-height: 1; border-radius: 0.35em; vertical-align: middle; margin-left: 0.5rem\">ORGANIZATION</span>\n",
       "</mark>\n",
       "’s headquarters will stay in Austin, Texas.  Completion of the \n",
       "<mark class=\"entity\" style=\"background: #5160aa; padding: 0.45em 0.6em; margin: 0 0.25em; line-height: 1; border-radius: 0.35em;\">\n",
       "    transaction\n",
       "    <span style=\"font-size: 0.8em; font-weight: bold; line-height: 1; border-radius: 0.35em; vertical-align: middle; margin-left: 0.5rem\">CORPORATE_MERGER</span>\n",
       "</mark>\n",
       " is subject to approval by \n",
       "<mark class=\"entity\" style=\"background: #4471b2; padding: 0.45em 0.6em; margin: 0 0.25em; line-height: 1; border-radius: 0.35em;\">\n",
       "    Whole Foods Market\n",
       "    <span style=\"font-size: 0.8em; font-weight: bold; line-height: 1; border-radius: 0.35em; vertical-align: middle; margin-left: 0.5rem\">ORGANIZATION</span>\n",
       "</mark>\n",
       "'s shareholders, regulatory approvals and other customary closing conditions. The parties expect to close the \n",
       "<mark class=\"entity\" style=\"background: #5160aa; padding: 0.45em 0.6em; margin: 0 0.25em; line-height: 1; border-radius: 0.35em;\">\n",
       "    transaction\n",
       "    <span style=\"font-size: 0.8em; font-weight: bold; line-height: 1; border-radius: 0.35em; vertical-align: middle; margin-left: 0.5rem\">CORPORATE_MERGER</span>\n",
       "</mark>\n",
       " \n",
       "<mark class=\"entity\" style=\"background: #5e4fa2; padding: 0.45em 0.6em; margin: 0 0.25em; line-height: 1; border-radius: 0.35em;\">\n",
       "    during the second half of 2017\n",
       "    <span style=\"font-size: 0.8em; font-weight: bold; line-height: 1; border-radius: 0.35em; vertical-align: middle; margin-left: 0.5rem\">DATE</span>\n",
       "</mark>\n",
       ".</div></span>"
      ],
      "text/plain": [
       "<IPython.core.display.HTML object>"
      ]
     },
     "metadata": {},
     "output_type": "display_data"
    }
   ],
   "source": [
    "# Note that only entities participating in events are shown\n",
    "displacy.render(output, style=\"ent\", options={\"colors\": color_map}, manual=True)"
   ]
  },
  {
   "cell_type": "markdown",
   "metadata": {
    "slideshow": {
     "slide_type": "slide"
    }
   },
   "source": [
    "### Rendering as tabular data\n",
    "\n",
    "A common use for Amazon Comprehend Events is to create structured data from unstructured text. For this lab, you will do this with pandas.\n",
    "\n",
    "First, flatten the hierarchical JSON data into a pandas DataFrame. "
   ]
  },
  {
   "cell_type": "code",
   "execution_count": 19,
   "metadata": {
    "slideshow": {
     "slide_type": "skip"
    }
   },
   "outputs": [],
   "source": [
    "# Create the entity DataFrame. Entity indices must be explicitly created.\n",
    "entities_df = pd.DataFrame([\n",
    "    {\"EntityIndex\": i, **m}\n",
    "    for i, e in enumerate(result['Entities'])\n",
    "    for m in e['Mentions']\n",
    "])\n",
    "\n",
    "# Create the events DataFrame. Event indices must be explicitly created.\n",
    "events_df = pd.DataFrame([\n",
    "    {\"EventIndex\": i, **a, **t}\n",
    "    for i, e in enumerate(result['Events'])\n",
    "    for a in e['Arguments']\n",
    "    for t in e['Triggers']\n",
    "])\n",
    "\n",
    "# Join the two tables into one flat data structure\n",
    "events_df = events_df.merge(entities_df, on=\"EntityIndex\", suffixes=('Event', 'Entity'))"
   ]
  },
  {
   "cell_type": "code",
   "execution_count": 20,
   "metadata": {
    "slideshow": {
     "slide_type": "-"
    }
   },
   "outputs": [
    {
     "data": {
      "text/html": [
       "<div>\n",
       "<style scoped>\n",
       "    .dataframe tbody tr th:only-of-type {\n",
       "        vertical-align: middle;\n",
       "    }\n",
       "\n",
       "    .dataframe tbody tr th {\n",
       "        vertical-align: top;\n",
       "    }\n",
       "\n",
       "    .dataframe thead th {\n",
       "        text-align: right;\n",
       "    }\n",
       "</style>\n",
       "<table border=\"1\" class=\"dataframe\">\n",
       "  <thead>\n",
       "    <tr style=\"text-align: right;\">\n",
       "      <th></th>\n",
       "      <th>EventIndex</th>\n",
       "      <th>EntityIndex</th>\n",
       "      <th>Role</th>\n",
       "      <th>ScoreEvent</th>\n",
       "      <th>BeginOffsetEvent</th>\n",
       "      <th>EndOffsetEvent</th>\n",
       "      <th>TextEvent</th>\n",
       "      <th>TypeEvent</th>\n",
       "      <th>GroupScoreEvent</th>\n",
       "      <th>BeginOffsetEntity</th>\n",
       "      <th>EndOffsetEntity</th>\n",
       "      <th>ScoreEntity</th>\n",
       "      <th>TextEntity</th>\n",
       "      <th>TypeEntity</th>\n",
       "      <th>GroupScoreEntity</th>\n",
       "    </tr>\n",
       "  </thead>\n",
       "  <tbody>\n",
       "    <tr>\n",
       "      <th>0</th>\n",
       "      <td>0</td>\n",
       "      <td>4</td>\n",
       "      <td>DATE</td>\n",
       "      <td>0.999611</td>\n",
       "      <td>120</td>\n",
       "      <td>126</td>\n",
       "      <td>merger</td>\n",
       "      <td>CORPORATE_MERGER</td>\n",
       "      <td>1.000000</td>\n",
       "      <td>63</td>\n",
       "      <td>68</td>\n",
       "      <td>0.994578</td>\n",
       "      <td>today</td>\n",
       "      <td>DATE</td>\n",
       "      <td>1.000000</td>\n",
       "    </tr>\n",
       "    <tr>\n",
       "      <th>1</th>\n",
       "      <td>0</td>\n",
       "      <td>4</td>\n",
       "      <td>DATE</td>\n",
       "      <td>0.999829</td>\n",
       "      <td>662</td>\n",
       "      <td>673</td>\n",
       "      <td>partnership</td>\n",
       "      <td>CORPORATE_MERGER</td>\n",
       "      <td>0.999969</td>\n",
       "      <td>63</td>\n",
       "      <td>68</td>\n",
       "      <td>0.994578</td>\n",
       "      <td>today</td>\n",
       "      <td>DATE</td>\n",
       "      <td>1.000000</td>\n",
       "    </tr>\n",
       "    <tr>\n",
       "      <th>2</th>\n",
       "      <td>0</td>\n",
       "      <td>4</td>\n",
       "      <td>DATE</td>\n",
       "      <td>0.992193</td>\n",
       "      <td>1237</td>\n",
       "      <td>1248</td>\n",
       "      <td>transaction</td>\n",
       "      <td>CORPORATE_MERGER</td>\n",
       "      <td>0.509699</td>\n",
       "      <td>63</td>\n",
       "      <td>68</td>\n",
       "      <td>0.994578</td>\n",
       "      <td>today</td>\n",
       "      <td>DATE</td>\n",
       "      <td>1.000000</td>\n",
       "    </tr>\n",
       "    <tr>\n",
       "      <th>3</th>\n",
       "      <td>0</td>\n",
       "      <td>4</td>\n",
       "      <td>DATE</td>\n",
       "      <td>0.998367</td>\n",
       "      <td>1403</td>\n",
       "      <td>1414</td>\n",
       "      <td>transaction</td>\n",
       "      <td>CORPORATE_MERGER</td>\n",
       "      <td>0.336708</td>\n",
       "      <td>63</td>\n",
       "      <td>68</td>\n",
       "      <td>0.994578</td>\n",
       "      <td>today</td>\n",
       "      <td>DATE</td>\n",
       "      <td>1.000000</td>\n",
       "    </tr>\n",
       "    <tr>\n",
       "      <th>4</th>\n",
       "      <td>1</td>\n",
       "      <td>4</td>\n",
       "      <td>DATE</td>\n",
       "      <td>0.999958</td>\n",
       "      <td>161</td>\n",
       "      <td>168</td>\n",
       "      <td>acquire</td>\n",
       "      <td>CORPORATE_ACQUISITION</td>\n",
       "      <td>1.000000</td>\n",
       "      <td>63</td>\n",
       "      <td>68</td>\n",
       "      <td>0.994578</td>\n",
       "      <td>today</td>\n",
       "      <td>DATE</td>\n",
       "      <td>1.000000</td>\n",
       "    </tr>\n",
       "    <tr>\n",
       "      <th>...</th>\n",
       "      <td>...</td>\n",
       "      <td>...</td>\n",
       "      <td>...</td>\n",
       "      <td>...</td>\n",
       "      <td>...</td>\n",
       "      <td>...</td>\n",
       "      <td>...</td>\n",
       "      <td>...</td>\n",
       "      <td>...</td>\n",
       "      <td>...</td>\n",
       "      <td>...</td>\n",
       "      <td>...</td>\n",
       "      <td>...</td>\n",
       "      <td>...</td>\n",
       "      <td>...</td>\n",
       "    </tr>\n",
       "    <tr>\n",
       "      <th>132</th>\n",
       "      <td>1</td>\n",
       "      <td>0</td>\n",
       "      <td>INVESTOR</td>\n",
       "      <td>0.931136</td>\n",
       "      <td>221</td>\n",
       "      <td>232</td>\n",
       "      <td>transaction</td>\n",
       "      <td>CORPORATE_ACQUISITION</td>\n",
       "      <td>0.999985</td>\n",
       "      <td>468</td>\n",
       "      <td>474</td>\n",
       "      <td>0.998912</td>\n",
       "      <td>Amazon</td>\n",
       "      <td>ORGANIZATION</td>\n",
       "      <td>0.584697</td>\n",
       "    </tr>\n",
       "    <tr>\n",
       "      <th>133</th>\n",
       "      <td>2</td>\n",
       "      <td>6</td>\n",
       "      <td>EMPLOYEE</td>\n",
       "      <td>0.999938</td>\n",
       "      <td>1116</td>\n",
       "      <td>1122</td>\n",
       "      <td>remain</td>\n",
       "      <td>EMPLOYMENT</td>\n",
       "      <td>1.000000</td>\n",
       "      <td>897</td>\n",
       "      <td>908</td>\n",
       "      <td>0.999606</td>\n",
       "      <td>John Mackey</td>\n",
       "      <td>PERSON</td>\n",
       "      <td>1.000000</td>\n",
       "    </tr>\n",
       "    <tr>\n",
       "      <th>134</th>\n",
       "      <td>2</td>\n",
       "      <td>6</td>\n",
       "      <td>EMPLOYEE</td>\n",
       "      <td>0.999938</td>\n",
       "      <td>1116</td>\n",
       "      <td>1122</td>\n",
       "      <td>remain</td>\n",
       "      <td>EMPLOYMENT</td>\n",
       "      <td>1.000000</td>\n",
       "      <td>1099</td>\n",
       "      <td>1110</td>\n",
       "      <td>0.999699</td>\n",
       "      <td>John Mackey</td>\n",
       "      <td>PERSON</td>\n",
       "      <td>0.977111</td>\n",
       "    </tr>\n",
       "    <tr>\n",
       "      <th>135</th>\n",
       "      <td>2</td>\n",
       "      <td>7</td>\n",
       "      <td>EMPLOYEE_TITLE</td>\n",
       "      <td>0.999938</td>\n",
       "      <td>1116</td>\n",
       "      <td>1122</td>\n",
       "      <td>remain</td>\n",
       "      <td>EMPLOYMENT</td>\n",
       "      <td>1.000000</td>\n",
       "      <td>944</td>\n",
       "      <td>947</td>\n",
       "      <td>0.997071</td>\n",
       "      <td>CEO</td>\n",
       "      <td>PERSON_TITLE</td>\n",
       "      <td>1.000000</td>\n",
       "    </tr>\n",
       "    <tr>\n",
       "      <th>136</th>\n",
       "      <td>2</td>\n",
       "      <td>7</td>\n",
       "      <td>EMPLOYEE_TITLE</td>\n",
       "      <td>0.999938</td>\n",
       "      <td>1116</td>\n",
       "      <td>1122</td>\n",
       "      <td>remain</td>\n",
       "      <td>EMPLOYMENT</td>\n",
       "      <td>1.000000</td>\n",
       "      <td>1126</td>\n",
       "      <td>1129</td>\n",
       "      <td>0.998065</td>\n",
       "      <td>CEO</td>\n",
       "      <td>PERSON_TITLE</td>\n",
       "      <td>0.778197</td>\n",
       "    </tr>\n",
       "  </tbody>\n",
       "</table>\n",
       "<p>137 rows × 15 columns</p>\n",
       "</div>"
      ],
      "text/plain": [
       "     EventIndex  EntityIndex            Role  ScoreEvent  BeginOffsetEvent  \\\n",
       "0             0            4            DATE    0.999611               120   \n",
       "1             0            4            DATE    0.999829               662   \n",
       "2             0            4            DATE    0.992193              1237   \n",
       "3             0            4            DATE    0.998367              1403   \n",
       "4             1            4            DATE    0.999958               161   \n",
       "..          ...          ...             ...         ...               ...   \n",
       "132           1            0        INVESTOR    0.931136               221   \n",
       "133           2            6        EMPLOYEE    0.999938              1116   \n",
       "134           2            6        EMPLOYEE    0.999938              1116   \n",
       "135           2            7  EMPLOYEE_TITLE    0.999938              1116   \n",
       "136           2            7  EMPLOYEE_TITLE    0.999938              1116   \n",
       "\n",
       "     EndOffsetEvent    TextEvent              TypeEvent  GroupScoreEvent  \\\n",
       "0               126       merger       CORPORATE_MERGER         1.000000   \n",
       "1               673  partnership       CORPORATE_MERGER         0.999969   \n",
       "2              1248  transaction       CORPORATE_MERGER         0.509699   \n",
       "3              1414  transaction       CORPORATE_MERGER         0.336708   \n",
       "4               168      acquire  CORPORATE_ACQUISITION         1.000000   \n",
       "..              ...          ...                    ...              ...   \n",
       "132             232  transaction  CORPORATE_ACQUISITION         0.999985   \n",
       "133            1122       remain             EMPLOYMENT         1.000000   \n",
       "134            1122       remain             EMPLOYMENT         1.000000   \n",
       "135            1122       remain             EMPLOYMENT         1.000000   \n",
       "136            1122       remain             EMPLOYMENT         1.000000   \n",
       "\n",
       "     BeginOffsetEntity  EndOffsetEntity  ScoreEntity   TextEntity  \\\n",
       "0                   63               68     0.994578        today   \n",
       "1                   63               68     0.994578        today   \n",
       "2                   63               68     0.994578        today   \n",
       "3                   63               68     0.994578        today   \n",
       "4                   63               68     0.994578        today   \n",
       "..                 ...              ...          ...          ...   \n",
       "132                468              474     0.998912       Amazon   \n",
       "133                897              908     0.999606  John Mackey   \n",
       "134               1099             1110     0.999699  John Mackey   \n",
       "135                944              947     0.997071          CEO   \n",
       "136               1126             1129     0.998065          CEO   \n",
       "\n",
       "       TypeEntity  GroupScoreEntity  \n",
       "0            DATE          1.000000  \n",
       "1            DATE          1.000000  \n",
       "2            DATE          1.000000  \n",
       "3            DATE          1.000000  \n",
       "4            DATE          1.000000  \n",
       "..            ...               ...  \n",
       "132  ORGANIZATION          0.584697  \n",
       "133        PERSON          1.000000  \n",
       "134        PERSON          0.977111  \n",
       "135  PERSON_TITLE          1.000000  \n",
       "136  PERSON_TITLE          0.778197  \n",
       "\n",
       "[137 rows x 15 columns]"
      ]
     },
     "execution_count": 20,
     "metadata": {},
     "output_type": "execute_result"
    }
   ],
   "source": [
    "events_df"
   ]
  },
  {
   "cell_type": "markdown",
   "metadata": {
    "slideshow": {
     "slide_type": "slide"
    }
   },
   "source": [
    "### Creating a more succinct representation\n",
    "\n",
    "Because you are primarily interested in the *event structure*, make the data more transparent by creating a new table with Roles as column headers, grouped by Event."
   ]
  },
  {
   "cell_type": "code",
   "execution_count": 21,
   "metadata": {
    "slideshow": {
     "slide_type": "skip"
    }
   },
   "outputs": [],
   "source": [
    "def format_compact_events(x):\n",
    "    \"\"\"Collapse groups of mentions and triggers into a single set.\"\"\"\n",
    "    # Take the most commonly occurring EventType and the set of triggers\n",
    "    d = {\"EventType\": Counter(x['TypeEvent']).most_common()[0][0],\n",
    "         \"Triggers\": set(x['TextEvent'])}\n",
    "    # For each argument Role, collect the set of mentions in the group\n",
    "    for role in x['Role']:\n",
    "        d.update({role: set((x[x['Role']==role]['TextEntity']))})\n",
    "    return d\n",
    "\n",
    "# Group data by EventIndex and format\n",
    "event_analysis_df = pd.DataFrame(\n",
    "    events_df.groupby(\"EventIndex\").apply(format_compact_events).tolist()\n",
    ").fillna('')"
   ]
  },
  {
   "cell_type": "code",
   "execution_count": 22,
   "metadata": {
    "slideshow": {
     "slide_type": "-"
    }
   },
   "outputs": [
    {
     "data": {
      "text/html": [
       "<div>\n",
       "<style scoped>\n",
       "    .dataframe tbody tr th:only-of-type {\n",
       "        vertical-align: middle;\n",
       "    }\n",
       "\n",
       "    .dataframe tbody tr th {\n",
       "        vertical-align: top;\n",
       "    }\n",
       "\n",
       "    .dataframe thead th {\n",
       "        text-align: right;\n",
       "    }\n",
       "</style>\n",
       "<table border=\"1\" class=\"dataframe\">\n",
       "  <thead>\n",
       "    <tr style=\"text-align: right;\">\n",
       "      <th></th>\n",
       "      <th>EventType</th>\n",
       "      <th>Triggers</th>\n",
       "      <th>DATE</th>\n",
       "      <th>PARTICIPANT</th>\n",
       "      <th>INVESTEE</th>\n",
       "      <th>AMOUNT</th>\n",
       "      <th>INVESTOR</th>\n",
       "      <th>EMPLOYER</th>\n",
       "      <th>EMPLOYEE</th>\n",
       "      <th>EMPLOYEE_TITLE</th>\n",
       "    </tr>\n",
       "  </thead>\n",
       "  <tbody>\n",
       "    <tr>\n",
       "      <th>0</th>\n",
       "      <td>CORPORATE_MERGER</td>\n",
       "      <td>{merger, transaction, partnership}</td>\n",
       "      <td>{today, during the second half of 2017}</td>\n",
       "      <td>{NASDAQ:WFM, they, NASDAQ:AMZN, Whole Foods Ma...</td>\n",
       "      <td></td>\n",
       "      <td></td>\n",
       "      <td></td>\n",
       "      <td></td>\n",
       "      <td></td>\n",
       "      <td></td>\n",
       "    </tr>\n",
       "    <tr>\n",
       "      <th>1</th>\n",
       "      <td>CORPORATE_ACQUISITION</td>\n",
       "      <td>{acquire, transaction}</td>\n",
       "      <td>{today}</td>\n",
       "      <td></td>\n",
       "      <td>{they, Whole Foods Market, Whole Foods Market,...</td>\n",
       "      <td>{$42, $13.7 billion}</td>\n",
       "      <td>{Amazon}</td>\n",
       "      <td></td>\n",
       "      <td></td>\n",
       "      <td></td>\n",
       "    </tr>\n",
       "    <tr>\n",
       "      <th>2</th>\n",
       "      <td>EMPLOYMENT</td>\n",
       "      <td>{remain}</td>\n",
       "      <td></td>\n",
       "      <td></td>\n",
       "      <td></td>\n",
       "      <td></td>\n",
       "      <td></td>\n",
       "      <td>{they, Whole Foods Market, Whole Foods Market,...</td>\n",
       "      <td>{John Mackey}</td>\n",
       "      <td>{CEO}</td>\n",
       "    </tr>\n",
       "  </tbody>\n",
       "</table>\n",
       "</div>"
      ],
      "text/plain": [
       "               EventType                            Triggers  \\\n",
       "0       CORPORATE_MERGER  {merger, transaction, partnership}   \n",
       "1  CORPORATE_ACQUISITION              {acquire, transaction}   \n",
       "2             EMPLOYMENT                            {remain}   \n",
       "\n",
       "                                      DATE  \\\n",
       "0  {today, during the second half of 2017}   \n",
       "1                                  {today}   \n",
       "2                                            \n",
       "\n",
       "                                         PARTICIPANT  \\\n",
       "0  {NASDAQ:WFM, they, NASDAQ:AMZN, Whole Foods Ma...   \n",
       "1                                                      \n",
       "2                                                      \n",
       "\n",
       "                                            INVESTEE                AMOUNT  \\\n",
       "0                                                                            \n",
       "1  {they, Whole Foods Market, Whole Foods Market,...  {$42, $13.7 billion}   \n",
       "2                                                                            \n",
       "\n",
       "   INVESTOR                                           EMPLOYER       EMPLOYEE  \\\n",
       "0                                                                               \n",
       "1  {Amazon}                                                                     \n",
       "2            {they, Whole Foods Market, Whole Foods Market,...  {John Mackey}   \n",
       "\n",
       "  EMPLOYEE_TITLE  \n",
       "0                 \n",
       "1                 \n",
       "2          {CEO}  "
      ]
     },
     "execution_count": 22,
     "metadata": {},
     "output_type": "execute_result"
    }
   ],
   "source": [
    "event_analysis_df"
   ]
  },
  {
   "cell_type": "markdown",
   "metadata": {
    "slideshow": {
     "slide_type": "slide"
    }
   },
   "source": [
    "### Graphing event semantics\n",
    "\n",
    "A semantic graph often provides the most striking representation of Amazon Comprehend Events output. A semantic graph is a network of the entities and events referenced in a document or documents.\n",
    "\n",
    "The following code uses two open-source libraries, NetworkX and pyvis, to render the system output. In the resulting graph, nodes are entity mentions and triggers, while edges are the argument roles that the entities hold in relation to the triggers."
   ]
  },
  {
   "cell_type": "markdown",
   "metadata": {
    "slideshow": {
     "slide_type": "skip"
    }
   },
   "source": [
    "#### Formatting the data\n",
    "ID Comment: Should we separate the words 'network and X' within the first sentence?\n",
    "System output must first be conformed to the node (i.e., vertex) and edge list format that networkx requires. This requires iterating over triggers, entities, and argument structural relations. Note that you can use the `GroupScore` and `Score` keys on various objects to prune nodes and edges in which the model has less confidence. You can also use various strategies to pick a \"canonical\" mention from each mention group to appear in the graph. For this task, you will use the mention with the string-wise longest extent."
   ]
  },
  {
   "cell_type": "code",
   "execution_count": 23,
   "metadata": {
    "slideshow": {
     "slide_type": "skip"
    }
   },
   "outputs": [],
   "source": [
    "# Entities are associated with events by group, not individual mention\n",
    "# For simplicity, aassume the canonical mention is the longest one\n",
    "def get_canonical_mention(mentions):\n",
    "    extents = enumerate([m['Text'] for m in mentions])\n",
    "    longest_name = sorted(extents, key=lambda x: len(x[1]))\n",
    "    return [mentions[longest_name[-1][0]]]\n",
    "\n",
    "# Set a global confidence threshold\n",
    "thr = 0.5\n",
    "\n",
    "# Nodes are (id, type, tag, score, mention_type) tuples\n",
    "trigger_nodes = [\n",
    "    (\"tr%d\" % i, t['Type'], t['Text'], t['Score'], \"trigger\")\n",
    "    for i, e in enumerate(result['Events'])\n",
    "    for t in e['Triggers'][:1]\n",
    "    if t['GroupScore'] > thr\n",
    "]\n",
    "entity_nodes = [\n",
    "    (\"en%d\" % i, m['Type'], m['Text'], m['Score'], \"entity\")\n",
    "    for i, e in enumerate(result['Entities'])\n",
    "    for m in get_canonical_mention(e['Mentions'])\n",
    "    if m['GroupScore'] > thr\n",
    "]\n",
    "\n",
    "# Edges are (trigger_id, node_id, role, score) tuples\n",
    "argument_edges = [\n",
    "    (\"tr%d\" % i, \"en%d\" % a['EntityIndex'], a['Role'], a['Score'])\n",
    "    for i, e in enumerate(result['Events'])\n",
    "    for a in e['Arguments']\n",
    "    if a['Score'] > thr\n",
    "]    "
   ]
  },
  {
   "cell_type": "markdown",
   "metadata": {
    "slideshow": {
     "slide_type": "skip"
    }
   },
   "source": [
    "#### Creating a compact graph\n",
    "\n",
    "Once the nodes and edges are defined, you can create and visualize the graph."
   ]
  },
  {
   "cell_type": "code",
   "execution_count": 24,
   "metadata": {
    "slideshow": {
     "slide_type": "skip"
    }
   },
   "outputs": [],
   "source": [
    "G = nx.Graph()\n",
    "\n",
    "# Iterate over triggers and entity mentions\n",
    "for mention_id, tag, extent, score, mtype in trigger_nodes + entity_nodes:\n",
    "    label = extent if mtype.startswith(\"entity\") else tag\n",
    "    G.add_node(mention_id, label=label, size=score*10, color=color_map[tag], tag=tag, group=mtype)\n",
    "    \n",
    "# Iterate over argument role assignments\n",
    "for event_id, entity_id, role, score in argument_edges:\n",
    "    G.add_edges_from(\n",
    "        [(event_id, entity_id)],\n",
    "        label=role,\n",
    "        weight=score*100,\n",
    "        color=\"grey\"\n",
    "    )\n",
    "\n",
    "# Drop mentions that don't participate in events\n",
    "G.remove_nodes_from(list(nx.isolates(G)))"
   ]
  },
  {
   "cell_type": "code",
   "execution_count": 25,
   "metadata": {
    "slideshow": {
     "slide_type": "slide"
    }
   },
   "outputs": [
    {
     "name": "stdout",
     "output_type": "stream",
     "text": [
      "Warning: When  cdn_resources is 'local' jupyter notebook has issues displaying graphics on chrome/safari. Use cdn_resources='in_line' or cdn_resources='remote' if you have issues viewing graphics in a notebook.\n",
      "compact_nx.html\n"
     ]
    },
    {
     "data": {
      "text/html": [
       "\n",
       "        <iframe\n",
       "            width=\"800px\"\n",
       "            height=\"600px\"\n",
       "            src=\"compact_nx.html\"\n",
       "            frameborder=\"0\"\n",
       "            allowfullscreen\n",
       "            \n",
       "        ></iframe>\n",
       "        "
      ],
      "text/plain": [
       "<IPython.lib.display.IFrame at 0x7f5e6d51f790>"
      ]
     },
     "execution_count": 25,
     "metadata": {},
     "output_type": "execute_result"
    }
   ],
   "source": [
    "nt = Network(\"600px\", \"800px\", notebook=True, heading=\"\")\n",
    "nt.from_nx(G)\n",
    "nt.show(\"compact_nx.html\")"
   ]
  },
  {
   "cell_type": "markdown",
   "metadata": {},
   "source": [
    "#### Creating a more complete graph\n",
    "\n",
    "The previous graph is compact, and only relays the essential event type and argument role information. You can use a slightly more complicated set of functions to graph all of the information that the API returns."
   ]
  },
  {
   "cell_type": "code",
   "execution_count": 26,
   "metadata": {},
   "outputs": [
    {
     "name": "stdout",
     "output_type": "stream",
     "text": [
      "Warning: When  cdn_resources is 'local' jupyter notebook has issues displaying graphics on chrome/safari. Use cdn_resources='in_line' or cdn_resources='remote' if you have issues viewing graphics in a notebook.\n",
      "nx.html\n"
     ]
    },
    {
     "data": {
      "text/html": [
       "\n",
       "        <iframe\n",
       "            width=\"800\"\n",
       "            height=\"600\"\n",
       "            src=\"nx.html\"\n",
       "            frameborder=\"0\"\n",
       "            allowfullscreen\n",
       "            \n",
       "        ></iframe>\n",
       "        "
      ],
      "text/plain": [
       "<IPython.lib.display.IFrame at 0x7f5e6d52fb20>"
      ]
     },
     "metadata": {},
     "output_type": "display_data"
    }
   ],
   "source": [
    "# This function in `events_graph.py` plots a complete graph of the document\n",
    "# The graph shows all events, triggers, entities, and their groups\n",
    "\n",
    "import events_graph as evg\n",
    "\n",
    "evg.plot(result, node_types=['event', 'trigger', 'entity_group', 'entity'], thr=0.5)"
   ]
  },
  {
   "cell_type": "markdown",
   "metadata": {},
   "source": [
    "# Congratulations!\n",
    "\n",
    "You have completed this lab, and you can now end the lab by following the lab guide instructions."
   ]
  },
  {
   "cell_type": "markdown",
   "metadata": {},
   "source": [
    "*©2023 Amazon Web Services, Inc. or its affiliates. All rights reserved. This work may not be reproduced or redistributed, in whole or in part, without prior written permission from Amazon Web Services, Inc. Commercial copying, lending, or selling is prohibited. All trademarks are the property of their owners.*\n"
   ]
  }
 ],
 "metadata": {
  "instance_type": "ml.t3.medium",
  "kernelspec": {
   "display_name": "conda_python3",
   "language": "python",
   "name": "conda_python3"
  },
  "language_info": {
   "codemirror_mode": {
    "name": "ipython",
    "version": 3
   },
   "file_extension": ".py",
   "mimetype": "text/x-python",
   "name": "python",
   "nbconvert_exporter": "python",
   "pygments_lexer": "ipython3",
   "version": "3.10.12"
  },
  "toc": {
   "base_numbering": 1,
   "nav_menu": {},
   "number_sections": true,
   "sideBar": true,
   "skip_h1_title": false,
   "title_cell": "Table of Contents",
   "title_sidebar": "Contents",
   "toc_cell": false,
   "toc_position": {},
   "toc_section_display": true,
   "toc_window_display": false
  },
  "vscode": {
   "interpreter": {
    "hash": "b71a13339a0be9489ff337af97259fe0ed71e682663adc836bae31ac651d564e"
   }
  }
 },
 "nbformat": 4,
 "nbformat_minor": 4
}
