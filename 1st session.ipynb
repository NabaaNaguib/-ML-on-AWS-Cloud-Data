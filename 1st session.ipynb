{
 "cells": [
  {
   "cell_type": "code",
   "execution_count": 2,
   "metadata": {},
   "outputs": [],
   "source": [
    "import numpy as np "
   ]
  },
  {
   "cell_type": "code",
   "execution_count": 2,
   "metadata": {},
   "outputs": [
    {
     "data": {
      "text/plain": [
       "array([ 1,  2,  3,  4,  5,  6,  7,  8,  9, 10])"
      ]
     },
     "execution_count": 2,
     "metadata": {},
     "output_type": "execute_result"
    }
   ],
   "source": [
    "#creating a numpy array using a list:\n",
    "np.array([1,2,3,4,5,6,7,8,9,10])"
   ]
  },
  {
   "cell_type": "code",
   "execution_count": 3,
   "metadata": {},
   "outputs": [
    {
     "data": {
      "text/plain": [
       "array([3.14, 5.  , 7.  ])"
      ]
     },
     "execution_count": 3,
     "metadata": {},
     "output_type": "execute_result"
    }
   ],
   "source": [
    "np.array([3.14,5,7])\n",
    "#numpy has a fixed type, so if you put a float and an int, it will convert the int to a float."
   ]
  },
  {
   "cell_type": "code",
   "execution_count": 4,
   "metadata": {},
   "outputs": [
    {
     "data": {
      "text/plain": [
       "array([1., 2., 3.], dtype=float32)"
      ]
     },
     "execution_count": 4,
     "metadata": {},
     "output_type": "execute_result"
    }
   ],
   "source": [
    "#to declare in advance the type of the data in the array:\n",
    "np.array([1, 2, 3], dtype=np.float32)"
   ]
  },
  {
   "cell_type": "code",
   "execution_count": 10,
   "metadata": {},
   "outputs": [
    {
     "data": {
      "text/plain": [
       "array([[2, 3, 4],\n",
       "       [4, 5, 6],\n",
       "       [6, 7, 8]])"
      ]
     },
     "execution_count": 10,
     "metadata": {},
     "output_type": "execute_result"
    }
   ],
   "source": [
    "\n",
    "np.array([range(i,i+3) for i in [2,4,6]])\n",
    "\n"
   ]
  },
  {
   "cell_type": "code",
   "execution_count": 25,
   "metadata": {},
   "outputs": [
    {
     "name": "stdout",
     "output_type": "stream",
     "text": [
      "[0. 0. 0. 0. 0. 0. 0. 0. 0. 0.]\n",
      "__________________________________________________\n",
      "[1. 1. 1. 1. 1. 1. 1. 1. 1. 1.]\n",
      "[[1. 1. 1. 1.]\n",
      " [1. 1. 1. 1.]\n",
      " [1. 1. 1. 1.]]\n",
      "__________________________________________________\n",
      "[[3.14 3.14 3.14 3.14]\n",
      " [3.14 3.14 3.14 3.14]\n",
      " [3.14 3.14 3.14 3.14]]\n",
      "__________________________________________________\n",
      "[ 0  2  4  6  8 10 12 14 16 18]\n",
      "__________________________________________________\n",
      "[0.   0.25 0.5  0.75 1.  ]\n",
      "__________________________________________________\n",
      "[[0.43979289 0.95017105 0.45678058]\n",
      " [0.77058794 0.58939072 0.36530346]\n",
      " [0.62214671 0.53917886 0.72001789]]\n",
      "__________________________________________________\n",
      "[[-1.26554175  0.62945245 -0.77068312]\n",
      " [-1.31328019  0.78125251  0.18932967]\n",
      " [ 2.03707859 -2.10174334  0.84295685]]\n",
      "__________________________________________________\n",
      "[[6 1 7]\n",
      " [2 7 7]\n",
      " [1 9 6]]\n",
      "__________________________________________________\n"
     ]
    }
   ],
   "source": [
    "#creating 1D array of zeros:\n",
    "print(np.zeros(10 , dtype=np.float32))       #declared the zeros as floats\n",
    "print('_'*50)\n",
    "\n",
    "#we can do ones as one:\n",
    "print(np.ones(10 , dtype=float))             #declared the ones as floats as well.\n",
    "print(np.ones((3,4) , dtype=float))          #declared the ones as floats as well.\n",
    "\n",
    "print('_'*50)\n",
    "#we can fill an array with a specific value:\n",
    "print(np.full((3,4) , 3.14))                 #declared the ones as floats as well.\n",
    "print('_'*50)\n",
    "\n",
    "#we can arrange an array with a range of values:\n",
    "print(np.arange(0 , 20 , 2))                \n",
    "print('_'*50)\n",
    "\n",
    "#linspace is similar to arange but it accepts the number of elements instead of the step:\n",
    "print(np.linspace(0 , 1 , 5))                #5 numbers between 0 and 1\n",
    "print('_'*50)\n",
    "\n",
    "#random numbers:\n",
    "print(np.random.random((3,3)))               #random numbers between 0 and 1\n",
    "print('_'*50)\n",
    "print(np.random.normal(0 , 1 , (3,3)))       #random numbers with mean 0 and std 1\n",
    "print('_'*50)\n",
    "print(np.random.randint(0 , 10 , (3,3)))     #random integers between 0 and 10\n",
    "print('_'*50)"
   ]
  },
  {
   "cell_type": "code",
   "execution_count": 30,
   "metadata": {},
   "outputs": [
    {
     "name": "stdout",
     "output_type": "stream",
     "text": [
      "[[1. 0. 0.]\n",
      " [0. 1. 0.]\n",
      " [0. 0. 1.]]\n",
      "__________________________________________________\n",
      "[[1. 0. 0. 0.]\n",
      " [0. 1. 0. 0.]\n",
      " [0. 0. 1. 0.]\n",
      " [0. 0. 0. 1.]]\n",
      "__________________________________________________\n",
      "[[1. 0. 0. 0. 0.]\n",
      " [0. 1. 0. 0. 0.]\n",
      " [0. 0. 1. 0. 0.]\n",
      " [0. 0. 0. 1. 0.]\n",
      " [0. 0. 0. 0. 1.]]\n",
      "____________________________________________________________________________________________________\n",
      "[1. 1. 1.]\n",
      "[[6.23042070e-307 4.67296746e-307 1.69121096e-306 8.01092457e-307]\n",
      " [1.89146896e-307 7.56571288e-307 4.00544531e-307 1.11261095e-306]\n",
      " [3.56043054e-307 1.37961641e-306 2.22518251e-306 1.33511969e-306]\n",
      " [1.69118108e-306 8.06632139e-308 1.20160711e-306 1.69119330e-306]\n",
      " [1.29062229e-306 1.29060531e-306 1.37961302e-306 1.42410974e-306]]\n",
      "__________________________________________________\n"
     ]
    }
   ],
   "source": [
    "#identity matrix:\n",
    "print(np.eye(3))\n",
    "print('_'*50)\n",
    "print(np.eye(4))\n",
    "print('_'*50)\n",
    "print(np.eye(5))\n",
    "print('_'*100)\n",
    "\n",
    "#creating an empty array:\n",
    "print(np.empty(3))\n",
    "print(np.empty((5,4)))\n",
    "print('_'*50)"
   ]
  },
  {
   "cell_type": "code",
   "execution_count": 31,
   "metadata": {},
   "outputs": [
    {
     "data": {
      "text/plain": [
       "' Types of values in arrays\\n bool__ = Boolean (True or False) stored as a byte\\n int__ = \\n int8_ = -128 to 127\\n int16 = -32768 to 32767\\nint32 = -2147483648 to 2147483647\\nuint8 = 0 to 255\\nuint16 = 0 to 65535\\nuint32 = 0 to 4294967295\\ncomplex64 = Complex number, represented by two 32-bit floats (real and imaginary components) (5+3j)\\n\\n'"
      ]
     },
     "execution_count": 31,
     "metadata": {},
     "output_type": "execute_result"
    }
   ],
   "source": [
    "    \"\"\" Types of values in arrays:\n",
    "     bool__ = Boolean (True or False) stored as a byte\n",
    "     int__ = \n",
    "     int8_ = -128 to 127\n",
    "     int16 = -32768 to 32767\n",
    "    int32 = -2147483648 to 2147483647\n",
    "    uint8 = 0 to 255\n",
    "    uint16 = 0 to 65535\n",
    "    uint32 = 0 to 4294967295\n",
    "    complex64 = Complex number, represented by two 32-bit floats (real and imaginary components) (5+3j)\n",
    "    \n",
    "    \"\"\""
   ]
  },
  {
   "cell_type": "code",
   "execution_count": 7,
   "metadata": {},
   "outputs": [
    {
     "name": "stdout",
     "output_type": "stream",
     "text": [
      "[9 4 0 3 8 6]\n",
      "__________________________________________________\n",
      "[[3 1 3 7]\n",
      " [4 0 2 3]\n",
      " [0 0 6 9]]\n",
      "__________________________________________________\n",
      "[[[4 3 5 5 0]\n",
      "  [8 3 5 2 2]\n",
      "  [1 8 8 5 3]\n",
      "  [0 0 8 5 8]]\n",
      "\n",
      " [[5 1 6 2 3]\n",
      "  [1 2 5 6 2]\n",
      "  [5 2 7 9 3]\n",
      "  [5 6 0 2 0]]\n",
      "\n",
      " [[2 9 4 3 9]\n",
      "  [9 2 2 4 0]\n",
      "  [0 3 0 0 2]\n",
      "  [3 2 7 4 7]]]\n",
      "____________________________________________________________________________________________________\n",
      "x3 ndim:  3\n",
      "x3 shape: (3, 4, 5)\n",
      "x3 size:  60\n",
      "x3 dtype: int64\n",
      "x3 itemsize: 8 bytes\n",
      "x3 nbytes: 480 bytes\n",
      "____________________________________________________________________________________________________\n"
     ]
    }
   ],
   "source": [
    "#Numpy Attributes:\n",
    "rng = np.random.default_rng(seed=1701)  # seed for reprolicability    لما بكرة نفتح النوت بوك هيبقى نفس الارقام\n",
    "x1 = rng.integers(10, size=6)           # One-dimensional array\n",
    "x2 = rng.integers(10, size=(3, 4))      # Two-dimensional array\n",
    "x3 = rng.integers(10, size=(3, 4, 5))   # Three-dimensional array\n",
    "print(x1)\n",
    "print('_'*50)\n",
    "print(x2)\n",
    "print('_'*50)\n",
    "print(x3)\n",
    "print('_'*100)\n",
    "print(\"x3 ndim: \", x3.ndim)\n",
    "print(\"x3 shape:\", x3.shape)\n",
    "print(\"x3 size: \", x3.size)\n",
    "print(\"x3 dtype:\", x3.dtype)\n",
    "print(\"x3 itemsize:\", x3.itemsize, \"bytes\")\n",
    "print(\"x3 nbytes:\", x3.nbytes, \"bytes\")\n",
    "print('_'*100)"
   ]
  },
  {
   "cell_type": "code",
   "execution_count": 43,
   "metadata": {},
   "outputs": [
    {
     "name": "stdout",
     "output_type": "stream",
     "text": [
      "9\n",
      "8\n",
      "__________________________________________________\n",
      "3\n",
      "9\n",
      "__________________________________________________\n",
      "4\n",
      "7\n",
      "[[5 2]\n",
      " [5 6]]\n",
      "__________________________________________________\n",
      "4\n",
      "3\n"
     ]
    }
   ],
   "source": [
    "#now indexing the aarys:\n",
    "#   x1 = 9,4,0,3,8,6\n",
    "print(x1[0])\n",
    "print(x1[4])\n",
    "print('_'*50)\n",
    "#x2 = [[3 1 3 7] [4 0 2 3] [0 0 6 9]]\n",
    "print(x2[0,0])\n",
    "print(x2[2,3])\n",
    "print('_'*50)\n",
    "#x3 =[[[4 3 5 5 0]\n",
    "#  [8 3 5 2 2]\n",
    "#  [1 8 8 5 3]\n",
    "#  [0 0 8 5 8]]\n",
    "\n",
    "# [[5 1 6 2 3]\n",
    "#  [1 2 5 6 2]\n",
    "#  [5 2 7 9 3]\n",
    "#  [5 6 0 2 0]]\n",
    "\n",
    "# [[2 9 4 3 9]\n",
    "#  [9 2 2 4 0]\n",
    "#  [0 3 0 0 2]\n",
    "#  [3 2 7 4 7]]]\n",
    "\n",
    "print(x3[0,0,0])\n",
    "print(x3[2,3,4])\n",
    "print(x3[1,2:4,0:2])\n",
    "print('_'*50)\n",
    "\n",
    "#now if we assign a value to a float array, it will be truncated to integer\n",
    "print(x3[0,0,0])\n",
    "x3[0,0,0] = 3.14159\n",
    "print(x3[0,0,0])\n",
    "#this is because the data type of the array is int64, it is already declared as an integer array. we can't change it to float since we know that numpy arrays only support one data type.\n"
   ]
  },
  {
   "cell_type": "code",
   "execution_count": 45,
   "metadata": {},
   "outputs": [
    {
     "name": "stdout",
     "output_type": "stream",
     "text": [
      "[[[3 3 5 5 0]\n",
      "  [8 3 5 2 2]\n",
      "  [1 8 8 5 3]\n",
      "  [0 0 8 5 8]]\n",
      "\n",
      " [[5 1 6 2 3]\n",
      "  [1 2 5 6 2]\n",
      "  [5 2 7 9 3]\n",
      "  [5 6 0 2 0]]\n",
      "\n",
      " [[2 9 4 3 9]\n",
      "  [9 2 2 4 0]\n",
      "  [0 3 0 0 2]\n",
      "  [3 2 7 4 7]]]\n"
     ]
    }
   ],
   "source": [
    "#slicing for bigger than 1D array:\n",
    "#array[start:end:step]\n",
    "#start: inclusive\n",
    "#end: exclusive\n",
    "#step: default is 1\n",
    "#slicing for 2D array:\n",
    "#array[row_start:row_end:row_step, col_start:col_end:col_step]\n",
    "#slicing for 3D array:\n",
    "#array[depth_start:depth_end:depth_step, row_start:row_end:row_step, col_start:col_end:col_step]\n",
    "print(x3)\n"
   ]
  },
  {
   "cell_type": "code",
   "execution_count": 49,
   "metadata": {},
   "outputs": [
    {
     "name": "stdout",
     "output_type": "stream",
     "text": [
      "[[[3 3 5 5 0]\n",
      "  [8 3 5 2 2]\n",
      "  [1 8 8 5 3]\n",
      "  [0 0 8 5 8]]\n",
      "\n",
      " [[5 1 6 2 3]\n",
      "  [1 2 5 6 2]\n",
      "  [5 2 7 9 3]\n",
      "  [5 6 0 2 0]]]\n",
      "__________________________________________________\n",
      "[[[3 3 5 5 0]\n",
      "  [8 3 5 2 2]]\n",
      "\n",
      " [[5 1 6 2 3]\n",
      "  [1 2 5 6 2]]]\n",
      "__________________________________________________\n",
      "[[[3 3]\n",
      "  [8 3]]\n",
      "\n",
      " [[5 1]\n",
      "  [1 2]]]\n",
      "__________________________________________________\n"
     ]
    }
   ],
   "source": [
    "#now to slicing x3:\n",
    "print(x3[0:2])\n",
    "print('_'*50)\n",
    "print(x3[0:2, 0:2])\n",
    "print('_'*50)\n",
    "print(x3[0:2, 0:2 , 0:2])\n",
    "print('_'*50)\n"
   ]
  },
  {
   "cell_type": "code",
   "execution_count": 51,
   "metadata": {},
   "outputs": [
    {
     "name": "stdout",
     "output_type": "stream",
     "text": [
      "[100   2   3   4   5]\n",
      "[100   2   3   4   5]\n",
      "[ 6  7  8  9 10]\n",
      "[100   7   8   9  10]\n"
     ]
    }
   ],
   "source": [
    "#keep in mind that we assign an array to an old array, then adjust the new one, the old one will be changed as well\n",
    "#example:\n",
    "a = np.array([1,2,3,4,5])\n",
    "b = a\n",
    "b[0] = 100\n",
    "print(a)\n",
    "print(b)\n",
    "\n",
    "#to avoid this, we use copy() function\n",
    "a = np.array([6,7,8,9,10])\n",
    "b = a.copy()\n",
    "b[0] = 100\n",
    "print(a)\n",
    "print(b)"
   ]
  },
  {
   "cell_type": "code",
   "execution_count": 53,
   "metadata": {},
   "outputs": [
    {
     "name": "stdout",
     "output_type": "stream",
     "text": [
      "[[1 2 3]\n",
      " [4 5 6]\n",
      " [7 8 9]]\n"
     ]
    }
   ],
   "source": [
    "#reshaping arrays:\n",
    "grid = np.arange(1,10).reshape((3,3))\n",
    "print(grid)\n",
    "#this was possible because the size of the initial array was the same as the reshaped array (9 elements) and the dimensions were compatible (3x3)"
   ]
  },
  {
   "cell_type": "code",
   "execution_count": 59,
   "metadata": {},
   "outputs": [
    {
     "name": "stdout",
     "output_type": "stream",
     "text": [
      "[[9 4 0]\n",
      " [3 8 6]]\n",
      "(2, 3)\n",
      "2\n",
      "[[9 4 0]\n",
      " [3 8 6]]\n",
      "(2, 3)\n",
      "[[9 4 0]\n",
      " [3 8 6]]\n",
      "(2, 3)\n"
     ]
    }
   ],
   "source": [
    "print(x1)\n",
    "print(x1.shape)\n",
    "print(x1.ndim)\n",
    "#can we change the shape of the array?\n",
    "x1.shape = (2,3)\n",
    "print(x1)\n",
    "print(x1.shape)\n",
    "#we can also use reshape function\n",
    "x1 = x1.reshape(2,3)\n",
    "print(x1)\n",
    "print(x1.shape)"
   ]
  },
  {
   "cell_type": "code",
   "execution_count": 68,
   "metadata": {},
   "outputs": [
    {
     "name": "stdout",
     "output_type": "stream",
     "text": [
      "(3,)\n",
      "__________________________________________________\n",
      "(1, 3)\n",
      "[1 2 3]\n",
      "__________________________________________________\n",
      "(3, 1, 1)\n",
      "[1 2 3]\n"
     ]
    }
   ],
   "source": [
    "#  np.newaxis     (3,) -> (1, 3)\n",
    "x = np.array([1, 2, 3])\n",
    "print(x.shape)\n",
    "print('_'*50)\n",
    "print(x[np.newaxis, :].shape)\n",
    "print(x)\n",
    "# (3,) -> (3, 1,1)\n",
    "print('_'*50)\n",
    "print(x[:, np.newaxis, np.newaxis].shape)      #we add np.newaxis to the place where we want to add a new dimension. \n",
    "print(x)"
   ]
  },
  {
   "cell_type": "code",
   "execution_count": 71,
   "metadata": {},
   "outputs": [
    {
     "name": "stdout",
     "output_type": "stream",
     "text": [
      "[1 2 3 4 5 6 7]\n",
      "[1 2 3 4 5 6 7 4 5 6 7 1 2 3]\n"
     ]
    }
   ],
   "source": [
    "#concatination and splitting of arrays:\n",
    "x = np.array([1,2,3])\n",
    "y = np.array([4,5,6,7])\n",
    "print(np.concatenate([x,y]))\n",
    "print(np.concatenate([x,y,y,x]))    #they don't have to be of same size"
   ]
  },
  {
   "cell_type": "code",
   "execution_count": 88,
   "metadata": {},
   "outputs": [
    {
     "name": "stdout",
     "output_type": "stream",
     "text": [
      "[ 1  2  3  4  5  6  7 99 99 99]\n",
      "__________________________________________________\n",
      "[[ 1  2  3]\n",
      " [99 99 99]]\n",
      "__________________________________________________\n",
      "[1 2 3 1 2 3]\n",
      "__________________________________________________\n",
      "[[1 2 3]\n",
      " [1 2 3]]\n",
      "__________________________________________________\n",
      "[1 2 3 1 2 3]\n",
      "__________________________________________________\n",
      "[1 2 3 4 5 6 7]\n",
      "__________________________________________________\n",
      "[[ 1  2  3]\n",
      " [99 99 99]]\n"
     ]
    }
   ],
   "source": [
    "z = np.array([99,99,99])\n",
    "print(np.concatenate([x,y,z]))\n",
    "print('_'*50)\n",
    "print(np.concatenate([[x],[z]]))     #you can't concatenate x with y now because they have different shapes\n",
    "print('_'*50)\n",
    "print(np.concatenate([x,x]))\n",
    "print('_'*50)\n",
    "print(np.concatenate([[x],[x]]))\n",
    "print('_'*50)\n",
    "print(np.concatenate([x,x] , axis = 0))        #vertical stacking\n",
    "print('_'*50)\n",
    "print(np.hstack([x,y]))\n",
    "print('_'*50)\n",
    "print(np.vstack([x,z]))"
   ]
  },
  {
   "cell_type": "code",
   "execution_count": 97,
   "metadata": {},
   "outputs": [
    {
     "name": "stdout",
     "output_type": "stream",
     "text": [
      "[1 2 3]\n",
      "[99 99 99]\n",
      "[4 5 6]\n",
      "__________________________________________________\n",
      "[1 2 3]\n",
      "[99 99 99  4  5  6]\n"
     ]
    }
   ],
   "source": [
    "##### splitting ######\n",
    "x = np.array([1,2,3,99,99,99 , 4 , 5, 6])\n",
    "x1,x2,x3 = np.split(x,[3,6])      #the arguments of np.split are the array first, then a [] indicating the index of the split.\n",
    "#3 means fromt the beginning to the 3rd index, 6 means from the 6th index to the end, and the indeces in between are the 2nd split.\n",
    "print(x1)\n",
    "print(x2)\n",
    "print(x3)\n",
    "print(\"_\"*50)\n",
    "x4,x5 = np.split(x,[3])\n",
    "print(x4)\n",
    "print(x5)"
   ]
  },
  {
   "cell_type": "code",
   "execution_count": 98,
   "metadata": {},
   "outputs": [],
   "source": [
    "########################  Vectorization  ########################"
   ]
  },
  {
   "cell_type": "code",
   "execution_count": 110,
   "metadata": {},
   "outputs": [
    {
     "data": {
      "text/plain": [
       "array([0.125     , 0.14285714, 0.125     , 0.14285714, 0.16666667])"
      ]
     },
     "execution_count": 110,
     "metadata": {},
     "output_type": "execute_result"
    }
   ],
   "source": [
    "def compute_Reciprocals(values):\n",
    "    output = np.empty(len(values))\n",
    "    for i in range(len(values)):\n",
    "        if values[i] != 0:\n",
    "            output[i] = 1.0/values[i]\n",
    "    return output\n",
    "\n",
    "values = np.random.randint(1, 10, size=5)\n",
    "compute_Reciprocals(values)\n"
   ]
  },
  {
   "cell_type": "code",
   "execution_count": 111,
   "metadata": {},
   "outputs": [
    {
     "name": "stdout",
     "output_type": "stream",
     "text": [
      "6.53 s ± 25.2 ms per loop (mean ± std. dev. of 7 runs, 1 loop each)\n"
     ]
    }
   ],
   "source": [
    "big_array = rng.integers(1, 100, size=5000000)\n",
    "%timeit compute_Reciprocals(big_array)"
   ]
  },
  {
   "cell_type": "code",
   "execution_count": 112,
   "metadata": {},
   "outputs": [
    {
     "name": "stdout",
     "output_type": "stream",
     "text": [
      "9.85 ms ± 96.6 µs per loop (mean ± std. dev. of 7 runs, 100 loops each)\n"
     ]
    }
   ],
   "source": [
    "%timeit 1.0/big_array"
   ]
  },
  {
   "cell_type": "code",
   "execution_count": 113,
   "metadata": {},
   "outputs": [],
   "source": [
    "#notice the time in the loop function and the time in the universal function. \n",
    "#it is NOT recommended to use loops in numpy."
   ]
  },
  {
   "cell_type": "code",
   "execution_count": 114,
   "metadata": {},
   "outputs": [
    {
     "data": {
      "text/plain": [
       "array([-67, -40, -16, ...,  -1, -50, -42], dtype=int64)"
      ]
     },
     "execution_count": 114,
     "metadata": {},
     "output_type": "execute_result"
    }
   ],
   "source": [
    "-(big_array)    #make all the values in the array negative."
   ]
  },
  {
   "cell_type": "code",
   "execution_count": 116,
   "metadata": {},
   "outputs": [
    {
     "data": {
      "text/plain": [
       "array([69, 42, 18, ...,  3, 52, 44], dtype=int64)"
      ]
     },
     "execution_count": 116,
     "metadata": {},
     "output_type": "execute_result"
    }
   ],
   "source": [
    "big_array+2\n",
    "#with numpy you can do operations on the whole array at once\n",
    "#this can be done another way\n",
    "#np.add(big_array,2)\n",
    "#and the same for the other opearations\n",
    "#np.multiply(big_array,3)\n",
    "#np.divide(big_array,4)\n",
    "#np.subtract(big_array,5)\n",
    "#np.power(big_array,6)\n",
    "#np.mod(big_array,7)\n",
    "#np.greater(big_array,8)\n",
    "#np.less(big_array,9)\n",
    "#np.equal(big_array,10)\n",
    "#np.not_equal(big_array,11)\n",
    "#np.logical_and(big_array,12)\n",
    "#np.logical_or(big_array,13)\n",
    "\n",
    "\n",
    "\n",
    "#and so on"
   ]
  },
  {
   "cell_type": "code",
   "execution_count": 118,
   "metadata": {},
   "outputs": [
    {
     "data": {
      "text/plain": [
       "array([67, 40, 16, ...,  1, 50, 42], dtype=int64)"
      ]
     },
     "execution_count": 118,
     "metadata": {},
     "output_type": "execute_result"
    }
   ],
   "source": [
    "big_array\n",
    "#these didn't affect the array\n",
    "#so you can store these values in new arrays"
   ]
  },
  {
   "cell_type": "code",
   "execution_count": 121,
   "metadata": {},
   "outputs": [
    {
     "data": {
      "text/plain": [
       "array([-430.5625, -196.    ,  -64.    , ...,  -18.0625, -272.25  ,\n",
       "       -210.25  ])"
      ]
     },
     "execution_count": 121,
     "metadata": {},
     "output_type": "execute_result"
    }
   ],
   "source": [
    "-(0.25*big_array+4)**2"
   ]
  },
  {
   "cell_type": "code",
   "execution_count": 122,
   "metadata": {},
   "outputs": [],
   "source": [
    "#this is just an indecation that a method of vectorization does help in doing an operation to an array without actually using a loop to do it."
   ]
  },
  {
   "cell_type": "code",
   "execution_count": 130,
   "metadata": {},
   "outputs": [
    {
     "name": "stdout",
     "output_type": "stream",
     "text": [
      "[5.83095189 7.         8.         5.        ]\n",
      "__________________________________________________\n",
      "[-16.+30.j  49. +0.j  64. +0.j   7.-24.j]\n",
      "__________________________________________________\n",
      "[   5.6975073 -19.26050893j 1096.63315843 +0.j\n",
      " 2980.95798704 +0.j          -54.05175886 -7.70489137j]\n",
      "__________________________________________________\n",
      "[   4.6975073 -19.26050893j 1095.63315843 +0.j\n",
      " 2979.95798704 +0.j          -55.05175886 -7.70489137j]\n",
      "__________________________________________________\n",
      "[1.85678603+0.89605538j 2.07944154+0.j         2.19722458+0.j\n",
      " 1.76318026-0.5404195j ]\n",
      "__________________________________________________\n"
     ]
    }
   ],
   "source": [
    "c = np.array([3+5j , 7 , 8 , 4-3j])\n",
    "print(np.abs(c))\n",
    "print('_'*50)\n",
    "print(np.power(c,2))\n",
    "print('_'*50)\n",
    "print(np.exp(c))\n",
    "print('_'*50)\n",
    "print(np.expm1(c))\n",
    "print('_'*50)\n",
    "print(np.log1p(c))\n",
    "print('_'*50)"
   ]
  },
  {
   "cell_type": "code",
   "execution_count": 131,
   "metadata": {},
   "outputs": [],
   "source": [
    "x = np.arange(5)\n",
    "y = np.empty(5)\n",
    "#to multiply x by 10 and have the output stored in y, there is two ways:\n",
    "#np.multiply(x, 10, out=y)\n",
    "#y =np.multiply(x, 10)\n",
    "#the better one is the first one, because it uses less memory, so it is faster."
   ]
  },
  {
   "cell_type": "code",
   "execution_count": 139,
   "metadata": {},
   "outputs": [
    {
     "name": "stdout",
     "output_type": "stream",
     "text": [
      "[1 2 3 4 5]\n",
      "[ 2  4  6  8 10]\n",
      "15\n",
      "[ 1  3  6 10 15]\n"
     ]
    }
   ],
   "source": [
    "x = np.arange(1,6)\n",
    "print(x)\n",
    "print(np.add(x, x))      #add must know what to add to the array x\n",
    "print(np.add.reduce(x))        #knwo we are amultiplying the array x to itself and gettng the result\n",
    "print(np.add.accumulate(x))     #add the first two elements and then add the third element to the result and so on"
   ]
  },
  {
   "cell_type": "code",
   "execution_count": 144,
   "metadata": {},
   "outputs": [
    {
     "name": "stdout",
     "output_type": "stream",
     "text": [
      "[1 2 3 4 5]\n",
      "__________________________________________________\n",
      "[[ 1  2  3  4  5]\n",
      " [ 2  4  6  8 10]\n",
      " [ 3  6  9 12 15]\n",
      " [ 4  8 12 16 20]\n",
      " [ 5 10 15 20 25]]\n"
     ]
    }
   ],
   "source": [
    "print(x)\n",
    "print('_'*50)\n",
    "print(np.multiply.outer(x,x))"
   ]
  },
  {
   "cell_type": "code",
   "execution_count": 5,
   "metadata": {},
   "outputs": [
    {
     "name": "stdout",
     "output_type": "stream",
     "text": [
      "500011844.83234125\n"
     ]
    }
   ],
   "source": [
    "l = rng.random(1000000000)\n",
    "print(sum(l))"
   ]
  },
  {
   "cell_type": "code",
   "execution_count": 7,
   "metadata": {},
   "outputs": [
    {
     "name": "stdout",
     "output_type": "stream",
     "text": [
      "500011844.8317095\n"
     ]
    }
   ],
   "source": [
    "print(np.sum(l))\n",
    "\n",
    "#notice the time between this cell and the previous cell.\n",
    "#when working with arrays, use the numpy operations not the python operations."
   ]
  },
  {
   "cell_type": "code",
   "execution_count": 17,
   "metadata": {},
   "outputs": [
    {
     "data": {
      "text/plain": [
       "array([[8, 4, 2, 0],\n",
       "       [8, 4, 1, 9],\n",
       "       [5, 8, 2, 9]], dtype=int64)"
      ]
     },
     "execution_count": 17,
     "metadata": {},
     "output_type": "execute_result"
    }
   ],
   "source": [
    "m = rng.integers(0, 10, (3, 4))\n",
    "m"
   ]
  },
  {
   "cell_type": "code",
   "execution_count": 18,
   "metadata": {},
   "outputs": [
    {
     "name": "stdout",
     "output_type": "stream",
     "text": [
      "[5 4 1 0]\n",
      "[8 9 9]\n",
      "[2 0 1 0]\n",
      "[3 2 2]\n",
      "[0 2 0 1]\n",
      "[0 3 3]\n"
     ]
    }
   ],
   "source": [
    "print(m.min(axis=0))     #why 4 values? 4 columns.\n",
    "print(m.max(axis=1))     #why 3 values? 3 rows.\n",
    "print(m.argmin(axis=0))  #where is the minimum value in each column? index 0, index 1, index 2, index 3\n",
    "print(m.argmin(axis=1)) \n",
    "print(m.argmax(axis=0))  \n",
    "print(m.argmax(axis=1))  \n"
   ]
  },
  {
   "cell_type": "code",
   "execution_count": 21,
   "metadata": {},
   "outputs": [],
   "source": [
    "import pandas as pd"
   ]
  },
  {
   "cell_type": "code",
   "execution_count": 31,
   "metadata": {},
   "outputs": [
    {
     "name": "stdout",
     "output_type": "stream",
     "text": [
      "   order               name  height(cm)\n",
      "0      1  George Washington         189\n",
      "1      2         John Adams         170\n",
      "2      3   Thomas Jefferson         189\n",
      "3      4      James Madison         163\n",
      "4      5       James Monroe         183\n"
     ]
    }
   ],
   "source": [
    "df = pd.read_csv(\"D:/Studies/NTI - machine learning on cloud/Machine Learning/president_heights.csv\")\n",
    "print(df.head(5))"
   ]
  },
  {
   "cell_type": "code",
   "execution_count": 34,
   "metadata": {},
   "outputs": [
    {
     "name": "stdout",
     "output_type": "stream",
     "text": [
      "mean heights:  180.04545454545453\n",
      "max heights:  193.0\n",
      "min heights:  163.0\n",
      "std heights:  6.983599441335736\n",
      "25th percentile:  174.75\n"
     ]
    }
   ],
   "source": [
    "heights = np.array(df['height(cm)'] , np.mean(heights))\n",
    "print(\"mean heights: \", np.mean(heights))\n",
    "print(\"max heights: \", np.max(heights))\n",
    "print(\"min heights: \", np.min(heights))\n",
    "print(\"std heights: \", np.std(heights))\n",
    "\n",
    "#to get a specific value\n",
    "print(\"25th percentile: \", np.percentile(heights, 25))\n"
   ]
  },
  {
   "cell_type": "code",
   "execution_count": 38,
   "metadata": {},
   "outputs": [
    {
     "data": {
      "text/plain": [
       "(array([ 1.,  2.,  3.,  5.,  3.,  6., 13.,  3.,  5.,  3.]),\n",
       " array([163., 166., 169., 172., 175., 178., 181., 184., 187., 190., 193.]),\n",
       " <BarContainer object of 10 artists>)"
      ]
     },
     "execution_count": 38,
     "metadata": {},
     "output_type": "execute_result"
    },
    {
     "data": {
      "image/png": "[encoded data removed]",
      "text/plain": [
       "<Figure size 640x480 with 1 Axes>"
      ]
     },
     "metadata": {},
     "output_type": "display_data"
    }
   ],
   "source": [
    "import matplotlib.pyplot as plt\n",
    "plt.hist(heights, bins=10)"
   ]
  },
  {
   "cell_type": "code",
   "execution_count": 3,
   "metadata": {},
   "outputs": [],
   "source": [
    "#### on a side note to numpy: padding & Broadcasting #########\n",
    "#revise\n"
   ]
  },
  {
   "cell_type": "code",
   "execution_count": 11,
   "metadata": {},
   "outputs": [
    {
     "data": {
      "text/plain": [
       "array([[0.78077789, 0.39624012, 0.61107131, 0.88337777, 0.71256986],\n",
       "       [0.16617287, 0.5032369 , 0.66745088, 0.27990148, 0.65624575],\n",
       "       [0.03692518, 0.93462585, 0.00333904, 0.46841263, 0.87851623],\n",
       "       [0.40101132, 0.93570002, 0.19193102, 0.33948162, 0.47859496],\n",
       "       [0.47259015, 0.07456694, 0.10303532, 0.48703871, 0.20227263],\n",
       "       [0.67437482, 0.58805514, 0.49395663, 0.15924506, 0.3198452 ],\n",
       "       [0.62454874, 0.36711843, 0.40342562, 0.11560833, 0.74885004],\n",
       "       [0.43426584, 0.74545999, 0.88859736, 0.90136977, 0.15982664],\n",
       "       [0.89955679, 0.8372147 , 0.9774878 , 0.25265919, 0.91953247],\n",
       "       [0.97929422, 0.39264593, 0.94012103, 0.60939307, 0.19331949]])"
      ]
     },
     "execution_count": 11,
     "metadata": {},
     "output_type": "execute_result"
    }
   ],
   "source": [
    "a = rng.random((10, 5))\n",
    "a\n"
   ]
  },
  {
   "cell_type": "code",
   "execution_count": 15,
   "metadata": {},
   "outputs": [
    {
     "name": "stdout",
     "output_type": "stream",
     "text": [
      "[0.67680739 0.45460158 0.46436379 0.46934379 0.26790075 0.44709537\n",
      " 0.45191023 0.62590392 0.77729019 0.62295475]\n",
      "__________________________________________________\n",
      "[[ 0.1039705  -0.28056727 -0.06573608  0.20657038  0.03576247]\n",
      " [-0.2884287   0.04863532  0.2128493  -0.1747001   0.20164417]\n",
      " [-0.4274386   0.47026207 -0.46102475  0.00404884  0.41415244]\n",
      " [-0.06833247  0.46635623 -0.27741277 -0.12986217  0.00925117]\n",
      " [ 0.2046894  -0.19333381 -0.16486543  0.21913796 -0.06562812]\n",
      " [ 0.22727945  0.14095977  0.04686126 -0.28785031 -0.12725017]\n",
      " [ 0.17263851 -0.0847918  -0.04848461 -0.3363019   0.29693981]\n",
      " [-0.19163808  0.11955607  0.26269343  0.27546585 -0.46607728]\n",
      " [ 0.1222666   0.05992451  0.20019761 -0.52463101  0.14224228]\n",
      " [ 0.35633947 -0.23030882  0.31716628 -0.01356168 -0.42963525]]\n"
     ]
    }
   ],
   "source": [
    "\n",
    "#to create a program that subtracts the mean of each row of the matrix from each element of the row\n",
    "mean = a.mean(axis=1)\n",
    "print(mean)\n",
    "print(\"_\"*50)\n",
    "print(a - mean.reshape(-1, 1))             #reshape(-1, 1) is used to convert the 1D array to 2D array, where -1 is the number of rows and 1 is the number of columns."
   ]
  },
  {
   "cell_type": "code",
   "execution_count": 22,
   "metadata": {},
   "outputs": [
    {
     "name": "stdout",
     "output_type": "stream",
     "text": [
      "[[ 0.23382611 -0.18124628  0.08302971  0.43372901  0.18561253]\n",
      " [-0.38077891 -0.0742495   0.13940928 -0.16974728  0.12928842]\n",
      " [-0.5100266   0.35713945 -0.52470256  0.01876386  0.3515589 ]\n",
      " [-0.14594046  0.35821362 -0.33611058 -0.11016714 -0.04836237]\n",
      " [-0.07436163 -0.50291946 -0.42500628  0.03738995 -0.3246847 ]\n",
      " [ 0.12742304  0.01056873 -0.03408497 -0.2904037  -0.20711213]\n",
      " [ 0.07759695 -0.21036797 -0.12461598 -0.33404044  0.22189272]\n",
      " [-0.11268594  0.16797359  0.36055576  0.45172101 -0.36713068]\n",
      " [ 0.35260501  0.2597283   0.4494462  -0.19698958  0.39257515]\n",
      " [ 0.43234243 -0.18484047  0.41207943  0.1597443  -0.33363784]]\n",
      "____________________________________________________________________________________________________\n",
      "[[ 0.25496072 -0.12957705  0.08525414  0.3575606   0.18675268]\n",
      " [-0.3596443  -0.02258028  0.1416337  -0.24591569  0.13042858]\n",
      " [-0.48889199  0.40880868 -0.52247813 -0.05740455  0.35269905]\n",
      " [-0.12480585  0.40988285 -0.33388615 -0.18633555 -0.04722222]\n",
      " [-0.05322702 -0.45125023 -0.42278186 -0.03877846 -0.32354455]\n",
      " [ 0.14855765  0.06223796 -0.03186055 -0.36657212 -0.20597197]\n",
      " [ 0.09873156 -0.15869875 -0.12239156 -0.41020885  0.22303287]\n",
      " [-0.09155133  0.21964282  0.36278018  0.3755526  -0.36599053]\n",
      " [ 0.37373962  0.31139753  0.45167063 -0.27315799  0.3937153 ]\n",
      " [ 0.45347704 -0.13317125  0.41430385  0.08357589 -0.33249768]]\n",
      "____________________________________________________________________________________________________\n",
      "[[ 0.23382611 -0.18124628  0.08302971  0.43372901  0.18561253]\n",
      " [-0.38077891 -0.0742495   0.13940928 -0.16974728  0.12928842]\n",
      " [-0.5100266   0.35713945 -0.52470256  0.01876386  0.3515589 ]\n",
      " [-0.14594046  0.35821362 -0.33611058 -0.11016714 -0.04836237]\n",
      " [-0.07436163 -0.50291946 -0.42500628  0.03738995 -0.3246847 ]\n",
      " [ 0.12742304  0.01056873 -0.03408497 -0.2904037  -0.20711213]\n",
      " [ 0.07759695 -0.21036797 -0.12461598 -0.33404044  0.22189272]\n",
      " [-0.11268594  0.16797359  0.36055576  0.45172101 -0.36713068]\n",
      " [ 0.35260501  0.2597283   0.4494462  -0.19698958  0.39257515]\n",
      " [ 0.43234243 -0.18484047  0.41207943  0.1597443  -0.33363784]]\n"
     ]
    }
   ],
   "source": [
    "#now for the axis=0:\n",
    "print(a-a.mean(axis=0))\n",
    "print(\"_\"*100)\n",
    "print(a-a.mean())\n",
    "print(\"_\"*100)\n",
    "print(a - np.mean(a, axis=0))"
   ]
  },
  {
   "cell_type": "code",
   "execution_count": 3,
   "metadata": {},
   "outputs": [],
   "source": [
    "from vega_datasets import data\n",
    "import numpy as np\n",
    "import matplotlib.pyplot as plt"
   ]
  },
  {
   "cell_type": "code",
   "execution_count": 4,
   "metadata": {},
   "outputs": [
    {
     "name": "stdout",
     "output_type": "stream",
     "text": [
      "[ 0.   1.5  0.  10.2  8.1  0.   0.   0.   0.3  5.8  1.5  0.   0.   0.\n",
      "  9.7  0.  26.2 21.3  0.5  0.   0.   0.8  5.8  0.5  0.   0.   0.8  0.\n",
      "  0.   0.   0.   1.5  7.4  1.3  8.4 26.2 17.3 23.6  3.6  6.1  0.3  0.\n",
      "  1.   0.   0.3  0.   0.   0.   0.   4.6  0.8  0.   0.   0.   0.   4.1\n",
      "  9.4 18.3  0.   0.   0.   0.   0.   0.   0.   0.   0.   0.   0.8  2.5\n",
      "  0.   2.  17.  55.9  1.   0.8  0.   0.   4.1  3.8  1.   8.1  7.6  5.1\n",
      "  0.   1.   0.   0.   1.8  1.   5.1  0.   1.5  0.   0.   1.   0.5  0.\n",
      "  0.  10.9  0.   0.  14.   3.3  0.   0.   0.   0.   0.   0.   5.6  0.\n",
      "  3.   3.3  1.3  0.   0.3  1.8  0.   0.   0.   0.   0.   0.   6.1  0.\n",
      "  0.   0.   0.   0.   0.   4.3  4.1  0.3  0.   0.   0.   0.   0.   0.\n",
      "  0.   0.   0.   0.   0.   0.   0.   0.   0.   0.   0.   4.6  0.5  0.\n",
      "  0.   0.   0.   0.   0.   0.   0.   0.   0.   0.   0.   0.   0.   0.\n",
      "  0.   0.5  0.   0.   0.   0.   0.   0.   0.   0.   0.3  0.   0.   0.\n",
      "  0.   0.   0.   0.   0.   0.   0.   0.   0.   0.   0.   0.   0.   0.\n",
      "  0.   0.   0.   0.   0.   0.   0.   0.   0.3  0.   2.   0.   0.   0.\n",
      "  0.   0.   0.   0.   0.   0.   0.   0.   0.   0.   0.   0.   0.   7.6\n",
      "  0.  30.5  0.   0.   0.   0.   0.   2.   0.   0.   0.   0.   0.   0.\n",
      "  0.   0.5 32.5 10.2  0.   5.8  0.   0.   0.   0.3  5.3  0.3  0.   0.\n",
      "  0.   0.   0.   0.5  0.   0.   1.   1.8  0.   0.   4.1  0.   0.   0.\n",
      "  0.   2.   0.   0.   0.   0.   0.   0.   0.   0.   0.   0.   0.   9.9\n",
      "  0.   0.3 28.7  0.   4.6  1.3  0.   0.   0.   0.3  3.8  0.3  0.   0.\n",
      "  0.   0.   0.   8.9  6.9  0.   3.3  1.8 19.3 33.  26.2  0.3  0.8  0.\n",
      "  1.3  0.  12.7  6.6  3.3  1.3  1.5  9.9 33.5 47.2 22.4  2.  29.5  1.5\n",
      "  2.   0.   0.   0.   3.   7.1  0.   0.   0.   0.   0.   0.5 12.2  2.5\n",
      " 12.7  2.  15.7 11.2 27.4 54.1 13.5  9.4  0.3 16.   1.3  0.   1.5  3.6\n",
      " 21.8 18.5  0.   4.3 27.4  4.6  6.1  2.5  5.8  0.   8.6  1.5  0.   0.\n",
      "  0. ]\n",
      "____________________________________________________________________________________________________\n",
      "365\n"
     ]
    }
   ],
   "source": [
    "rainfall_mm = np.array(data.seattle_weather().set_index('date')['precipitation']['2015'])\n",
    "#the rainfall in Seattle in 2015 in millimeters per day\n",
    "print(rainfall_mm)\n",
    "print(\"_\"*100)\n",
    "print(len(rainfall_mm))"
   ]
  },
  {
   "cell_type": "code",
   "execution_count": 5,
   "metadata": {},
   "outputs": [
    {
     "data": {
      "text/plain": [
       "(array([284.,  23.,  16.,  11.,   5.,   3.,   5.,   2.,   2.,   5.,   3.,\n",
       "          3.,   0.,   0.,   0.,   0.,   1.,   0.,   0.,   2.]),\n",
       " array([ 0.   ,  2.795,  5.59 ,  8.385, 11.18 , 13.975, 16.77 , 19.565,\n",
       "        22.36 , 25.155, 27.95 , 30.745, 33.54 , 36.335, 39.13 , 41.925,\n",
       "        44.72 , 47.515, 50.31 , 53.105, 55.9  ]),\n",
       " <BarContainer object of 20 artists>)"
      ]
     },
     "execution_count": 5,
     "metadata": {},
     "output_type": "execute_result"
    },
    {
     "data": {
      "image/png": "[encoded data removed]",
      "text/plain": [
       "<Figure size 640x480 with 1 Axes>"
      ]
     },
     "metadata": {},
     "output_type": "display_data"
    }
   ],
   "source": [
    "import matplotlib.pyplot as plt\n",
    "plt.hist(rainfall_mm, bins=20)"
   ]
  },
  {
   "cell_type": "code",
   "execution_count": 32,
   "metadata": {},
   "outputs": [
    {
     "name": "stdout",
     "output_type": "stream",
     "text": [
      "[ 1.5 10.2  8.1  0.3  5.8  1.5  9.7 26.2 21.3  0.5  0.8  5.8  0.5  0.8\n",
      "  1.5  7.4  1.3  8.4 26.2 17.3 23.6  3.6  6.1  0.3  1.   0.3  4.6  0.8\n",
      "  4.1  9.4 18.3  0.8  2.5  2.  17.  55.9  1.   0.8  4.1  3.8  1.   8.1\n",
      "  7.6  5.1  1.   1.8  1.   5.1  1.5  1.   0.5 10.9 14.   3.3  5.6  3.\n",
      "  3.3  1.3  0.3  1.8  6.1  4.3  4.1  0.3  4.6  0.5  0.5  0.3  0.3  2.\n",
      "  7.6 30.5  2.   0.5 32.5 10.2  5.8  0.3  5.3  0.3  0.5  1.   1.8  4.1\n",
      "  2.   9.9  0.3 28.7  4.6  1.3  0.3  3.8  0.3  8.9  6.9  3.3  1.8 19.3\n",
      " 33.  26.2  0.3  0.8  1.3 12.7  6.6  3.3  1.3  1.5  9.9 33.5 47.2 22.4\n",
      "  2.  29.5  1.5  2.   3.   7.1  0.5 12.2  2.5 12.7  2.  15.7 11.2 27.4\n",
      " 54.1 13.5  9.4  0.3 16.   1.3  1.5  3.6 21.8 18.5  4.3 27.4  4.6  6.1\n",
      "  2.5  5.8  8.6  1.5]\n",
      "____________________________________________________________________________________________________\n",
      "[10.2 17.3 18.3 17.  10.9 14.  10.2 19.3 12.7 12.2 12.7 15.7 11.2 13.5\n",
      " 16.  18.5]\n",
      "16\n",
      "229.7\n",
      "____________________________________________________________________________________________________\n",
      "909.5\n",
      "349\n"
     ]
    }
   ],
   "source": [
    "print(rainfall_mm[rainfall_mm > 0.0])\n",
    "print(\"_\"*100)\n",
    "\n",
    "#no. of days rainfalll bigger than 10 and less than 20\n",
    "print(rainfall_mm[(rainfall_mm > 10.0) & (rainfall_mm < 20.0)])\n",
    "print(np.sum((rainfall_mm > 10.0) & (rainfall_mm < 20.0)))                      #this sums the number of true values\n",
    "print(np.sum(rainfall_mm[(rainfall_mm > 10.0) & (rainfall_mm < 20.0)]))         #this sums the values of the true values\n",
    "print(\"_\"*100)\n",
    "#to sum the false no. of days\n",
    "print(np.sum((rainfall_mm[~((rainfall_mm > 10.0) & (rainfall_mm < 20.0))])))     #this sums the false values\n",
    "print(np.sum((~((rainfall_mm > 10.0) & (rainfall_mm < 20.0)))))                   #this sums the false values"
   ]
  },
  {
   "cell_type": "code",
   "execution_count": 58,
   "metadata": {},
   "outputs": [
    {
     "name": "stdout",
     "output_type": "stream",
     "text": [
      "3.8\n",
      "0.0\n"
     ]
    },
    {
     "data": {
      "text/plain": [
       "4.1"
      ]
     },
     "execution_count": 58,
     "metadata": {},
     "output_type": "execute_result"
    }
   ],
   "source": [
    "#get median of the values of the days it fell rain\n",
    "print(np.median(rainfall_mm[rainfall_mm > 0.0]))\n",
    "\n",
    "#median in summer days: (June, July, August)(173 days to 262 days):\n",
    "print(np.median(rainfall_mm[173:262]))\n",
    "\n",
    "#median of non summer rainy days (from day 1 to 173 and from 262 to 365):\n",
    "np.median(np.concatenate([rainfall_mm[0:173][rainfall_mm[0:173]>0] , rainfall_mm[262:][rainfall_mm[262:]>0]]))\n",
    "\n",
    "#median of rainy days that are not in summer:\n"
   ]
  },
  {
   "cell_type": "code",
   "execution_count": null,
   "metadata": {},
   "outputs": [],
   "source": []
  }
 ],
 "metadata": {
  "kernelspec": {
   "display_name": "Python 3",
   "language": "python",
   "name": "python3"
  },
  "language_info": {
   "codemirror_mode": {
    "name": "ipython",
    "version": 3
   },
   "file_extension": ".py",
   "mimetype": "text/x-python",
   "name": "python",
   "nbconvert_exporter": "python",
   "pygments_lexer": "ipython3",
   "version": "3.9.9"
  },
  "orig_nbformat": 4
 },
 "nbformat": 4,
 "nbformat_minor": 2
}
