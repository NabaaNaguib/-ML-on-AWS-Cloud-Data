{
 "cells": [
  {
   "cell_type": "code",
   "execution_count": 1,
   "metadata": {},
   "outputs": [],
   "source": [
    "#DL Project: calssification Task.\n",
    "#in vanilla NN: input layer should be flattened to 1D array.\n",
    "#we will be working with a fully connected layers.\n",
    "#we will be using the MNIST dataset. (get it from keras.datasets).\n",
    "#almost al hidden layers in general use the same activation function. (relu).\n",
    "#for classification tasks (softmanx) is used in the output layer.\n",
    "#the output layer is laso a dense layer same as the hidden layers but with a different activation function.\n",
    "#the output layer's neurons number depends on the task itself."
   ]
  },
  {
   "cell_type": "code",
   "execution_count": 2,
   "metadata": {},
   "outputs": [],
   "source": [
    "import tensorflow as tf\n",
    "from tensorflow import keras\n",
    "import numpy as np\n",
    "import matplotlib.pyplot as plt\n",
    "import pandas as pd"
   ]
  },
  {
   "cell_type": "code",
   "execution_count": 3,
   "metadata": {},
   "outputs": [],
   "source": [
    "fashion_mnist = keras.datasets.fashion_mnist                                              #laoding the dataset (fasion_mnist)\n",
    "(x_train_full , y_train_full) , (x_test , y_test) = fashion_mnist.load_data()"
   ]
  },
  {
   "cell_type": "code",
   "execution_count": 4,
   "metadata": {},
   "outputs": [
    {
     "data": {
      "text/plain": [
       "(60000, 28, 28)"
      ]
     },
     "execution_count": 4,
     "metadata": {},
     "output_type": "execute_result"
    }
   ],
   "source": [
    "x_train_full.shape   #shape of the training set"
   ]
  },
  {
   "cell_type": "code",
   "execution_count": 5,
   "metadata": {},
   "outputs": [
    {
     "data": {
      "text/plain": [
       "(10000, 28, 28)"
      ]
     },
     "execution_count": 5,
     "metadata": {},
     "output_type": "execute_result"
    }
   ],
   "source": [
    "x_test.shape         #shape of x_test"
   ]
  },
  {
   "cell_type": "code",
   "execution_count": 6,
   "metadata": {},
   "outputs": [],
   "source": [
    "#to split the dataset into training set, validation set & test set:\n",
    "\n",
    "x_valid , x_train = x_train_full[50000:]/255. , x_train_full[:50000]/255.\n",
    "y_valid , y_train = y_train_full[50000:] , y_train_full[:50000]\n",
    "x_test = x_test/255."
   ]
  },
  {
   "cell_type": "code",
   "execution_count": 7,
   "metadata": {},
   "outputs": [
    {
     "data": {
      "text/plain": [
       "dtype('uint8')"
      ]
     },
     "execution_count": 7,
     "metadata": {},
     "output_type": "execute_result"
    }
   ],
   "source": [
    "x_train_full.dtype                       #to make sure that the pixel values is from 0 to 255"
   ]
  },
  {
   "cell_type": "code",
   "execution_count": 8,
   "metadata": {},
   "outputs": [
    {
     "data": {
      "text/plain": [
       "(10000, 28, 28)"
      ]
     },
     "execution_count": 8,
     "metadata": {},
     "output_type": "execute_result"
    }
   ],
   "source": [
    "\n",
    "x_valid.shape\n"
   ]
  },
  {
   "cell_type": "code",
   "execution_count": 9,
   "metadata": {},
   "outputs": [
    {
     "data": {
      "image/png": "[encoded data removed]",
      "text/plain": [
       "<Figure size 640x480 with 1 Axes>"
      ]
     },
     "metadata": {},
     "output_type": "display_data"
    }
   ],
   "source": [
    "plt.imshow(x_train[0], cmap='gray')\n",
    "plt.axis\n",
    "plt.show()"
   ]
  },
  {
   "cell_type": "code",
   "execution_count": 10,
   "metadata": {},
   "outputs": [
    {
     "data": {
      "image/png": "[encoded data removed]",
      "text/plain": [
       "<Figure size 640x480 with 1 Axes>"
      ]
     },
     "metadata": {},
     "output_type": "display_data"
    }
   ],
   "source": [
    "plt.imshow(x_train[50], cmap='RdPu')       #cmap argument can be: (Greys, Purples, Blues, Greens, Oranges, Reds, YlOrBr, YlOrRd, OrRd, PuRd, RdPu, BuPu, GnBu, PuBu, YlGnBu, PuBuGn, BuGn, YlGn, binary, gist_yarg, gist_gray, gray, bone, pink, spring, summer, autumn, winter, cool, Wistia, hot, afmhot, gist_heat, copper)\n",
    "plt.axis\n",
    "plt.show()"
   ]
  },
  {
   "cell_type": "code",
   "execution_count": 11,
   "metadata": {},
   "outputs": [
    {
     "data": {
      "text/plain": [
       "array([9, 2, 1, ..., 8, 1, 5], dtype=uint8)"
      ]
     },
     "execution_count": 11,
     "metadata": {},
     "output_type": "execute_result"
    }
   ],
   "source": [
    "y_test"
   ]
  },
  {
   "cell_type": "code",
   "execution_count": 12,
   "metadata": {},
   "outputs": [],
   "source": [
    "#labels of the data set:\n",
    "# 0 - T-shirt/top\n",
    "# 1 - Trouser\n",
    "# 2 - Pullover\n",
    "# 3 - Dress\n",
    "# 4 - Coat\n",
    "# 5 - Sandal\n",
    "# 6 - Shirt\n",
    "# 7 - Sneaker\n",
    "# 8 - Bag\n",
    "# 9 - Ankle boot\n"
   ]
  },
  {
   "cell_type": "code",
   "execution_count": 13,
   "metadata": {},
   "outputs": [],
   "source": [
    "class_names = ['T-shirt/top', 'Trouser', 'Pullover', 'Dress', 'Coat', 'Sandal','Shirt', 'Sneaker', 'Bag', 'Ankle boot']"
   ]
  },
  {
   "cell_type": "code",
   "execution_count": 14,
   "metadata": {},
   "outputs": [
    {
     "data": {
      "text/plain": [
       "'Dress'"
      ]
     },
     "execution_count": 14,
     "metadata": {},
     "output_type": "execute_result"
    }
   ],
   "source": [
    "class_names[y_train[50]]"
   ]
  },
  {
   "cell_type": "code",
   "execution_count": 15,
   "metadata": {},
   "outputs": [],
   "source": [
    "#creating our NN layers:\n",
    "\n",
    "model = keras.models.Sequential()\n",
    "model.add(keras.layers.Flatten(input_shape=[28,28]))      #input layer\n",
    "model.add(keras.layers.Dense(300, activation=\"relu\", name='FirstDense'))     #hidden layer1           #300: number of neurons,  Dense: fully connected layer , activation: activation function\n",
    "model.add(keras.layers.Dense(100, activation=\"relu\" , name='SecondDense'))     #hidden layer2         #naming the layers is of course optional.\n",
    "model.add(keras.layers.Dense(10, activation=\"softmax\"))    #output layer\n",
    "#______________________________________________________________________________________________________________________________\n",
    "#this could have been written as:\n",
    "#model = keras.models.Sequential([keras.layers.Flatten(input_shape=[28,28]), keras.layers.Dense(300, activation=\"relu\"), keras.layers.Dense(100, activation=\"relu\"), keras.layers.Dense(10, activation=\"softmax\")])\n",
    "#but the first way is more readable."
   ]
  },
  {
   "cell_type": "code",
   "execution_count": 16,
   "metadata": {},
   "outputs": [
    {
     "data": {
      "text/plain": [
       "[<keras.src.layers.reshaping.flatten.Flatten at 0x171ddd6caf0>,\n",
       " <keras.src.layers.core.dense.Dense at 0x171ddd79100>,\n",
       " <keras.src.layers.core.dense.Dense at 0x171ddd5e850>,\n",
       " <keras.src.layers.core.dense.Dense at 0x171ddd799a0>]"
      ]
     },
     "execution_count": 16,
     "metadata": {},
     "output_type": "execute_result"
    }
   ],
   "source": [
    "model.layers"
   ]
  },
  {
   "cell_type": "code",
   "execution_count": 17,
   "metadata": {},
   "outputs": [],
   "source": [
    "#number of weight and bias for the 1st hidden layer is (300*28*28)Weights + (300)bias = 235500\n",
    "#number of weights and bias for the 2nd hidden layer is (100*300)Weights + (100)bias = 30100\n",
    "#number of weights and bias for the 3rd hidden layer is (10*100)Weights + (10)bias = 1010\n",
    "#total number of weights and bias is 235500+30100+1010 = 266610\n",
    "#to know them directly: model.summary()"
   ]
  },
  {
   "cell_type": "code",
   "execution_count": 18,
   "metadata": {},
   "outputs": [
    {
     "name": "stdout",
     "output_type": "stream",
     "text": [
      "Model: \"sequential\"\n",
      "_________________________________________________________________\n",
      " Layer (type)                Output Shape              Param #   \n",
      "=================================================================\n",
      " flatten (Flatten)           (None, 784)               0         \n",
      "                                                                 \n",
      " FirstDense (Dense)          (None, 300)               235500    \n",
      "                                                                 \n",
      " SecondDense (Dense)         (None, 100)               30100     \n",
      "                                                                 \n",
      " dense (Dense)               (None, 10)                1010      \n",
      "                                                                 \n",
      "=================================================================\n",
      "Total params: 266610 (1.02 MB)\n",
      "Trainable params: 266610 (1.02 MB)\n",
      "Non-trainable params: 0 (0.00 Byte)\n",
      "_________________________________________________________________\n"
     ]
    }
   ],
   "source": [
    "model.summary()"
   ]
  },
  {
   "cell_type": "code",
   "execution_count": 27,
   "metadata": {},
   "outputs": [
    {
     "name": "stdout",
     "output_type": "stream",
     "text": [
      "You must install pydot (`pip install pydot`) and install graphviz (see instructions at https://graphviz.gitlab.io/download/) for plot_model to work.\n"
     ]
    }
   ],
   "source": [
    "keras.utils.plot_model(model, \"fashion_mnist.png\" ,show_shapes=True)"
   ]
  },
  {
   "cell_type": "code",
   "execution_count": 20,
   "metadata": {},
   "outputs": [
    {
     "name": "stdout",
     "output_type": "stream",
     "text": [
      "(784, 300)\n",
      "(300,)\n"
     ]
    }
   ],
   "source": [
    "hidden1 = model.layers[1]\n",
    "weights1, biases1 = hidden1.get_weights()\n",
    "print(weights1.shape)\n",
    "print(biases1.shape)"
   ]
  },
  {
   "cell_type": "code",
   "execution_count": 21,
   "metadata": {},
   "outputs": [],
   "source": [
    "model.compile(loss='sparse_categorical_crossentropy', optimizer='sgd', metrics=['accuracy'])   #this is to compile the model (loss function, optimizer, metrics)"
   ]
  },
  {
   "cell_type": "code",
   "execution_count": 22,
   "metadata": {},
   "outputs": [
    {
     "name": "stdout",
     "output_type": "stream",
     "text": [
      "Epoch 1/50\n",
      "1563/1563 [==============================] - 5s 3ms/step - loss: 0.7513 - accuracy: 0.7514 - val_loss: 0.5373 - val_accuracy: 0.8128\n",
      "Epoch 2/50\n",
      "1563/1563 [==============================] - 3s 2ms/step - loss: 0.4986 - accuracy: 0.8267 - val_loss: 0.4844 - val_accuracy: 0.8302\n",
      "Epoch 3/50\n",
      "1563/1563 [==============================] - 3s 2ms/step - loss: 0.4492 - accuracy: 0.8428 - val_loss: 0.5031 - val_accuracy: 0.8197\n",
      "Epoch 4/50\n",
      "1563/1563 [==============================] - 3s 2ms/step - loss: 0.4221 - accuracy: 0.8518 - val_loss: 0.4309 - val_accuracy: 0.8482\n",
      "Epoch 5/50\n",
      "1563/1563 [==============================] - 3s 2ms/step - loss: 0.4003 - accuracy: 0.8599 - val_loss: 0.4551 - val_accuracy: 0.8417\n",
      "Epoch 6/50\n",
      "1563/1563 [==============================] - 3s 2ms/step - loss: 0.3844 - accuracy: 0.8650 - val_loss: 0.3943 - val_accuracy: 0.8600\n",
      "Epoch 7/50\n",
      "1563/1563 [==============================] - 3s 2ms/step - loss: 0.3707 - accuracy: 0.8697 - val_loss: 0.3904 - val_accuracy: 0.8636\n",
      "Epoch 8/50\n",
      "1563/1563 [==============================] - 3s 2ms/step - loss: 0.3586 - accuracy: 0.8729 - val_loss: 0.3939 - val_accuracy: 0.8631\n",
      "Epoch 9/50\n",
      "1563/1563 [==============================] - 3s 2ms/step - loss: 0.3479 - accuracy: 0.8762 - val_loss: 0.3863 - val_accuracy: 0.8654\n",
      "Epoch 10/50\n",
      "1563/1563 [==============================] - 3s 2ms/step - loss: 0.3391 - accuracy: 0.8789 - val_loss: 0.3994 - val_accuracy: 0.8547\n",
      "Epoch 11/50\n",
      "1563/1563 [==============================] - 3s 2ms/step - loss: 0.3304 - accuracy: 0.8812 - val_loss: 0.3559 - val_accuracy: 0.8737\n",
      "Epoch 12/50\n",
      "1563/1563 [==============================] - 3s 2ms/step - loss: 0.3219 - accuracy: 0.8839 - val_loss: 0.3877 - val_accuracy: 0.8622\n",
      "Epoch 13/50\n",
      "1563/1563 [==============================] - 3s 2ms/step - loss: 0.3154 - accuracy: 0.8866 - val_loss: 0.3577 - val_accuracy: 0.8721\n",
      "Epoch 14/50\n",
      "1563/1563 [==============================] - 3s 2ms/step - loss: 0.3074 - accuracy: 0.8897 - val_loss: 0.3418 - val_accuracy: 0.8792\n",
      "Epoch 15/50\n",
      "1563/1563 [==============================] - 3s 2ms/step - loss: 0.3008 - accuracy: 0.8925 - val_loss: 0.3463 - val_accuracy: 0.8768\n",
      "Epoch 16/50\n",
      "1563/1563 [==============================] - 3s 2ms/step - loss: 0.2948 - accuracy: 0.8933 - val_loss: 0.3404 - val_accuracy: 0.8783\n",
      "Epoch 17/50\n",
      "1563/1563 [==============================] - 3s 2ms/step - loss: 0.2888 - accuracy: 0.8959 - val_loss: 0.3397 - val_accuracy: 0.8785\n",
      "Epoch 18/50\n",
      "1563/1563 [==============================] - 3s 2ms/step - loss: 0.2834 - accuracy: 0.8973 - val_loss: 0.3329 - val_accuracy: 0.8805\n",
      "Epoch 19/50\n",
      "1563/1563 [==============================] - 3s 2ms/step - loss: 0.2773 - accuracy: 0.8998 - val_loss: 0.3289 - val_accuracy: 0.8800\n",
      "Epoch 20/50\n",
      "1563/1563 [==============================] - 3s 2ms/step - loss: 0.2723 - accuracy: 0.9019 - val_loss: 0.3430 - val_accuracy: 0.8771\n",
      "Epoch 21/50\n",
      "1563/1563 [==============================] - 3s 2ms/step - loss: 0.2689 - accuracy: 0.9042 - val_loss: 0.3502 - val_accuracy: 0.8719\n",
      "Epoch 22/50\n",
      "1563/1563 [==============================] - 3s 2ms/step - loss: 0.2624 - accuracy: 0.9055 - val_loss: 0.3209 - val_accuracy: 0.8848\n",
      "Epoch 23/50\n",
      "1563/1563 [==============================] - 3s 2ms/step - loss: 0.2579 - accuracy: 0.9070 - val_loss: 0.3140 - val_accuracy: 0.8868\n",
      "Epoch 24/50\n",
      "1563/1563 [==============================] - 3s 2ms/step - loss: 0.2541 - accuracy: 0.9090 - val_loss: 0.3250 - val_accuracy: 0.8839\n",
      "Epoch 25/50\n",
      "1563/1563 [==============================] - 3s 2ms/step - loss: 0.2493 - accuracy: 0.9100 - val_loss: 0.3237 - val_accuracy: 0.8827\n",
      "Epoch 26/50\n",
      "1563/1563 [==============================] - 3s 2ms/step - loss: 0.2447 - accuracy: 0.9123 - val_loss: 0.3263 - val_accuracy: 0.8821\n",
      "Epoch 27/50\n",
      "1563/1563 [==============================] - 3s 2ms/step - loss: 0.2418 - accuracy: 0.9140 - val_loss: 0.3288 - val_accuracy: 0.8835\n",
      "Epoch 28/50\n",
      "1563/1563 [==============================] - 3s 2ms/step - loss: 0.2367 - accuracy: 0.9152 - val_loss: 0.3278 - val_accuracy: 0.8840\n",
      "Epoch 29/50\n",
      "1563/1563 [==============================] - 3s 2ms/step - loss: 0.2332 - accuracy: 0.9163 - val_loss: 0.3271 - val_accuracy: 0.8819\n",
      "Epoch 30/50\n",
      "1563/1563 [==============================] - 3s 2ms/step - loss: 0.2293 - accuracy: 0.9182 - val_loss: 0.3255 - val_accuracy: 0.8845\n",
      "Epoch 31/50\n",
      "1563/1563 [==============================] - 3s 2ms/step - loss: 0.2248 - accuracy: 0.9200 - val_loss: 0.3241 - val_accuracy: 0.8846\n",
      "Epoch 32/50\n",
      "1563/1563 [==============================] - 3s 2ms/step - loss: 0.2215 - accuracy: 0.9208 - val_loss: 0.3184 - val_accuracy: 0.8880\n",
      "Epoch 33/50\n",
      "1563/1563 [==============================] - 3s 2ms/step - loss: 0.2187 - accuracy: 0.9221 - val_loss: 0.3185 - val_accuracy: 0.8853\n",
      "Epoch 34/50\n",
      "1563/1563 [==============================] - 3s 2ms/step - loss: 0.2139 - accuracy: 0.9248 - val_loss: 0.3222 - val_accuracy: 0.8849\n",
      "Epoch 35/50\n",
      "1563/1563 [==============================] - 3s 2ms/step - loss: 0.2120 - accuracy: 0.9244 - val_loss: 0.3228 - val_accuracy: 0.8860\n",
      "Epoch 36/50\n",
      "1563/1563 [==============================] - 3s 2ms/step - loss: 0.2072 - accuracy: 0.9259 - val_loss: 0.3206 - val_accuracy: 0.8868\n",
      "Epoch 37/50\n",
      "1563/1563 [==============================] - 3s 2ms/step - loss: 0.2047 - accuracy: 0.9277 - val_loss: 0.3298 - val_accuracy: 0.8810\n",
      "Epoch 38/50\n",
      "1563/1563 [==============================] - 3s 2ms/step - loss: 0.2006 - accuracy: 0.9295 - val_loss: 0.3219 - val_accuracy: 0.8857\n",
      "Epoch 39/50\n",
      "1563/1563 [==============================] - 3s 2ms/step - loss: 0.1977 - accuracy: 0.9297 - val_loss: 0.3486 - val_accuracy: 0.8749\n",
      "Epoch 40/50\n",
      "1563/1563 [==============================] - 3s 2ms/step - loss: 0.1942 - accuracy: 0.9297 - val_loss: 0.3254 - val_accuracy: 0.8855\n",
      "Epoch 41/50\n",
      "1563/1563 [==============================] - 3s 2ms/step - loss: 0.1905 - accuracy: 0.9321 - val_loss: 0.3288 - val_accuracy: 0.8884\n",
      "Epoch 42/50\n",
      "1563/1563 [==============================] - 3s 2ms/step - loss: 0.1888 - accuracy: 0.9340 - val_loss: 0.3265 - val_accuracy: 0.8869\n",
      "Epoch 43/50\n",
      "1563/1563 [==============================] - 3s 2ms/step - loss: 0.1852 - accuracy: 0.9338 - val_loss: 0.3078 - val_accuracy: 0.8923\n",
      "Epoch 44/50\n",
      "1563/1563 [==============================] - 3s 2ms/step - loss: 0.1813 - accuracy: 0.9360 - val_loss: 0.3147 - val_accuracy: 0.8891\n",
      "Epoch 45/50\n",
      "1563/1563 [==============================] - 3s 2ms/step - loss: 0.1786 - accuracy: 0.9374 - val_loss: 0.3292 - val_accuracy: 0.8861\n",
      "Epoch 46/50\n",
      "1563/1563 [==============================] - 3s 2ms/step - loss: 0.1775 - accuracy: 0.9370 - val_loss: 0.3241 - val_accuracy: 0.8865\n",
      "Epoch 47/50\n",
      "1563/1563 [==============================] - 3s 2ms/step - loss: 0.1730 - accuracy: 0.9392 - val_loss: 0.3125 - val_accuracy: 0.8916\n",
      "Epoch 48/50\n",
      "1563/1563 [==============================] - 3s 2ms/step - loss: 0.1709 - accuracy: 0.9385 - val_loss: 0.3258 - val_accuracy: 0.8875\n",
      "Epoch 49/50\n",
      "1563/1563 [==============================] - 3s 2ms/step - loss: 0.1670 - accuracy: 0.9416 - val_loss: 0.3941 - val_accuracy: 0.8642\n",
      "Epoch 50/50\n",
      "1563/1563 [==============================] - 3s 2ms/step - loss: 0.1653 - accuracy: 0.9418 - val_loss: 0.3207 - val_accuracy: 0.8877\n"
     ]
    }
   ],
   "source": [
    "history = model.fit(x_train , y_train , epochs = 50 , validation_data = (x_valid , y_valid))\n",
    "#if we add this line again in a new cell it will continue from the last epoch (it will not start from the beginning)."
   ]
  },
  {
   "cell_type": "code",
   "execution_count": 23,
   "metadata": {},
   "outputs": [],
   "source": [
    "#notice that the accuracy is 96 while the validation accuracy is 89. this is called overfitting.\n",
    "#i close vs and reopen it to restart the session to restore the old model that didn't overfit yet.\n",
    "#you will now find the accurcay is 94 and the val accuracy is 88. this is close to overfitting but better than the previous results."
   ]
  },
  {
   "cell_type": "code",
   "execution_count": 24,
   "metadata": {},
   "outputs": [
    {
     "data": {
      "image/png": "[encoded data removed]",
      "text/plain": [
       "<Figure size 800x500 with 1 Axes>"
      ]
     },
     "metadata": {},
     "output_type": "display_data"
    }
   ],
   "source": [
    "pd.DataFrame(history.history).plot(figsize=(8, 5))\n",
    "plt.grid(True)\n",
    "plt.gca().set_ylim(0, 1)\n",
    "plt.show()"
   ]
  },
  {
   "cell_type": "code",
   "execution_count": 25,
   "metadata": {},
   "outputs": [
    {
     "name": "stdout",
     "output_type": "stream",
     "text": [
      "313/313 [==============================] - 0s 1ms/step - loss: 0.3434 - accuracy: 0.8842\n"
     ]
    },
    {
     "data": {
      "text/plain": [
       "[0.34337368607521057, 0.8841999769210815]"
      ]
     },
     "execution_count": 25,
     "metadata": {},
     "output_type": "execute_result"
    }
   ],
   "source": [
    "model.evaluate(x_test , y_test)"
   ]
  },
  {
   "cell_type": "code",
   "execution_count": 28,
   "metadata": {},
   "outputs": [
    {
     "name": "stdout",
     "output_type": "stream",
     "text": [
      "1/1 [==============================] - 0s 20ms/step - loss: 9.8847e-04 - accuracy: 1.0000\n"
     ]
    },
    {
     "data": {
      "text/plain": [
       "[0.0009884715545922518, 1.0]"
      ]
     },
     "execution_count": 28,
     "metadata": {},
     "output_type": "execute_result"
    }
   ],
   "source": [
    "#to evaluate only the first sample:\n",
    "model.evaluate(x_test[0:1], y_test[0:1])"
   ]
  },
  {
   "cell_type": "code",
   "execution_count": 29,
   "metadata": {},
   "outputs": [
    {
     "name": "stdout",
     "output_type": "stream",
     "text": [
      "1/1 [==============================] - 0s 64ms/step\n"
     ]
    },
    {
     "data": {
      "text/plain": [
       "array([[0., 0., 0., 0., 0., 0., 0., 0., 0., 1.],\n",
       "       [0., 0., 1., 0., 0., 0., 0., 0., 0., 0.],\n",
       "       [0., 1., 0., 0., 0., 0., 0., 0., 0., 0.]], dtype=float32)"
      ]
     },
     "execution_count": 29,
     "metadata": {},
     "output_type": "execute_result"
    }
   ],
   "source": [
    "x_new = x_test[:3]                           #we took the first 3 rows of the test set and predicted the probabilities of each class for each row\n",
    "yprob = model.predict(x_new)\n",
    "yprob.round(2)"
   ]
  },
  {
   "cell_type": "code",
   "execution_count": 32,
   "metadata": {},
   "outputs": [
    {
     "name": "stdout",
     "output_type": "stream",
     "text": [
      "1/1 [==============================] - 0s 8ms/step\n"
     ]
    },
    {
     "data": {
      "text/plain": [
       "array([9, 2, 1], dtype=int64)"
      ]
     },
     "execution_count": 32,
     "metadata": {},
     "output_type": "execute_result"
    }
   ],
   "source": [
    "y_pred = np.argmax(model.predict(x_new), axis=1)                   #we got the labels of the predicted images\n",
    "y_pred"
   ]
  },
  {
   "cell_type": "code",
   "execution_count": 33,
   "metadata": {},
   "outputs": [
    {
     "data": {
      "text/plain": [
       "array(['Ankle boot', 'Pullover', 'Trouser'], dtype='<U11')"
      ]
     },
     "execution_count": 33,
     "metadata": {},
     "output_type": "execute_result"
    }
   ],
   "source": [
    "np.array(class_names)[y_pred]                                      #to know the predicted class itself"
   ]
  },
  {
   "cell_type": "code",
   "execution_count": null,
   "metadata": {},
   "outputs": [],
   "source": []
  }
 ],
 "metadata": {
  "kernelspec": {
   "display_name": "Python 3",
   "language": "python",
   "name": "python3"
  },
  "language_info": {
   "codemirror_mode": {
    "name": "ipython",
    "version": 3
   },
   "file_extension": ".py",
   "mimetype": "text/x-python",
   "name": "python",
   "nbconvert_exporter": "python",
   "pygments_lexer": "ipython3",
   "version": "3.9.9"
  },
  "orig_nbformat": 4
 },
 "nbformat": 4,
 "nbformat_minor": 2
}
