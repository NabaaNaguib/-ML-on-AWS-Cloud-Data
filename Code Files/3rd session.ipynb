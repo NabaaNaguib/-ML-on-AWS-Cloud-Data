{
 "cells": [
  {
   "cell_type": "code",
   "execution_count": 1,
   "metadata": {},
   "outputs": [],
   "source": [
    "import pandas as pd"
   ]
  },
  {
   "cell_type": "code",
   "execution_count": 2,
   "metadata": {},
   "outputs": [
    {
     "data": {
      "text/plain": [
       "0    0.50\n",
       "1    0.25\n",
       "2    0.75\n",
       "3    1.00\n",
       "dtype: float64"
      ]
     },
     "execution_count": 2,
     "metadata": {},
     "output_type": "execute_result"
    }
   ],
   "source": [
    "data = pd.Series([0.5,0.25,0.75,1])\n",
    "data "
   ]
  },
  {
   "cell_type": "code",
   "execution_count": 4,
   "metadata": {},
   "outputs": [
    {
     "data": {
      "text/plain": [
       "array([0.5 , 0.25, 0.75, 1.  ])"
      ]
     },
     "execution_count": 4,
     "metadata": {},
     "output_type": "execute_result"
    }
   ],
   "source": [
    "import numpy as np \n",
    "data2 = np.array([0.5,0.25,0.75,1])\n",
    "print(data2)\n",
    "\n",
    "#notice the difference between the same data represented once in series data frame and once as a numpy array\n",
    "#for the series data frame, the index is shown on the left side."
   ]
  },
  {
   "cell_type": "code",
   "execution_count": 10,
   "metadata": {},
   "outputs": [
    {
     "name": "stdout",
     "output_type": "stream",
     "text": [
      "[0.5  0.25 0.75 1.  ]\n",
      "<class 'pandas.core.series.Series'>\n",
      "<class 'numpy.ndarray'>\n",
      "RangeIndex(start=0, stop=4, step=1)\n",
      "__________________________________________________\n",
      "0.5\n",
      "1    0.25\n",
      "2    0.75\n",
      "dtype: float64\n"
     ]
    }
   ],
   "source": [
    "print(data.values)\n",
    "print(type(data))\n",
    "print(type(data.values))\n",
    "print(data.index)\n",
    "print(\"_\"*50)\n",
    "#indexing and slicing also works here for the series dataframes\n",
    "print(data[0])\n",
    "print(data[1:3])"
   ]
  },
  {
   "cell_type": "code",
   "execution_count": 16,
   "metadata": {},
   "outputs": [
    {
     "name": "stdout",
     "output_type": "stream",
     "text": [
      "a    0.50\n",
      "b    0.25\n",
      "c    0.75\n",
      "d    1.00\n",
      "dtype: float64\n"
     ]
    }
   ],
   "source": [
    "data = pd.Series([0.5,0.25,0.75,1] , index = ['a','b','c','d'])\n",
    "print(data)\n",
    "#if we input index = that is not the same number as the data?\n",
    "#lets see\n",
    "#data = pd.Series([0.5,0.25,0.75,1] , index = ['a','b','c'])       ###,'e'])\n",
    "#print(data)"
   ]
  },
  {
   "cell_type": "code",
   "execution_count": 20,
   "metadata": {},
   "outputs": [
    {
     "name": "stdout",
     "output_type": "stream",
     "text": [
      "2\n",
      "0.25\n",
      "0.25\n"
     ]
    }
   ],
   "source": [
    "#datas as dictionary:\n",
    "data3 = {'a':1 , 'b':2}\n",
    "print(data3['b'])                    #reminder that the key is the index (we access the value through the key)\n",
    "\n",
    "#now back to the data dataframe:\n",
    "print(data['b'])                     #this is the same as data.b\n",
    "print(data.b)                        \n",
    "#indexing a series dataframe can be assigned to anything you want literally."
   ]
  },
  {
   "cell_type": "code",
   "execution_count": 22,
   "metadata": {},
   "outputs": [
    {
     "data": {
      "text/plain": [
       "{'california': 123456,\n",
       " 'texas': 234567,\n",
       " 'florida': 345678,\n",
       " 'new york': 456789,\n",
       " 'pennsylvania': 567890}"
      ]
     },
     "execution_count": 22,
     "metadata": {},
     "output_type": "execute_result"
    }
   ],
   "source": [
    "pop_dict = {\"california\":123456 , \"texas\": 234567, \"florida\": 345678, \"new york\": 456789, \"pennsylvania\": 567890}\n",
    "\n",
    "pop_dict"
   ]
  },
  {
   "cell_type": "code",
   "execution_count": 24,
   "metadata": {},
   "outputs": [
    {
     "data": {
      "text/plain": [
       "california      123456\n",
       "texas           234567\n",
       "florida         345678\n",
       "new york        456789\n",
       "pennsylvania    567890\n",
       "dtype: int64"
      ]
     },
     "execution_count": 24,
     "metadata": {},
     "output_type": "execute_result"
    }
   ],
   "source": [
    "population = pd.Series(pop_dict)\n",
    "population"
   ]
  },
  {
   "cell_type": "code",
   "execution_count": 27,
   "metadata": {},
   "outputs": [
    {
     "name": "stdout",
     "output_type": "stream",
     "text": [
      "california    123456\n",
      "texas         234567\n",
      "florida       345678\n",
      "new york      456789\n",
      "dtype: int64\n",
      "__________________________________________________\n",
      "california    123456\n",
      "texas         234567\n",
      "florida       345678\n",
      "dtype: int64\n"
     ]
    }
   ],
   "source": [
    "print(population[\"california\" : 'new york'])     #notice that it includes new york, that is becuase we are not using implicit indexing, we are using explicit indexing. (we set the indexing ourselves).\n",
    "print(\"_\"*50)\n",
    "print(population[0:3])                           #notice that it does not include 3, that is becuase we are using implicit indexing, we are not using explicit indexing."
   ]
  },
  {
   "cell_type": "code",
   "execution_count": 29,
   "metadata": {},
   "outputs": [
    {
     "data": {
      "text/plain": [
       "100    5\n",
       "200    5\n",
       "300    5\n",
       "dtype: int64"
      ]
     },
     "execution_count": 29,
     "metadata": {},
     "output_type": "execute_result"
    }
   ],
   "source": [
    "pd.Series(5 , index = [100,200,300])      #if the index argument is more than the data argument, the data is repeated"
   ]
  },
  {
   "cell_type": "code",
   "execution_count": 30,
   "metadata": {},
   "outputs": [
    {
     "data": {
      "text/plain": [
       "2    a\n",
       "1    b\n",
       "3    c\n",
       "dtype: object"
      ]
     },
     "execution_count": 30,
     "metadata": {},
     "output_type": "execute_result"
    }
   ],
   "source": [
    "pd.Series({2:'a', 1:'b', 3:'c'})\n"
   ]
  },
  {
   "cell_type": "code",
   "execution_count": 31,
   "metadata": {},
   "outputs": [
    {
     "data": {
      "text/plain": [
       "1    b\n",
       "2    a\n",
       "dtype: object"
      ]
     },
     "execution_count": 31,
     "metadata": {},
     "output_type": "execute_result"
    }
   ],
   "source": [
    "pd.Series({2:'a', 1:'b', 3:'c'} , index=[1,2])\n",
    "#if the index argument is less than the number of data. it will show the index argument only. (i specified the index as 1 and 2 but the data is 3. so it only shows 1 and 2)."
   ]
  },
  {
   "cell_type": "code",
   "execution_count": 32,
   "metadata": {},
   "outputs": [],
   "source": [
    "area_dict = {\"california\":12 , \"texas\": 23, \"florida\": 34, \"new york\": 45, \"pennsylvania\": 56}\n",
    "area = pd.Series(area_dict)"
   ]
  },
  {
   "cell_type": "code",
   "execution_count": 33,
   "metadata": {},
   "outputs": [
    {
     "data": {
      "text/plain": [
       "california      12\n",
       "texas           23\n",
       "florida         34\n",
       "new york        45\n",
       "pennsylvania    56\n",
       "dtype: int64"
      ]
     },
     "execution_count": 33,
     "metadata": {},
     "output_type": "execute_result"
    }
   ],
   "source": [
    "area"
   ]
  },
  {
   "cell_type": "code",
   "execution_count": 34,
   "metadata": {},
   "outputs": [
    {
     "data": {
      "text/plain": [
       "california      123456\n",
       "texas           234567\n",
       "florida         345678\n",
       "new york        456789\n",
       "pennsylvania    567890\n",
       "dtype: int64"
      ]
     },
     "execution_count": 34,
     "metadata": {},
     "output_type": "execute_result"
    }
   ],
   "source": [
    "population"
   ]
  },
  {
   "cell_type": "code",
   "execution_count": 35,
   "metadata": {},
   "outputs": [
    {
     "data": {
      "text/html": [
       "<div>\n",
       "<style scoped>\n",
       "    .dataframe tbody tr th:only-of-type {\n",
       "        vertical-align: middle;\n",
       "    }\n",
       "\n",
       "    .dataframe tbody tr th {\n",
       "        vertical-align: top;\n",
       "    }\n",
       "\n",
       "    .dataframe thead th {\n",
       "        text-align: right;\n",
       "    }\n",
       "</style>\n",
       "<table border=\"1\" class=\"dataframe\">\n",
       "  <thead>\n",
       "    <tr style=\"text-align: right;\">\n",
       "      <th></th>\n",
       "      <th>population</th>\n",
       "      <th>area</th>\n",
       "    </tr>\n",
       "  </thead>\n",
       "  <tbody>\n",
       "    <tr>\n",
       "      <th>california</th>\n",
       "      <td>123456</td>\n",
       "      <td>12</td>\n",
       "    </tr>\n",
       "    <tr>\n",
       "      <th>texas</th>\n",
       "      <td>234567</td>\n",
       "      <td>23</td>\n",
       "    </tr>\n",
       "    <tr>\n",
       "      <th>florida</th>\n",
       "      <td>345678</td>\n",
       "      <td>34</td>\n",
       "    </tr>\n",
       "    <tr>\n",
       "      <th>new york</th>\n",
       "      <td>456789</td>\n",
       "      <td>45</td>\n",
       "    </tr>\n",
       "    <tr>\n",
       "      <th>pennsylvania</th>\n",
       "      <td>567890</td>\n",
       "      <td>56</td>\n",
       "    </tr>\n",
       "  </tbody>\n",
       "</table>\n",
       "</div>"
      ],
      "text/plain": [
       "              population  area\n",
       "california        123456    12\n",
       "texas             234567    23\n",
       "florida           345678    34\n",
       "new york          456789    45\n",
       "pennsylvania      567890    56"
      ]
     },
     "execution_count": 35,
     "metadata": {},
     "output_type": "execute_result"
    }
   ],
   "source": [
    "#now combine 2 series into a dataframe:\n",
    "states = pd.DataFrame({'population': population, 'area': area})     #key is the name of the column, value is the series itself.\n",
    "states"
   ]
  },
  {
   "cell_type": "code",
   "execution_count": 40,
   "metadata": {},
   "outputs": [
    {
     "name": "stdout",
     "output_type": "stream",
     "text": [
      "Index(['california', 'texas', 'florida', 'new york', 'pennsylvania'], dtype='object')\n",
      "Index(['population', 'area'], dtype='object')\n",
      "__________________________________________________\n",
      "california      12\n",
      "texas           23\n",
      "florida         34\n",
      "new york        45\n",
      "pennsylvania    56\n",
      "Name: area, dtype: int64\n",
      "__________________________________________________\n",
      "12\n"
     ]
    }
   ],
   "source": [
    "print(states.index)\n",
    "print(states.columns)\n",
    "print(\"_\"*50)\n",
    "print(states['area'])\n",
    "print(\"_\"*50)\n",
    "#what if we want to get just one value of a column?\n",
    "print(states['area']['california'])"
   ]
  },
  {
   "cell_type": "code",
   "execution_count": 41,
   "metadata": {},
   "outputs": [
    {
     "data": {
      "text/html": [
       "<div>\n",
       "<style scoped>\n",
       "    .dataframe tbody tr th:only-of-type {\n",
       "        vertical-align: middle;\n",
       "    }\n",
       "\n",
       "    .dataframe tbody tr th {\n",
       "        vertical-align: top;\n",
       "    }\n",
       "\n",
       "    .dataframe thead th {\n",
       "        text-align: right;\n",
       "    }\n",
       "</style>\n",
       "<table border=\"1\" class=\"dataframe\">\n",
       "  <thead>\n",
       "    <tr style=\"text-align: right;\">\n",
       "      <th></th>\n",
       "      <th>population</th>\n",
       "    </tr>\n",
       "  </thead>\n",
       "  <tbody>\n",
       "    <tr>\n",
       "      <th>california</th>\n",
       "      <td>123456</td>\n",
       "    </tr>\n",
       "    <tr>\n",
       "      <th>texas</th>\n",
       "      <td>234567</td>\n",
       "    </tr>\n",
       "    <tr>\n",
       "      <th>florida</th>\n",
       "      <td>345678</td>\n",
       "    </tr>\n",
       "    <tr>\n",
       "      <th>new york</th>\n",
       "      <td>456789</td>\n",
       "    </tr>\n",
       "    <tr>\n",
       "      <th>pennsylvania</th>\n",
       "      <td>567890</td>\n",
       "    </tr>\n",
       "  </tbody>\n",
       "</table>\n",
       "</div>"
      ],
      "text/plain": [
       "              population\n",
       "california        123456\n",
       "texas             234567\n",
       "florida           345678\n",
       "new york          456789\n",
       "pennsylvania      567890"
      ]
     },
     "execution_count": 41,
     "metadata": {},
     "output_type": "execute_result"
    }
   ],
   "source": [
    "#you an assign the 1D arrays to a dataframe not necessarily a series\n",
    "pd.DataFrame(population,columns=['population'])"
   ]
  },
  {
   "cell_type": "code",
   "execution_count": 45,
   "metadata": {},
   "outputs": [
    {
     "data": {
      "text/html": [
       "<div>\n",
       "<style scoped>\n",
       "    .dataframe tbody tr th:only-of-type {\n",
       "        vertical-align: middle;\n",
       "    }\n",
       "\n",
       "    .dataframe tbody tr th {\n",
       "        vertical-align: top;\n",
       "    }\n",
       "\n",
       "    .dataframe thead th {\n",
       "        text-align: right;\n",
       "    }\n",
       "</style>\n",
       "<table border=\"1\" class=\"dataframe\">\n",
       "  <thead>\n",
       "    <tr style=\"text-align: right;\">\n",
       "      <th></th>\n",
       "      <th>foo</th>\n",
       "      <th>bar</th>\n",
       "    </tr>\n",
       "  </thead>\n",
       "  <tbody>\n",
       "    <tr>\n",
       "      <th>a</th>\n",
       "      <td>1.200436</td>\n",
       "      <td>0.618558</td>\n",
       "    </tr>\n",
       "    <tr>\n",
       "      <th>b</th>\n",
       "      <td>0.435722</td>\n",
       "      <td>-0.540291</td>\n",
       "    </tr>\n",
       "    <tr>\n",
       "      <th>c</th>\n",
       "      <td>-0.020658</td>\n",
       "      <td>-2.022190</td>\n",
       "    </tr>\n",
       "  </tbody>\n",
       "</table>\n",
       "</div>"
      ],
      "text/plain": [
       "        foo       bar\n",
       "a  1.200436  0.618558\n",
       "b  0.435722 -0.540291\n",
       "c -0.020658 -2.022190"
      ]
     },
     "execution_count": 45,
     "metadata": {},
     "output_type": "execute_result"
    }
   ],
   "source": [
    "#creating a random dataframe:\n",
    "pd.DataFrame(np.random.randn(3,2), columns=['foo', 'bar'], index=['a', 'b', 'c'])"
   ]
  },
  {
   "cell_type": "code",
   "execution_count": 46,
   "metadata": {},
   "outputs": [
    {
     "data": {
      "text/plain": [
       "False"
      ]
     },
     "execution_count": 46,
     "metadata": {},
     "output_type": "execute_result"
    }
   ],
   "source": [
    "\"los angeles\" in area\n",
    "#notice you can use \"in\" to check if a string or index or value whtever you wanna call it is in a list."
   ]
  },
  {
   "cell_type": "code",
   "execution_count": 48,
   "metadata": {},
   "outputs": [
    {
     "data": {
      "text/plain": [
       "a    0.50\n",
       "b    0.25\n",
       "c    0.75\n",
       "d    1.00\n",
       "e    1.25\n",
       "dtype: float64"
      ]
     },
     "execution_count": 48,
     "metadata": {},
     "output_type": "execute_result"
    }
   ],
   "source": [
    "#i can add a value to a series\n",
    "data['e'] = 1.25\n",
    "data"
   ]
  },
  {
   "cell_type": "code",
   "execution_count": 50,
   "metadata": {},
   "outputs": [
    {
     "data": {
      "text/plain": [
       "a    0.50\n",
       "e    1.25\n",
       "dtype: float64"
      ]
     },
     "execution_count": 50,
     "metadata": {},
     "output_type": "execute_result"
    }
   ],
   "source": [
    "data[[\"a\" , \"e\"]]    #this is when we want to select very specific columns, we use double square brackets (in numpy it was called fancy indexing)."
   ]
  },
  {
   "cell_type": "code",
   "execution_count": 52,
   "metadata": {},
   "outputs": [
    {
     "data": {
      "text/plain": [
       "a    0.50\n",
       "c    0.75\n",
       "dtype: float64"
      ]
     },
     "execution_count": 52,
     "metadata": {},
     "output_type": "execute_result"
    }
   ],
   "source": [
    "data[(data>0.3) & (data<0.8)]      #we can use conditions to filter data."
   ]
  },
  {
   "cell_type": "code",
   "execution_count": 53,
   "metadata": {},
   "outputs": [
    {
     "data": {
      "text/plain": [
       "3     a\n",
       "5     b\n",
       "10    c\n",
       "20    d\n",
       "dtype: object"
      ]
     },
     "execution_count": 53,
     "metadata": {},
     "output_type": "execute_result"
    }
   ],
   "source": [
    "#if index argument is integer:\n",
    "data4 = pd.Series([\"a\",\"b\",\"c\",\"d\"] , index = [3,5,10,20])\n",
    "data4"
   ]
  },
  {
   "cell_type": "code",
   "execution_count": 54,
   "metadata": {},
   "outputs": [
    {
     "data": {
      "text/plain": [
       "'a'"
      ]
     },
     "execution_count": 54,
     "metadata": {},
     "output_type": "execute_result"
    }
   ],
   "source": [
    "data4[3]"
   ]
  },
  {
   "cell_type": "code",
   "execution_count": 60,
   "metadata": {},
   "outputs": [
    {
     "name": "stdout",
     "output_type": "stream",
     "text": [
      "a\n",
      "d\n"
     ]
    }
   ],
   "source": [
    "#the explicit and implicit indexing can be more clear with the loc and iloc methods:\n",
    "print(data4.loc[3])\n",
    "print(data4.iloc[3])    #iloc for index location which is the implicit indexing"
   ]
  },
  {
   "cell_type": "code",
   "execution_count": 66,
   "metadata": {},
   "outputs": [
    {
     "data": {
      "text/html": [
       "<div>\n",
       "<style scoped>\n",
       "    .dataframe tbody tr th:only-of-type {\n",
       "        vertical-align: middle;\n",
       "    }\n",
       "\n",
       "    .dataframe tbody tr th {\n",
       "        vertical-align: top;\n",
       "    }\n",
       "\n",
       "    .dataframe thead th {\n",
       "        text-align: right;\n",
       "    }\n",
       "</style>\n",
       "<table border=\"1\" class=\"dataframe\">\n",
       "  <thead>\n",
       "    <tr style=\"text-align: right;\">\n",
       "      <th></th>\n",
       "      <th>pop</th>\n",
       "      <th>area</th>\n",
       "      <th>density</th>\n",
       "    </tr>\n",
       "  </thead>\n",
       "  <tbody>\n",
       "    <tr>\n",
       "      <th>california</th>\n",
       "      <td>123456</td>\n",
       "      <td>12</td>\n",
       "      <td>10288.000000</td>\n",
       "    </tr>\n",
       "    <tr>\n",
       "      <th>texas</th>\n",
       "      <td>234567</td>\n",
       "      <td>23</td>\n",
       "      <td>10198.565217</td>\n",
       "    </tr>\n",
       "    <tr>\n",
       "      <th>florida</th>\n",
       "      <td>345678</td>\n",
       "      <td>34</td>\n",
       "      <td>10167.000000</td>\n",
       "    </tr>\n",
       "    <tr>\n",
       "      <th>new york</th>\n",
       "      <td>456789</td>\n",
       "      <td>45</td>\n",
       "      <td>10150.866667</td>\n",
       "    </tr>\n",
       "    <tr>\n",
       "      <th>pennsylvania</th>\n",
       "      <td>567890</td>\n",
       "      <td>56</td>\n",
       "      <td>10140.892857</td>\n",
       "    </tr>\n",
       "  </tbody>\n",
       "</table>\n",
       "</div>"
      ],
      "text/plain": [
       "                 pop  area       density\n",
       "california    123456    12  10288.000000\n",
       "texas         234567    23  10198.565217\n",
       "florida       345678    34  10167.000000\n",
       "new york      456789    45  10150.866667\n",
       "pennsylvania  567890    56  10140.892857"
      ]
     },
     "execution_count": 66,
     "metadata": {},
     "output_type": "execute_result"
    }
   ],
   "source": [
    "#assign the column name \"population\" to change to \"pop\" in the states dataframe:\n",
    "states.rename(columns={'population':'pop'}, inplace=True)\n",
    "states"
   ]
  },
  {
   "cell_type": "code",
   "execution_count": 67,
   "metadata": {},
   "outputs": [
    {
     "data": {
      "text/plain": [
       "False"
      ]
     },
     "execution_count": 67,
     "metadata": {},
     "output_type": "execute_result"
    }
   ],
   "source": [
    "states['pop']                                        #avoid using spaces in naming the column becasue you will not be able to use states.pop name     meanwhile you will be able to only use states['pop name']\n",
    "states.pop is states['pop']                          #this is not the same as states.pop() which is a method"
   ]
  },
  {
   "cell_type": "code",
   "execution_count": 68,
   "metadata": {},
   "outputs": [
    {
     "data": {
      "text/html": [
       "<div>\n",
       "<style scoped>\n",
       "    .dataframe tbody tr th:only-of-type {\n",
       "        vertical-align: middle;\n",
       "    }\n",
       "\n",
       "    .dataframe tbody tr th {\n",
       "        vertical-align: top;\n",
       "    }\n",
       "\n",
       "    .dataframe thead th {\n",
       "        text-align: right;\n",
       "    }\n",
       "</style>\n",
       "<table border=\"1\" class=\"dataframe\">\n",
       "  <thead>\n",
       "    <tr style=\"text-align: right;\">\n",
       "      <th></th>\n",
       "      <th>population</th>\n",
       "      <th>area</th>\n",
       "      <th>density</th>\n",
       "    </tr>\n",
       "  </thead>\n",
       "  <tbody>\n",
       "    <tr>\n",
       "      <th>california</th>\n",
       "      <td>123456</td>\n",
       "      <td>12</td>\n",
       "      <td>10288.000000</td>\n",
       "    </tr>\n",
       "    <tr>\n",
       "      <th>texas</th>\n",
       "      <td>234567</td>\n",
       "      <td>23</td>\n",
       "      <td>10198.565217</td>\n",
       "    </tr>\n",
       "    <tr>\n",
       "      <th>florida</th>\n",
       "      <td>345678</td>\n",
       "      <td>34</td>\n",
       "      <td>10167.000000</td>\n",
       "    </tr>\n",
       "    <tr>\n",
       "      <th>new york</th>\n",
       "      <td>456789</td>\n",
       "      <td>45</td>\n",
       "      <td>10150.866667</td>\n",
       "    </tr>\n",
       "    <tr>\n",
       "      <th>pennsylvania</th>\n",
       "      <td>567890</td>\n",
       "      <td>56</td>\n",
       "      <td>10140.892857</td>\n",
       "    </tr>\n",
       "  </tbody>\n",
       "</table>\n",
       "</div>"
      ],
      "text/plain": [
       "              population  area       density\n",
       "california        123456    12  10288.000000\n",
       "texas             234567    23  10198.565217\n",
       "florida           345678    34  10167.000000\n",
       "new york          456789    45  10150.866667\n",
       "pennsylvania      567890    56  10140.892857"
      ]
     },
     "execution_count": 68,
     "metadata": {},
     "output_type": "execute_result"
    }
   ],
   "source": [
    "#inserting a new column to a dataframe:\n",
    "states.rename(columns={'pop':'population'}, inplace=True)           #the inplace=True is to make the change permanent.\n",
    "states['density'] = states['population'] / states['area']\n",
    "states"
   ]
  },
  {
   "cell_type": "code",
   "execution_count": 73,
   "metadata": {},
   "outputs": [
    {
     "name": "stdout",
     "output_type": "stream",
     "text": [
      "123456\n",
      "12\n",
      "              population  area       density\n",
      "california        123456    12  10288.000000\n",
      "texas             234567    23  10198.565217\n",
      "florida           345678    34  10167.000000\n",
      "new york          456789    45  10150.866667\n",
      "pennsylvania      567890    56  10140.892857\n",
      "____________________________________________________________________________________________________\n",
      "              area  population\n",
      "california      12      123456\n",
      "texas           23      234567\n",
      "florida         34      345678\n",
      "new york        45      456789\n",
      "pennsylvania    56      567890\n",
      "              area\n",
      "california      12\n",
      "texas           23\n",
      "florida         34\n",
      "new york        45\n",
      "pennsylvania    56\n"
     ]
    }
   ],
   "source": [
    "#slicing the data frame using loc and iloc\n",
    "print(states.iloc[0, 0])\n",
    "print(states.iloc[0, 1])\n",
    "print(states.iloc[:, :3])\n",
    "print(\"_\"*100)\n",
    "print(states.loc[:, [\"area\", \"population\"]])\n",
    "print(states.loc[:, [\"area\"]])"
   ]
  },
  {
   "cell_type": "code",
   "execution_count": 74,
   "metadata": {},
   "outputs": [
    {
     "data": {
      "text/html": [
       "<div>\n",
       "<style scoped>\n",
       "    .dataframe tbody tr th:only-of-type {\n",
       "        vertical-align: middle;\n",
       "    }\n",
       "\n",
       "    .dataframe tbody tr th {\n",
       "        vertical-align: top;\n",
       "    }\n",
       "\n",
       "    .dataframe thead th {\n",
       "        text-align: right;\n",
       "    }\n",
       "</style>\n",
       "<table border=\"1\" class=\"dataframe\">\n",
       "  <thead>\n",
       "    <tr style=\"text-align: right;\">\n",
       "      <th></th>\n",
       "      <th>population</th>\n",
       "      <th>area</th>\n",
       "      <th>density</th>\n",
       "    </tr>\n",
       "  </thead>\n",
       "  <tbody>\n",
       "    <tr>\n",
       "      <th>california</th>\n",
       "      <td>-0.406737</td>\n",
       "      <td>0.207912</td>\n",
       "      <td>-0.469472</td>\n",
       "    </tr>\n",
       "    <tr>\n",
       "      <th>texas</th>\n",
       "      <td>-0.453990</td>\n",
       "      <td>0.390731</td>\n",
       "      <td>0.878273</td>\n",
       "    </tr>\n",
       "    <tr>\n",
       "      <th>florida</th>\n",
       "      <td>0.978148</td>\n",
       "      <td>0.559193</td>\n",
       "      <td>0.998630</td>\n",
       "    </tr>\n",
       "    <tr>\n",
       "      <th>new york</th>\n",
       "      <td>-0.777146</td>\n",
       "      <td>0.707107</td>\n",
       "      <td>0.944758</td>\n",
       "    </tr>\n",
       "    <tr>\n",
       "      <th>pennsylvania</th>\n",
       "      <td>0.173648</td>\n",
       "      <td>0.829038</td>\n",
       "      <td>0.873712</td>\n",
       "    </tr>\n",
       "  </tbody>\n",
       "</table>\n",
       "</div>"
      ],
      "text/plain": [
       "              population      area   density\n",
       "california     -0.406737  0.207912 -0.469472\n",
       "texas          -0.453990  0.390731  0.878273\n",
       "florida         0.978148  0.559193  0.998630\n",
       "new york       -0.777146  0.707107  0.944758\n",
       "pennsylvania    0.173648  0.829038  0.873712"
      ]
     },
     "execution_count": 74,
     "metadata": {},
     "output_type": "execute_result"
    }
   ],
   "source": [
    "#we can use universal functions of numpy to perform operations on dataframes:\n",
    "np.sin(states * np.pi / 180)"
   ]
  },
  {
   "cell_type": "code",
   "execution_count": 76,
   "metadata": {},
   "outputs": [
    {
     "data": {
      "text/html": [
       "<div>\n",
       "<style scoped>\n",
       "    .dataframe tbody tr th:only-of-type {\n",
       "        vertical-align: middle;\n",
       "    }\n",
       "\n",
       "    .dataframe tbody tr th {\n",
       "        vertical-align: top;\n",
       "    }\n",
       "\n",
       "    .dataframe thead th {\n",
       "        text-align: right;\n",
       "    }\n",
       "</style>\n",
       "<table border=\"1\" class=\"dataframe\">\n",
       "  <thead>\n",
       "    <tr style=\"text-align: right;\">\n",
       "      <th></th>\n",
       "      <th>population</th>\n",
       "      <th>area</th>\n",
       "    </tr>\n",
       "  </thead>\n",
       "  <tbody>\n",
       "    <tr>\n",
       "      <th>los angelos</th>\n",
       "      <td>12345.0</td>\n",
       "      <td>NaN</td>\n",
       "    </tr>\n",
       "    <tr>\n",
       "      <th>california</th>\n",
       "      <td>123456.0</td>\n",
       "      <td>12.0</td>\n",
       "    </tr>\n",
       "    <tr>\n",
       "      <th>texas</th>\n",
       "      <td>234567.0</td>\n",
       "      <td>23.0</td>\n",
       "    </tr>\n",
       "    <tr>\n",
       "      <th>florida</th>\n",
       "      <td>345678.0</td>\n",
       "      <td>34.0</td>\n",
       "    </tr>\n",
       "    <tr>\n",
       "      <th>new york</th>\n",
       "      <td>456789.0</td>\n",
       "      <td>45.0</td>\n",
       "    </tr>\n",
       "    <tr>\n",
       "      <th>pennsylvania</th>\n",
       "      <td>567890.0</td>\n",
       "      <td>56.0</td>\n",
       "    </tr>\n",
       "    <tr>\n",
       "      <th>ohio</th>\n",
       "      <td>NaN</td>\n",
       "      <td>67.0</td>\n",
       "    </tr>\n",
       "  </tbody>\n",
       "</table>\n",
       "</div>"
      ],
      "text/plain": [
       "              population  area\n",
       "los angelos      12345.0   NaN\n",
       "california      123456.0  12.0\n",
       "texas           234567.0  23.0\n",
       "florida         345678.0  34.0\n",
       "new york        456789.0  45.0\n",
       "pennsylvania    567890.0  56.0\n",
       "ohio                 NaN  67.0"
      ]
     },
     "execution_count": 76,
     "metadata": {},
     "output_type": "execute_result"
    }
   ],
   "source": [
    "pop_dict = {\"los angelos\":12345 ,\"california\":123456 , \"texas\": 234567, \"florida\": 345678, \"new york\": 456789, \"pennsylvania\": 567890}\n",
    "area_dict = {\"california\":12 , \"texas\": 23, \"florida\": 34, \"new york\": 45, \"pennsylvania\": 56 , \"ohio\": 67}\n",
    "states2 = pd.DataFrame({\"population\":pop_dict, \"area\":area_dict})\n",
    "states2\n",
    "#if we combine 2 dictionaries with different keys, the result will be a dataframe with the union of the keys but NaN values for missing data."
   ]
  },
  {
   "cell_type": "code",
   "execution_count": 81,
   "metadata": {},
   "outputs": [],
   "source": [
    "#states2.add( , fill_value=0)\n",
    "\n",
    "\n",
    "#parameters are learned by the model, hyperparameters are set by the modeler.\n",
    "#hyperparameters are set before the model is trained.\n"
   ]
  }
 ],
 "metadata": {
  "kernelspec": {
   "display_name": "Python 3",
   "language": "python",
   "name": "python3"
  },
  "language_info": {
   "codemirror_mode": {
    "name": "ipython",
    "version": 3
   },
   "file_extension": ".py",
   "mimetype": "text/x-python",
   "name": "python",
   "nbconvert_exporter": "python",
   "pygments_lexer": "ipython3",
   "version": "3.9.9"
  },
  "orig_nbformat": 4
 },
 "nbformat": 4,
 "nbformat_minor": 2
}
